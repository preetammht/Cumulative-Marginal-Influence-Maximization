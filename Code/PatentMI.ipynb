{
  "nbformat": 4,
  "nbformat_minor": 0,
  "metadata": {
    "accelerator": "GPU",
    "colab": {
      "name": "BTP_Patent.ipynb",
      "provenance": [],
      "collapsed_sections": []
    },
    "kernelspec": {
      "display_name": "Python 3",
      "name": "python3"
    }
  },
  "cells": [
    {
      "cell_type": "code",
      "metadata": {
        "colab": {
          "base_uri": "https://localhost:8080/"
        },
        "id": "g9Zjso4XN6Ba",
        "outputId": "299d71a2-2ccb-4312-b2ec-7429819d96c5"
      },
      "source": [
        "%matplotlib inline\n",
        "import pandas as pd\n",
        "import networkx as nx\n",
        "!pip install fuzzywuzzy\n",
        "!pip install python-Levenshtein\n",
        "from fuzzywuzzy import fuzz\n",
        "import random\n",
        "import matplotlib.pyplot as plt\n",
        "from matplotlib import collections as mc\n",
        "import warnings\n",
        "import numpy as np\n",
        "from numpy import exp\n",
        "import plotly.graph_objects as go\n",
        "import statistics\n",
        "import time\n",
        "import os\n",
        "# from apgl.graph import VertexList\n",
        "from scipy.io import mmread, mminfo\n",
        "import networkx as nx \n",
        "warnings.filterwarnings('ignore')\n",
        "from scipy.stats import truncnorm\n",
        "import math\n",
        "import heapq\n",
        "import time"
      ],
      "execution_count": null,
      "outputs": [
        {
          "output_type": "stream",
          "text": [
            "Collecting fuzzywuzzy\n",
            "  Downloading https://files.pythonhosted.org/packages/43/ff/74f23998ad2f93b945c0309f825be92e04e0348e062026998b5eefef4c33/fuzzywuzzy-0.18.0-py2.py3-none-any.whl\n",
            "Installing collected packages: fuzzywuzzy\n",
            "Successfully installed fuzzywuzzy-0.18.0\n",
            "Collecting python-Levenshtein\n",
            "\u001b[?25l  Downloading https://files.pythonhosted.org/packages/2a/dc/97f2b63ef0fa1fd78dcb7195aca577804f6b2b51e712516cc0e902a9a201/python-Levenshtein-0.12.2.tar.gz (50kB)\n",
            "\u001b[K     |████████████████████████████████| 51kB 4.8MB/s \n",
            "\u001b[?25hRequirement already satisfied: setuptools in /usr/local/lib/python3.7/dist-packages (from python-Levenshtein) (56.1.0)\n",
            "Building wheels for collected packages: python-Levenshtein\n",
            "  Building wheel for python-Levenshtein (setup.py) ... \u001b[?25l\u001b[?25hdone\n",
            "  Created wheel for python-Levenshtein: filename=python_Levenshtein-0.12.2-cp37-cp37m-linux_x86_64.whl size=149803 sha256=be70db692d5898b376dc55e31cf61b7c256817b3ed056c130b9353b1eae1617e\n",
            "  Stored in directory: /root/.cache/pip/wheels/b3/26/73/4b48503bac73f01cf18e52cd250947049a7f339e940c5df8fc\n",
            "Successfully built python-Levenshtein\n",
            "Installing collected packages: python-Levenshtein\n",
            "Successfully installed python-Levenshtein-0.12.2\n"
          ],
          "name": "stdout"
        }
      ]
    },
    {
      "cell_type": "code",
      "metadata": {
        "id": "7_bohq0BFRWh"
      },
      "source": [
        "#! pip install pandas-profiling==2.7.1"
      ],
      "execution_count": null,
      "outputs": []
    },
    {
      "cell_type": "code",
      "metadata": {
        "id": "mUvaR75rFYf4"
      },
      "source": [
        "# from pandas_profiling import ProfileReport"
      ],
      "execution_count": null,
      "outputs": []
    },
    {
      "cell_type": "code",
      "metadata": {
        "id": "1niD-WkNBo4r"
      },
      "source": [
        "target_df = pd.read_csv(\"https://bitbucket.org/hari_narayanan_123/us_patents/raw/24a72c5789d3bacc4be3cc97aadd7aa08c3d1350/apat63_99.txt\")\n",
        "edge_df = pd.read_csv(\"https://bitbucket.org/hari_narayanan_123/us_patents/raw/24a72c5789d3bacc4be3cc97aadd7aa08c3d1350/cit-Patents.csv\", sep=\"\\t\")\n",
        "subcategory_df = pd.read_csv(\"https://bitbucket.org/hari_narayanan_123/us_patents/raw/6f2b72376fdb2ab11cdbd116bcc8c2c6f7dcc2a4/subcategories.txt\", sep=\"\\t\")\n",
        "class_df = pd.read_csv(\"https://bitbucket.org/hari_narayanan_123/us_patents/raw/6f2b72376fdb2ab11cdbd116bcc8c2c6f7dcc2a4/list_of_classes.txt\", sep=\"\\t\")\n",
        "country_df = pd.read_csv(\"https://bitbucket.org/hari_narayanan_123/us_patents/raw/a2ea6e59602867e94ce5890c2c0adb6a4bd8d23f/list_of_countries.txt\", sep=\"\\t\")"
      ],
      "execution_count": null,
      "outputs": []
    },
    {
      "cell_type": "code",
      "metadata": {
        "colab": {
          "base_uri": "https://localhost:8080/",
          "height": 204
        },
        "id": "WR0mgzaUp2L0",
        "outputId": "e1520a51-7918-4bc0-e3b2-716cf94fcbda"
      },
      "source": [
        "edge_df = edge_df.dropna()\n",
        "edge_df = edge_df.reset_index(drop=True)\n",
        "edge_df.head()"
      ],
      "execution_count": null,
      "outputs": [
        {
          "output_type": "execute_result",
          "data": {
            "text/html": [
              "<div>\n",
              "<style scoped>\n",
              "    .dataframe tbody tr th:only-of-type {\n",
              "        vertical-align: middle;\n",
              "    }\n",
              "\n",
              "    .dataframe tbody tr th {\n",
              "        vertical-align: top;\n",
              "    }\n",
              "\n",
              "    .dataframe thead th {\n",
              "        text-align: right;\n",
              "    }\n",
              "</style>\n",
              "<table border=\"1\" class=\"dataframe\">\n",
              "  <thead>\n",
              "    <tr style=\"text-align: right;\">\n",
              "      <th></th>\n",
              "      <th>FromNodeId</th>\n",
              "      <th>ToNodeId</th>\n",
              "    </tr>\n",
              "  </thead>\n",
              "  <tbody>\n",
              "    <tr>\n",
              "      <th>0</th>\n",
              "      <td>3858241</td>\n",
              "      <td>956203</td>\n",
              "    </tr>\n",
              "    <tr>\n",
              "      <th>1</th>\n",
              "      <td>3858241</td>\n",
              "      <td>1324234</td>\n",
              "    </tr>\n",
              "    <tr>\n",
              "      <th>2</th>\n",
              "      <td>3858241</td>\n",
              "      <td>3398406</td>\n",
              "    </tr>\n",
              "    <tr>\n",
              "      <th>3</th>\n",
              "      <td>3858241</td>\n",
              "      <td>3557384</td>\n",
              "    </tr>\n",
              "    <tr>\n",
              "      <th>4</th>\n",
              "      <td>3858241</td>\n",
              "      <td>3634889</td>\n",
              "    </tr>\n",
              "  </tbody>\n",
              "</table>\n",
              "</div>"
            ],
            "text/plain": [
              "   FromNodeId  ToNodeId\n",
              "0     3858241    956203\n",
              "1     3858241   1324234\n",
              "2     3858241   3398406\n",
              "3     3858241   3557384\n",
              "4     3858241   3634889"
            ]
          },
          "metadata": {
            "tags": []
          },
          "execution_count": 5
        }
      ]
    },
    {
      "cell_type": "code",
      "metadata": {
        "colab": {
          "base_uri": "https://localhost:8080/"
        },
        "id": "Ay8lQSlpmjkY",
        "outputId": "52bf4a1c-670b-4ed2-e5bf-451b97a5192c"
      },
      "source": [
        "# edge_df['ToNodeId'] = edge_df['ToNodeId'].fillna(0.0).astype(int)\n",
        "edge_df['ToNodeId'] = edge_df['ToNodeId'].astype(int)\n",
        "edge_df['ToNodeId'].dtype"
      ],
      "execution_count": null,
      "outputs": [
        {
          "output_type": "execute_result",
          "data": {
            "text/plain": [
              "dtype('int64')"
            ]
          },
          "metadata": {
            "tags": []
          },
          "execution_count": 6
        }
      ]
    },
    {
      "cell_type": "code",
      "metadata": {
        "colab": {
          "base_uri": "https://localhost:8080/",
          "height": 204
        },
        "id": "8yiLDdIOch02",
        "outputId": "88431e4c-9634-467e-a595-1f3df7691a7d"
      },
      "source": [
        "edge_df.head()"
      ],
      "execution_count": null,
      "outputs": [
        {
          "output_type": "execute_result",
          "data": {
            "text/html": [
              "<div>\n",
              "<style scoped>\n",
              "    .dataframe tbody tr th:only-of-type {\n",
              "        vertical-align: middle;\n",
              "    }\n",
              "\n",
              "    .dataframe tbody tr th {\n",
              "        vertical-align: top;\n",
              "    }\n",
              "\n",
              "    .dataframe thead th {\n",
              "        text-align: right;\n",
              "    }\n",
              "</style>\n",
              "<table border=\"1\" class=\"dataframe\">\n",
              "  <thead>\n",
              "    <tr style=\"text-align: right;\">\n",
              "      <th></th>\n",
              "      <th>FromNodeId</th>\n",
              "      <th>ToNodeId</th>\n",
              "    </tr>\n",
              "  </thead>\n",
              "  <tbody>\n",
              "    <tr>\n",
              "      <th>0</th>\n",
              "      <td>3858241</td>\n",
              "      <td>956203</td>\n",
              "    </tr>\n",
              "    <tr>\n",
              "      <th>1</th>\n",
              "      <td>3858241</td>\n",
              "      <td>1324234</td>\n",
              "    </tr>\n",
              "    <tr>\n",
              "      <th>2</th>\n",
              "      <td>3858241</td>\n",
              "      <td>3398406</td>\n",
              "    </tr>\n",
              "    <tr>\n",
              "      <th>3</th>\n",
              "      <td>3858241</td>\n",
              "      <td>3557384</td>\n",
              "    </tr>\n",
              "    <tr>\n",
              "      <th>4</th>\n",
              "      <td>3858241</td>\n",
              "      <td>3634889</td>\n",
              "    </tr>\n",
              "  </tbody>\n",
              "</table>\n",
              "</div>"
            ],
            "text/plain": [
              "   FromNodeId  ToNodeId\n",
              "0     3858241    956203\n",
              "1     3858241   1324234\n",
              "2     3858241   3398406\n",
              "3     3858241   3557384\n",
              "4     3858241   3634889"
            ]
          },
          "metadata": {
            "tags": []
          },
          "execution_count": 7
        }
      ]
    },
    {
      "cell_type": "markdown",
      "metadata": {
        "id": "gQrAEtZvtxVy"
      },
      "source": [
        "Preprocess the edge df"
      ]
    },
    {
      "cell_type": "code",
      "metadata": {
        "colab": {
          "base_uri": "https://localhost:8080/",
          "height": 224
        },
        "id": "bdYdD6YkqXmV",
        "outputId": "a27e7ddc-017a-46ba-efd9-7f27f3652f66"
      },
      "source": [
        "target_df = target_df.dropna()\n",
        "target_df = target_df.reset_index(drop=True)\n",
        "target_df.head()"
      ],
      "execution_count": null,
      "outputs": [
        {
          "output_type": "execute_result",
          "data": {
            "text/html": [
              "<div>\n",
              "<style scoped>\n",
              "    .dataframe tbody tr th:only-of-type {\n",
              "        vertical-align: middle;\n",
              "    }\n",
              "\n",
              "    .dataframe tbody tr th {\n",
              "        vertical-align: top;\n",
              "    }\n",
              "\n",
              "    .dataframe thead th {\n",
              "        text-align: right;\n",
              "    }\n",
              "</style>\n",
              "<table border=\"1\" class=\"dataframe\">\n",
              "  <thead>\n",
              "    <tr style=\"text-align: right;\">\n",
              "      <th></th>\n",
              "      <th>PATENT</th>\n",
              "      <th>GYEAR</th>\n",
              "      <th>GDATE</th>\n",
              "      <th>APPYEAR</th>\n",
              "      <th>COUNTRY</th>\n",
              "      <th>POSTATE</th>\n",
              "      <th>ASSIGNEE</th>\n",
              "      <th>ASSCODE</th>\n",
              "      <th>CLAIMS</th>\n",
              "      <th>NCLASS</th>\n",
              "      <th>CAT</th>\n",
              "      <th>SUBCAT</th>\n",
              "      <th>CMADE</th>\n",
              "      <th>CRECEIVE</th>\n",
              "      <th>RATIOCIT</th>\n",
              "      <th>GENERAL</th>\n",
              "      <th>ORIGINAL</th>\n",
              "      <th>FWDAPLAG</th>\n",
              "      <th>BCKGTLAG</th>\n",
              "      <th>SELFCTUB</th>\n",
              "      <th>SELFCTLB</th>\n",
              "      <th>SECDUPBD</th>\n",
              "      <th>SECDLWBD</th>\n",
              "    </tr>\n",
              "  </thead>\n",
              "  <tbody>\n",
              "    <tr>\n",
              "      <th>0</th>\n",
              "      <td>3858245</td>\n",
              "      <td>1975</td>\n",
              "      <td>5485</td>\n",
              "      <td>1972.0</td>\n",
              "      <td>US</td>\n",
              "      <td>NY</td>\n",
              "      <td>237715.0</td>\n",
              "      <td>2</td>\n",
              "      <td>5.0</td>\n",
              "      <td>623</td>\n",
              "      <td>3</td>\n",
              "      <td>39</td>\n",
              "      <td>7.0</td>\n",
              "      <td>11</td>\n",
              "      <td>0.8571</td>\n",
              "      <td>0.4959</td>\n",
              "      <td>0.2778</td>\n",
              "      <td>6.4545</td>\n",
              "      <td>9.2857</td>\n",
              "      <td>0.0</td>\n",
              "      <td>0.0000</td>\n",
              "      <td>0.00</td>\n",
              "      <td>0.00</td>\n",
              "    </tr>\n",
              "    <tr>\n",
              "      <th>1</th>\n",
              "      <td>3858251</td>\n",
              "      <td>1975</td>\n",
              "      <td>5485</td>\n",
              "      <td>1973.0</td>\n",
              "      <td>US</td>\n",
              "      <td>WI</td>\n",
              "      <td>445930.0</td>\n",
              "      <td>2</td>\n",
              "      <td>17.0</td>\n",
              "      <td>4</td>\n",
              "      <td>6</td>\n",
              "      <td>65</td>\n",
              "      <td>7.0</td>\n",
              "      <td>3</td>\n",
              "      <td>0.5714</td>\n",
              "      <td>0.4444</td>\n",
              "      <td>0.0000</td>\n",
              "      <td>3.3333</td>\n",
              "      <td>23.7143</td>\n",
              "      <td>1.0</td>\n",
              "      <td>0.1429</td>\n",
              "      <td>0.00</td>\n",
              "      <td>0.00</td>\n",
              "    </tr>\n",
              "    <tr>\n",
              "      <th>2</th>\n",
              "      <td>3858262</td>\n",
              "      <td>1975</td>\n",
              "      <td>5485</td>\n",
              "      <td>1973.0</td>\n",
              "      <td>US</td>\n",
              "      <td>MA</td>\n",
              "      <td>601600.0</td>\n",
              "      <td>2</td>\n",
              "      <td>8.0</td>\n",
              "      <td>470</td>\n",
              "      <td>5</td>\n",
              "      <td>59</td>\n",
              "      <td>6.0</td>\n",
              "      <td>4</td>\n",
              "      <td>1.0000</td>\n",
              "      <td>0.0000</td>\n",
              "      <td>0.6667</td>\n",
              "      <td>13.5000</td>\n",
              "      <td>5.3333</td>\n",
              "      <td>0.5</td>\n",
              "      <td>0.3333</td>\n",
              "      <td>0.25</td>\n",
              "      <td>0.25</td>\n",
              "    </tr>\n",
              "    <tr>\n",
              "      <th>3</th>\n",
              "      <td>3858264</td>\n",
              "      <td>1975</td>\n",
              "      <td>5485</td>\n",
              "      <td>1973.0</td>\n",
              "      <td>US</td>\n",
              "      <td>WI</td>\n",
              "      <td>309400.0</td>\n",
              "      <td>2</td>\n",
              "      <td>8.0</td>\n",
              "      <td>14</td>\n",
              "      <td>6</td>\n",
              "      <td>69</td>\n",
              "      <td>6.0</td>\n",
              "      <td>6</td>\n",
              "      <td>1.0000</td>\n",
              "      <td>0.0000</td>\n",
              "      <td>0.0000</td>\n",
              "      <td>10.6667</td>\n",
              "      <td>7.5000</td>\n",
              "      <td>0.0</td>\n",
              "      <td>0.0000</td>\n",
              "      <td>0.00</td>\n",
              "      <td>0.00</td>\n",
              "    </tr>\n",
              "    <tr>\n",
              "      <th>4</th>\n",
              "      <td>3858269</td>\n",
              "      <td>1975</td>\n",
              "      <td>5485</td>\n",
              "      <td>1973.0</td>\n",
              "      <td>US</td>\n",
              "      <td>MI</td>\n",
              "      <td>435140.0</td>\n",
              "      <td>2</td>\n",
              "      <td>5.0</td>\n",
              "      <td>16</td>\n",
              "      <td>5</td>\n",
              "      <td>59</td>\n",
              "      <td>4.0</td>\n",
              "      <td>11</td>\n",
              "      <td>0.2500</td>\n",
              "      <td>0.6446</td>\n",
              "      <td>0.0000</td>\n",
              "      <td>20.0000</td>\n",
              "      <td>15.7500</td>\n",
              "      <td>0.0</td>\n",
              "      <td>0.0000</td>\n",
              "      <td>0.00</td>\n",
              "      <td>0.00</td>\n",
              "    </tr>\n",
              "  </tbody>\n",
              "</table>\n",
              "</div>"
            ],
            "text/plain": [
              "    PATENT  GYEAR  GDATE  APPYEAR  ... SELFCTUB SELFCTLB  SECDUPBD  SECDLWBD\n",
              "0  3858245   1975   5485   1972.0  ...      0.0   0.0000      0.00      0.00\n",
              "1  3858251   1975   5485   1973.0  ...      1.0   0.1429      0.00      0.00\n",
              "2  3858262   1975   5485   1973.0  ...      0.5   0.3333      0.25      0.25\n",
              "3  3858264   1975   5485   1973.0  ...      0.0   0.0000      0.00      0.00\n",
              "4  3858269   1975   5485   1973.0  ...      0.0   0.0000      0.00      0.00\n",
              "\n",
              "[5 rows x 23 columns]"
            ]
          },
          "metadata": {
            "tags": []
          },
          "execution_count": 8
        }
      ]
    },
    {
      "cell_type": "code",
      "metadata": {
        "colab": {
          "base_uri": "https://localhost:8080/",
          "height": 204
        },
        "id": "pLKZPacIatSK",
        "outputId": "dcbd011e-be70-435a-e2ad-51570cd0134c"
      },
      "source": [
        "target_df = target_df.drop(columns=['FWDAPLAG', 'BCKGTLAG', 'SELFCTUB', 'SELFCTLB', 'SECDUPBD', 'SECDLWBD'])\n",
        "target_df.head()"
      ],
      "execution_count": null,
      "outputs": [
        {
          "output_type": "execute_result",
          "data": {
            "text/html": [
              "<div>\n",
              "<style scoped>\n",
              "    .dataframe tbody tr th:only-of-type {\n",
              "        vertical-align: middle;\n",
              "    }\n",
              "\n",
              "    .dataframe tbody tr th {\n",
              "        vertical-align: top;\n",
              "    }\n",
              "\n",
              "    .dataframe thead th {\n",
              "        text-align: right;\n",
              "    }\n",
              "</style>\n",
              "<table border=\"1\" class=\"dataframe\">\n",
              "  <thead>\n",
              "    <tr style=\"text-align: right;\">\n",
              "      <th></th>\n",
              "      <th>PATENT</th>\n",
              "      <th>GYEAR</th>\n",
              "      <th>GDATE</th>\n",
              "      <th>APPYEAR</th>\n",
              "      <th>COUNTRY</th>\n",
              "      <th>POSTATE</th>\n",
              "      <th>ASSIGNEE</th>\n",
              "      <th>ASSCODE</th>\n",
              "      <th>CLAIMS</th>\n",
              "      <th>NCLASS</th>\n",
              "      <th>CAT</th>\n",
              "      <th>SUBCAT</th>\n",
              "      <th>CMADE</th>\n",
              "      <th>CRECEIVE</th>\n",
              "      <th>RATIOCIT</th>\n",
              "      <th>GENERAL</th>\n",
              "      <th>ORIGINAL</th>\n",
              "    </tr>\n",
              "  </thead>\n",
              "  <tbody>\n",
              "    <tr>\n",
              "      <th>0</th>\n",
              "      <td>3858245</td>\n",
              "      <td>1975</td>\n",
              "      <td>5485</td>\n",
              "      <td>1972.0</td>\n",
              "      <td>US</td>\n",
              "      <td>NY</td>\n",
              "      <td>237715.0</td>\n",
              "      <td>2</td>\n",
              "      <td>5.0</td>\n",
              "      <td>623</td>\n",
              "      <td>3</td>\n",
              "      <td>39</td>\n",
              "      <td>7.0</td>\n",
              "      <td>11</td>\n",
              "      <td>0.8571</td>\n",
              "      <td>0.4959</td>\n",
              "      <td>0.2778</td>\n",
              "    </tr>\n",
              "    <tr>\n",
              "      <th>1</th>\n",
              "      <td>3858251</td>\n",
              "      <td>1975</td>\n",
              "      <td>5485</td>\n",
              "      <td>1973.0</td>\n",
              "      <td>US</td>\n",
              "      <td>WI</td>\n",
              "      <td>445930.0</td>\n",
              "      <td>2</td>\n",
              "      <td>17.0</td>\n",
              "      <td>4</td>\n",
              "      <td>6</td>\n",
              "      <td>65</td>\n",
              "      <td>7.0</td>\n",
              "      <td>3</td>\n",
              "      <td>0.5714</td>\n",
              "      <td>0.4444</td>\n",
              "      <td>0.0000</td>\n",
              "    </tr>\n",
              "    <tr>\n",
              "      <th>2</th>\n",
              "      <td>3858262</td>\n",
              "      <td>1975</td>\n",
              "      <td>5485</td>\n",
              "      <td>1973.0</td>\n",
              "      <td>US</td>\n",
              "      <td>MA</td>\n",
              "      <td>601600.0</td>\n",
              "      <td>2</td>\n",
              "      <td>8.0</td>\n",
              "      <td>470</td>\n",
              "      <td>5</td>\n",
              "      <td>59</td>\n",
              "      <td>6.0</td>\n",
              "      <td>4</td>\n",
              "      <td>1.0000</td>\n",
              "      <td>0.0000</td>\n",
              "      <td>0.6667</td>\n",
              "    </tr>\n",
              "    <tr>\n",
              "      <th>3</th>\n",
              "      <td>3858264</td>\n",
              "      <td>1975</td>\n",
              "      <td>5485</td>\n",
              "      <td>1973.0</td>\n",
              "      <td>US</td>\n",
              "      <td>WI</td>\n",
              "      <td>309400.0</td>\n",
              "      <td>2</td>\n",
              "      <td>8.0</td>\n",
              "      <td>14</td>\n",
              "      <td>6</td>\n",
              "      <td>69</td>\n",
              "      <td>6.0</td>\n",
              "      <td>6</td>\n",
              "      <td>1.0000</td>\n",
              "      <td>0.0000</td>\n",
              "      <td>0.0000</td>\n",
              "    </tr>\n",
              "    <tr>\n",
              "      <th>4</th>\n",
              "      <td>3858269</td>\n",
              "      <td>1975</td>\n",
              "      <td>5485</td>\n",
              "      <td>1973.0</td>\n",
              "      <td>US</td>\n",
              "      <td>MI</td>\n",
              "      <td>435140.0</td>\n",
              "      <td>2</td>\n",
              "      <td>5.0</td>\n",
              "      <td>16</td>\n",
              "      <td>5</td>\n",
              "      <td>59</td>\n",
              "      <td>4.0</td>\n",
              "      <td>11</td>\n",
              "      <td>0.2500</td>\n",
              "      <td>0.6446</td>\n",
              "      <td>0.0000</td>\n",
              "    </tr>\n",
              "  </tbody>\n",
              "</table>\n",
              "</div>"
            ],
            "text/plain": [
              "    PATENT  GYEAR  GDATE  APPYEAR  ... CRECEIVE RATIOCIT  GENERAL  ORIGINAL\n",
              "0  3858245   1975   5485   1972.0  ...       11   0.8571   0.4959    0.2778\n",
              "1  3858251   1975   5485   1973.0  ...        3   0.5714   0.4444    0.0000\n",
              "2  3858262   1975   5485   1973.0  ...        4   1.0000   0.0000    0.6667\n",
              "3  3858264   1975   5485   1973.0  ...        6   1.0000   0.0000    0.0000\n",
              "4  3858269   1975   5485   1973.0  ...       11   0.2500   0.6446    0.0000\n",
              "\n",
              "[5 rows x 17 columns]"
            ]
          },
          "metadata": {
            "tags": []
          },
          "execution_count": 9
        }
      ]
    },
    {
      "cell_type": "code",
      "metadata": {
        "id": "-0HnwYc3owUF"
      },
      "source": [
        "subcategory_df = subcategory_df.dropna()\n",
        "class_df = class_df.dropna()\n",
        "country_df = country_df.dropna()\n",
        "subcategory_df = subcategory_df.drop(columns=['CatNameShort'])\n",
        "country_df = country_df.dropna()  "
      ],
      "execution_count": null,
      "outputs": []
    },
    {
      "cell_type": "code",
      "metadata": {
        "id": "nLZy-wOFqXDD"
      },
      "source": [
        "features_df = target_df.merge(class_df, left_on='NCLASS', right_on='Class')\n",
        "features_df = features_df.drop(columns=['NCLASS', 'Class'])"
      ],
      "execution_count": null,
      "outputs": []
    },
    {
      "cell_type": "code",
      "metadata": {
        "id": "hbNXX6WUv4qZ"
      },
      "source": [
        "cat_df = features_df.merge(subcategory_df, left_on=['CAT', 'SUBCAT'], right_on=['Cat', 'SubCat'])\n",
        "cat_df = cat_df.drop(columns=['CAT', 'SUBCAT', 'Cat', 'SubCat'])"
      ],
      "execution_count": null,
      "outputs": []
    },
    {
      "cell_type": "code",
      "metadata": {
        "id": "tXkNva1ryPl5"
      },
      "source": [
        "state_df = cat_df.merge(country_df, left_on=['POSTATE'], right_on=['Code'])\n",
        "features_df = state_df.drop(columns=['COUNTRY', 'POSTATE', 'ASSIGNEE', 'ASSCODE', 'Code'])"
      ],
      "execution_count": null,
      "outputs": []
    },
    {
      "cell_type": "code",
      "metadata": {
        "colab": {
          "base_uri": "https://localhost:8080/"
        },
        "id": "QWDzj1xg2TGr",
        "outputId": "0d939319-dbef-4d6e-ebe1-10909184d2d2"
      },
      "source": [
        "features_df.columns"
      ],
      "execution_count": null,
      "outputs": [
        {
          "output_type": "execute_result",
          "data": {
            "text/plain": [
              "Index(['PATENT', 'GYEAR', 'GDATE', 'APPYEAR', 'CLAIMS', 'CMADE', 'CRECEIVE',\n",
              "       'RATIOCIT', 'GENERAL', 'ORIGINAL', 'Title', 'SubCatName', 'CatNameLong',\n",
              "       'U.S.State '],\n",
              "      dtype='object')"
            ]
          },
          "metadata": {
            "tags": []
          },
          "execution_count": 14
        }
      ]
    },
    {
      "cell_type": "code",
      "metadata": {
        "colab": {
          "base_uri": "https://localhost:8080/",
          "height": 289
        },
        "id": "fjpasWZv4jYe",
        "outputId": "c350fa0f-d368-4495-e6df-81b9061ddddd"
      },
      "source": [
        "features_df.head()"
      ],
      "execution_count": null,
      "outputs": [
        {
          "output_type": "execute_result",
          "data": {
            "text/html": [
              "<div>\n",
              "<style scoped>\n",
              "    .dataframe tbody tr th:only-of-type {\n",
              "        vertical-align: middle;\n",
              "    }\n",
              "\n",
              "    .dataframe tbody tr th {\n",
              "        vertical-align: top;\n",
              "    }\n",
              "\n",
              "    .dataframe thead th {\n",
              "        text-align: right;\n",
              "    }\n",
              "</style>\n",
              "<table border=\"1\" class=\"dataframe\">\n",
              "  <thead>\n",
              "    <tr style=\"text-align: right;\">\n",
              "      <th></th>\n",
              "      <th>PATENT</th>\n",
              "      <th>GYEAR</th>\n",
              "      <th>GDATE</th>\n",
              "      <th>APPYEAR</th>\n",
              "      <th>CLAIMS</th>\n",
              "      <th>CMADE</th>\n",
              "      <th>CRECEIVE</th>\n",
              "      <th>RATIOCIT</th>\n",
              "      <th>GENERAL</th>\n",
              "      <th>ORIGINAL</th>\n",
              "      <th>Title</th>\n",
              "      <th>SubCatName</th>\n",
              "      <th>CatNameLong</th>\n",
              "      <th>U.S.State</th>\n",
              "    </tr>\n",
              "  </thead>\n",
              "  <tbody>\n",
              "    <tr>\n",
              "      <th>0</th>\n",
              "      <td>3858245</td>\n",
              "      <td>1975</td>\n",
              "      <td>5485</td>\n",
              "      <td>1972.0</td>\n",
              "      <td>5.0</td>\n",
              "      <td>7.0</td>\n",
              "      <td>11</td>\n",
              "      <td>0.8571</td>\n",
              "      <td>0.4959</td>\n",
              "      <td>0.2778</td>\n",
              "      <td>Prosthesis (i.e., Artificial Body Members), Pa...</td>\n",
              "      <td>Miscellaneous-Drgs&amp;Med</td>\n",
              "      <td>Drugs&amp;Medical</td>\n",
              "      <td>NEW YORK</td>\n",
              "    </tr>\n",
              "    <tr>\n",
              "      <th>1</th>\n",
              "      <td>3885251</td>\n",
              "      <td>1975</td>\n",
              "      <td>5625</td>\n",
              "      <td>1973.0</td>\n",
              "      <td>8.0</td>\n",
              "      <td>5.0</td>\n",
              "      <td>10</td>\n",
              "      <td>0.8000</td>\n",
              "      <td>0.7000</td>\n",
              "      <td>0.5000</td>\n",
              "      <td>Prosthesis (i.e., Artificial Body Members), Pa...</td>\n",
              "      <td>Miscellaneous-Drgs&amp;Med</td>\n",
              "      <td>Drugs&amp;Medical</td>\n",
              "      <td>NEW YORK</td>\n",
              "    </tr>\n",
              "    <tr>\n",
              "      <th>2</th>\n",
              "      <td>3906552</td>\n",
              "      <td>1975</td>\n",
              "      <td>5744</td>\n",
              "      <td>1974.0</td>\n",
              "      <td>7.0</td>\n",
              "      <td>4.0</td>\n",
              "      <td>7</td>\n",
              "      <td>0.2500</td>\n",
              "      <td>0.4490</td>\n",
              "      <td>0.0000</td>\n",
              "      <td>Prosthesis (i.e., Artificial Body Members), Pa...</td>\n",
              "      <td>Miscellaneous-Drgs&amp;Med</td>\n",
              "      <td>Drugs&amp;Medical</td>\n",
              "      <td>NEW YORK</td>\n",
              "    </tr>\n",
              "    <tr>\n",
              "      <th>3</th>\n",
              "      <td>3914801</td>\n",
              "      <td>1975</td>\n",
              "      <td>5779</td>\n",
              "      <td>1971.0</td>\n",
              "      <td>10.0</td>\n",
              "      <td>8.0</td>\n",
              "      <td>9</td>\n",
              "      <td>0.7500</td>\n",
              "      <td>0.4444</td>\n",
              "      <td>0.5000</td>\n",
              "      <td>Prosthesis (i.e., Artificial Body Members), Pa...</td>\n",
              "      <td>Miscellaneous-Drgs&amp;Med</td>\n",
              "      <td>Drugs&amp;Medical</td>\n",
              "      <td>NEW YORK</td>\n",
              "    </tr>\n",
              "    <tr>\n",
              "      <th>4</th>\n",
              "      <td>3952335</td>\n",
              "      <td>1976</td>\n",
              "      <td>5961</td>\n",
              "      <td>1974.0</td>\n",
              "      <td>15.0</td>\n",
              "      <td>2.0</td>\n",
              "      <td>16</td>\n",
              "      <td>0.5000</td>\n",
              "      <td>0.3750</td>\n",
              "      <td>0.0000</td>\n",
              "      <td>Prosthesis (i.e., Artificial Body Members), Pa...</td>\n",
              "      <td>Miscellaneous-Drgs&amp;Med</td>\n",
              "      <td>Drugs&amp;Medical</td>\n",
              "      <td>NEW YORK</td>\n",
              "    </tr>\n",
              "  </tbody>\n",
              "</table>\n",
              "</div>"
            ],
            "text/plain": [
              "    PATENT  GYEAR  GDATE  ...              SubCatName    CatNameLong  U.S.State \n",
              "0  3858245   1975   5485  ...  Miscellaneous-Drgs&Med  Drugs&Medical    NEW YORK\n",
              "1  3885251   1975   5625  ...  Miscellaneous-Drgs&Med  Drugs&Medical    NEW YORK\n",
              "2  3906552   1975   5744  ...  Miscellaneous-Drgs&Med  Drugs&Medical    NEW YORK\n",
              "3  3914801   1975   5779  ...  Miscellaneous-Drgs&Med  Drugs&Medical    NEW YORK\n",
              "4  3952335   1976   5961  ...  Miscellaneous-Drgs&Med  Drugs&Medical    NEW YORK\n",
              "\n",
              "[5 rows x 14 columns]"
            ]
          },
          "metadata": {
            "tags": []
          },
          "execution_count": 15
        }
      ]
    },
    {
      "cell_type": "code",
      "metadata": {
        "id": "fCWtJv2nxq1E"
      },
      "source": [
        "# len(features_df)"
      ],
      "execution_count": null,
      "outputs": []
    },
    {
      "cell_type": "code",
      "metadata": {
        "id": "MYOVHUdp-qp1"
      },
      "source": [
        "# profile = ProfileReport(df=features_df)\n",
        "# profile.to_file(output_file=\"features_data.html\")"
      ],
      "execution_count": null,
      "outputs": []
    },
    {
      "cell_type": "markdown",
      "metadata": {
        "id": "ehK9E0zyt0Sz"
      },
      "source": [
        ""
      ]
    },
    {
      "cell_type": "code",
      "metadata": {
        "colab": {
          "base_uri": "https://localhost:8080/"
        },
        "id": "s8inRPcNiyfK",
        "outputId": "f3d8e99a-6c4c-438d-d893-e12b0ea3b6b1"
      },
      "source": [
        "print(edge_df['FromNodeId'].min())\n",
        "print(edge_df['ToNodeId'].min())\n",
        "print(features_df['PATENT'].min())"
      ],
      "execution_count": null,
      "outputs": [
        {
          "output_type": "stream",
          "text": [
            "3858241\n",
            "1\n",
            "3858245\n"
          ],
          "name": "stdout"
        }
      ]
    },
    {
      "cell_type": "code",
      "metadata": {
        "id": "XpbTuI8xXsFu"
      },
      "source": [
        "unique_patents = pd.unique(edge_df[['FromNodeId', 'ToNodeId']].values.ravel('K'))\n",
        "unique_feature_patents = pd.unique(features_df['PATENT'].values.ravel('K'))\n",
        "patents_without_features = pd.DataFrame(set(unique_patents) - set(unique_feature_patents))"
      ],
      "execution_count": null,
      "outputs": []
    },
    {
      "cell_type": "markdown",
      "metadata": {
        "id": "NG0NybzT7mCP"
      },
      "source": [
        "Get the new edge list by removing those nodes that dont have their corresponding features present"
      ]
    },
    {
      "cell_type": "code",
      "metadata": {
        "colab": {
          "base_uri": "https://localhost:8080/"
        },
        "id": "sJUhShvndmnS",
        "outputId": "a1d31347-de26-4b2f-a7f1-7e8ef261f0e8"
      },
      "source": [
        "print(patents_without_features[0].head())\n",
        "new_edge_df = edge_df[~edge_df['FromNodeId'].isin(patents_without_features[0])]\n",
        "new_edge_df = new_edge_df[~new_edge_df['ToNodeId'].isin(patents_without_features[0].values)]"
      ],
      "execution_count": null,
      "outputs": [
        {
          "output_type": "stream",
          "text": [
            "0     1\n",
            "1    13\n",
            "2    24\n",
            "3    29\n",
            "4    31\n",
            "Name: 0, dtype: int64\n"
          ],
          "name": "stdout"
        }
      ]
    },
    {
      "cell_type": "markdown",
      "metadata": {
        "id": "sVDahQMz7A6t"
      },
      "source": [
        "Verify that now there is no patent whoose features are not present among the new patent edge list"
      ]
    },
    {
      "cell_type": "code",
      "metadata": {
        "colab": {
          "base_uri": "https://localhost:8080/"
        },
        "id": "p9dP80pyjPDo",
        "outputId": "66612193-4a50-40bb-aecd-6a55ba6a1f4c"
      },
      "source": [
        "unique_patents = pd.unique(new_edge_df[['FromNodeId', 'ToNodeId']].values.ravel('K'))\n",
        "unique_feature_patents = features_df.index.values.ravel('K')\n",
        "patents_without_features = pd.DataFrame(set(unique_patents) - set(unique_feature_patents))\n",
        "len(patents_without_features)"
      ],
      "execution_count": null,
      "outputs": [
        {
          "output_type": "execute_result",
          "data": {
            "text/plain": [
              "633587"
            ]
          },
          "metadata": {
            "tags": []
          },
          "execution_count": 21
        }
      ]
    },
    {
      "cell_type": "code",
      "metadata": {
        "colab": {
          "base_uri": "https://localhost:8080/"
        },
        "id": "g5_xqV6_u6_a",
        "outputId": "4b3247a7-2c12-4787-b446-262c10f99d1c"
      },
      "source": [
        "unique_patent_values = []\n",
        "unique_patent_values = list(set(new_edge_df['FromNodeId'].tolist()))\n",
        "unique_patent_values.extend(list(set(new_edge_df['ToNodeId'].tolist())))\n",
        "len(unique_patent_values)"
      ],
      "execution_count": null,
      "outputs": [
        {
          "output_type": "execute_result",
          "data": {
            "text/plain": [
              "980594"
            ]
          },
          "metadata": {
            "tags": []
          },
          "execution_count": 22
        }
      ]
    },
    {
      "cell_type": "code",
      "metadata": {
        "id": "uDPX3ncyvDEA"
      },
      "source": [
        "# patent_map = {}\n",
        "# unique_patent_values.sort()\n",
        "# for i,j in zip(unique_patent_values, range(len(unique_patent_values))):\n",
        "#   patent_map[i] = j\n",
        "# len(patent_map)"
      ],
      "execution_count": null,
      "outputs": []
    },
    {
      "cell_type": "code",
      "metadata": {
        "id": "aldR_maEew_T"
      },
      "source": [
        "# patent_map"
      ],
      "execution_count": null,
      "outputs": []
    },
    {
      "cell_type": "code",
      "metadata": {
        "id": "4vg5btNRx80F"
      },
      "source": [
        "# modified_edge_df = new_edge_df.copy(deep=False)\n",
        "# new_edge_df.replace({\"FromNodeId\": patent_map})\n",
        "# new_edge_df.replace({\"ToNodeId\": patent_map})\n",
        "# new_edge_df[\"FromNodeId\"].replace(patent_map, inplace=True)\n",
        "# new_edge_df[\"ToNodeId\"].replace(patent_map, inplace=True)\n",
        "# new_edge_df[\"FromNodeId\"].map(patent_map).fillna(0)\n",
        "# new_edge_df[\"ToNodeId\"].map(patent_map).fillna(0)\n",
        "# len(new_edge_df)"
      ],
      "execution_count": null,
      "outputs": []
    },
    {
      "cell_type": "code",
      "metadata": {
        "id": "DgaeGP09y12Z"
      },
      "source": [
        "# new_edge_df.to_csv('new_patents_df.csv',  index=False)"
      ],
      "execution_count": null,
      "outputs": []
    },
    {
      "cell_type": "code",
      "metadata": {
        "id": "RWG2atZWfPHU"
      },
      "source": [
        "G = nx.from_pandas_edgelist(new_edge_df, source='FromNodeId', target='ToNodeId', create_using=nx.DiGraph())"
      ],
      "execution_count": null,
      "outputs": []
    },
    {
      "cell_type": "markdown",
      "metadata": {
        "id": "ZGepasQSJb7H"
      },
      "source": [
        "Average Degree of all nodes"
      ]
    },
    {
      "cell_type": "code",
      "metadata": {
        "colab": {
          "base_uri": "https://localhost:8080/"
        },
        "id": "B1bZJsA2JbgM",
        "outputId": "985e928a-82d1-47b9-e851-cb73ee9d48eb"
      },
      "source": [
        "tot_degree = node_count = 0\n",
        "for node in G.nodes():\n",
        "  tot_degree = tot_degree+ G.degree(node)\n",
        "  node_count = node_count+1\n",
        "avg_degree = tot_degree/node_count\n",
        "avg_degree"
      ],
      "execution_count": null,
      "outputs": [
        {
          "output_type": "execute_result",
          "data": {
            "text/plain": [
              "7.188989041757486"
            ]
          },
          "metadata": {
            "tags": []
          },
          "execution_count": 28
        }
      ]
    },
    {
      "cell_type": "code",
      "metadata": {
        "id": "2nwTt9X3KQKJ"
      },
      "source": [
        "# print(sum(degrees.values()))"
      ],
      "execution_count": null,
      "outputs": []
    },
    {
      "cell_type": "markdown",
      "metadata": {
        "id": "JkqAwQFWoUhH"
      },
      "source": [
        "Degree Centrality based Algo --> Getting top 5 nodes based on their Degree"
      ]
    },
    {
      "cell_type": "code",
      "metadata": {
        "id": "SC3CyRhNn-o9"
      },
      "source": [
        "start_time = time.time()\n",
        "li = [()];\n",
        "heapq.heapify(li)\n",
        "for node in G.nodes():\n",
        "  deg = G.degree[node];\n",
        "  heapq.heappush(li,(deg,node));\n",
        "  if len(li) > 20:\n",
        "    heapq.heappop(li)\n",
        "li.sort(key=lambda x:x[0],reverse=True)\n",
        "end_time = (time.time() - start_time);"
      ],
      "execution_count": null,
      "outputs": []
    },
    {
      "cell_type": "code",
      "metadata": {
        "colab": {
          "base_uri": "https://localhost:8080/"
        },
        "id": "_IRdBic_oDbk",
        "outputId": "07f96087-e695-4bf4-9595-cdd6e817325e"
      },
      "source": [
        "print(list(li))\n",
        "print(\"Time taken is \",end_time)\n",
        "for i,j in li:\n",
        "  print(\"Deg \"+ str(i), \"Node is \"+ str(j));"
      ],
      "execution_count": null,
      "outputs": [
        {
          "output_type": "stream",
          "text": [
            "[(308, 5848246), (246, 4683195), (223, 5808797), (222, 5841579), (208, 5797877), (203, 5610317), (191, 5792534), (190, 5747594), (190, 5773106), (187, 4733665), (185, 4870302), (184, 4440871), (180, 4901307), (178, 4387297), (176, 4234435), (173, 5681380), (171, 3953566), (168, 4228496), (167, 3864154), (167, 4100324)]\n",
            "Time taken is  1.585465669631958\n",
            "Deg 308 Node is 5848246\n",
            "Deg 246 Node is 4683195\n",
            "Deg 223 Node is 5808797\n",
            "Deg 222 Node is 5841579\n",
            "Deg 208 Node is 5797877\n",
            "Deg 203 Node is 5610317\n",
            "Deg 191 Node is 5792534\n",
            "Deg 190 Node is 5747594\n",
            "Deg 190 Node is 5773106\n",
            "Deg 187 Node is 4733665\n",
            "Deg 185 Node is 4870302\n",
            "Deg 184 Node is 4440871\n",
            "Deg 180 Node is 4901307\n",
            "Deg 178 Node is 4387297\n",
            "Deg 176 Node is 4234435\n",
            "Deg 173 Node is 5681380\n",
            "Deg 171 Node is 3953566\n",
            "Deg 168 Node is 4228496\n",
            "Deg 167 Node is 3864154\n",
            "Deg 167 Node is 4100324\n"
          ],
          "name": "stdout"
        }
      ]
    },
    {
      "cell_type": "markdown",
      "metadata": {
        "id": "2iXpwW8DUWot"
      },
      "source": [
        "Single Degree Discount Algorithm\n"
      ]
    },
    {
      "cell_type": "code",
      "metadata": {
        "id": "pJK7Yr87UZzE",
        "colab": {
          "base_uri": "https://localhost:8080/"
        },
        "outputId": "8ca8f515-7669-4fe9-b329-71298156b1fb"
      },
      "source": [
        "start_time = time.time()\n",
        "G_sing_deg_dis = G.copy();\n",
        "li_deg_dis = [];\n",
        "k = 20;\n",
        "for i in range(k):\n",
        "  max_deg = -1;\n",
        "  for node in G_sing_deg_dis.nodes():\n",
        "    deg = G_sing_deg_dis.degree[node];\n",
        "    if deg > max_deg:\n",
        "      rem_node = node;\n",
        "      max_deg = deg;\n",
        "  li_deg_dis.append((rem_node,max_deg));\n",
        "  G_sing_deg_dis.remove_node(rem_node);\n",
        "end_time = (time.time() - start_time);\n",
        "print(\"Time taken is \",end_time)"
      ],
      "execution_count": null,
      "outputs": [
        {
          "output_type": "stream",
          "text": [
            "Time taken is  31.193522930145264\n"
          ],
          "name": "stdout"
        }
      ]
    },
    {
      "cell_type": "code",
      "metadata": {
        "id": "DNqK5fDtyBaD"
      },
      "source": [
        "S_sin_deg_discount = []\n",
        "for node,deg in li_deg_dis:\n",
        "  S_sin_deg_discount.append(node)"
      ],
      "execution_count": null,
      "outputs": []
    },
    {
      "cell_type": "code",
      "metadata": {
        "colab": {
          "base_uri": "https://localhost:8080/"
        },
        "id": "5V8NOL8PUcvV",
        "outputId": "71491bfc-0330-4561-ba65-4da5643489f3"
      },
      "source": [
        "li_deg_dis"
      ],
      "execution_count": null,
      "outputs": [
        {
          "output_type": "execute_result",
          "data": {
            "text/plain": [
              "[(5848246, 308),\n",
              " (4683195, 246),\n",
              " (5808797, 223),\n",
              " (5841579, 222),\n",
              " (5797877, 208),\n",
              " (5610317, 203),\n",
              " (5792534, 191),\n",
              " (5747594, 190),\n",
              " (5773106, 190),\n",
              " (4733665, 187),\n",
              " (4870302, 185),\n",
              " (4440871, 184),\n",
              " (4901307, 180),\n",
              " (4387297, 178),\n",
              " (4234435, 176),\n",
              " (5681380, 173),\n",
              " (3953566, 171),\n",
              " (4228496, 168),\n",
              " (3864154, 167),\n",
              " (4100324, 167)]"
            ]
          },
          "metadata": {
            "tags": []
          },
          "execution_count": 34
        }
      ]
    },
    {
      "cell_type": "markdown",
      "metadata": {
        "id": "p97vFjEIUjzN"
      },
      "source": [
        "Degree Discount Algorithm\n"
      ]
    },
    {
      "cell_type": "code",
      "metadata": {
        "id": "mGPtvLpMUk1k",
        "colab": {
          "base_uri": "https://localhost:8080/"
        },
        "outputId": "d20f8254-4a77-4833-d6c5-fe682a69759e"
      },
      "source": [
        "start_time = time.time()\n",
        "G_degree_discount = G.copy();\n",
        "max_patent=-1;\n",
        "for node in G.nodes():\n",
        "  max_patent = max(max_patent,node)\n",
        "#V = G_degree_discount.number_of_nodes();\n",
        "ddv = [None] * (max_patent+1);\n",
        "tv = [0] * (max_patent+1);\n",
        "p = 0.01;\n",
        "k = 20;\n",
        "S = [];\n",
        "for node in G_degree_discount.nodes():\n",
        "  degree = G_degree_discount.degree[node];\n",
        "  ddv[node] = degree;\n",
        "for i in range(k):\n",
        "  max_deg = -1;\n",
        "  u = -1;\n",
        "  for node in G_degree_discount.nodes():\n",
        "    deg = ddv[node];\n",
        "    if deg > max_deg and node not in S:\n",
        "      u = node;\n",
        "      max_deg = deg;\n",
        "  S.append(u);\n",
        "  neighbour_list = list(G_degree_discount.neighbors(u));\n",
        "  for v in neighbour_list:\n",
        "    if v in S:\n",
        "      continue\n",
        "    tv[v] = tv[v] + 1;\n",
        "    dv = G_degree_discount.degree[v];\n",
        "    ddv[v] = dv - 2*tv[v] - (dv-tv[v])*tv[v]*p;\n",
        "end_time = (time.time() - start_time);\n",
        "print(\"Time taken is \",end_time)"
      ],
      "execution_count": null,
      "outputs": [
        {
          "output_type": "stream",
          "text": [
            "Time taken is  16.728244304656982\n"
          ],
          "name": "stdout"
        }
      ]
    },
    {
      "cell_type": "code",
      "metadata": {
        "colab": {
          "base_uri": "https://localhost:8080/"
        },
        "id": "YX3wz3EhUnV4",
        "outputId": "f69c2271-7be4-49f1-a5b9-dc75dbde7ce4"
      },
      "source": [
        "S_deg_discount = S\n",
        "for node in S_deg_discount:\n",
        "  print(\"Node is \" + str(node),\"Discounted Degree is \"+ str(ddv[node]))"
      ],
      "execution_count": null,
      "outputs": [
        {
          "output_type": "stream",
          "text": [
            "Node is 5848246 Discounted Degree is 308\n",
            "Node is 4683195 Discounted Degree is 246\n",
            "Node is 5808797 Discounted Degree is 223\n",
            "Node is 5841579 Discounted Degree is 222\n",
            "Node is 5797877 Discounted Degree is 208\n",
            "Node is 5610317 Discounted Degree is 203\n",
            "Node is 5792534 Discounted Degree is 191\n",
            "Node is 5747594 Discounted Degree is 190\n",
            "Node is 5773106 Discounted Degree is 190\n",
            "Node is 4733665 Discounted Degree is 187\n",
            "Node is 4870302 Discounted Degree is 185\n",
            "Node is 4440871 Discounted Degree is 184\n",
            "Node is 4901307 Discounted Degree is 180\n",
            "Node is 4387297 Discounted Degree is 178\n",
            "Node is 4234435 Discounted Degree is 176\n",
            "Node is 5681380 Discounted Degree is 173\n",
            "Node is 3953566 Discounted Degree is 171\n",
            "Node is 4228496 Discounted Degree is 168\n",
            "Node is 3864154 Discounted Degree is 167\n",
            "Node is 4100324 Discounted Degree is 167\n"
          ],
          "name": "stdout"
        }
      ]
    },
    {
      "cell_type": "code",
      "metadata": {
        "id": "-gwU9XjfjtoH"
      },
      "source": [
        "#  new_edge_df.to_csv('patents_df.csv')"
      ],
      "execution_count": null,
      "outputs": []
    },
    {
      "cell_type": "code",
      "metadata": {
        "colab": {
          "base_uri": "https://localhost:8080/"
        },
        "id": "LEram78kUlN0",
        "outputId": "b310c922-4b60-4eaf-e1d3-f804be0c63be"
      },
      "source": [
        "nx.is_directed(G)"
      ],
      "execution_count": null,
      "outputs": [
        {
          "output_type": "execute_result",
          "data": {
            "text/plain": [
              "True"
            ]
          },
          "metadata": {
            "tags": []
          },
          "execution_count": 38
        }
      ]
    },
    {
      "cell_type": "code",
      "metadata": {
        "colab": {
          "base_uri": "https://localhost:8080/"
        },
        "id": "tB-ISiyDzHzs",
        "outputId": "dc7e3368-9f8b-4425-cac3-52284e181b2c"
      },
      "source": [
        "nx.is_weakly_connected(G)"
      ],
      "execution_count": null,
      "outputs": [
        {
          "output_type": "execute_result",
          "data": {
            "text/plain": [
              "False"
            ]
          },
          "metadata": {
            "tags": []
          },
          "execution_count": 39
        }
      ]
    },
    {
      "cell_type": "code",
      "metadata": {
        "id": "363sEeY2qTqs"
      },
      "source": [
        "patent_list = list(features_df['PATENT'])"
      ],
      "execution_count": null,
      "outputs": []
    },
    {
      "cell_type": "code",
      "metadata": {
        "id": "qzllu3-KqZSz"
      },
      "source": [
        "tweak_features = features_df\n",
        "tweak_features.set_index(\"PATENT\",  \n",
        "              inplace = True) "
      ],
      "execution_count": null,
      "outputs": []
    },
    {
      "cell_type": "code",
      "metadata": {
        "id": "-uTnRQChrjpt"
      },
      "source": [
        "for patent in patent_list:\n",
        "  result = tweak_features.loc[patent]\n",
        "  if patent in G.nodes():\n",
        "    G.nodes[patent]['grant_year'] = result['GYEAR']\n",
        "    G.nodes[patent]['title'] = result['Title']\n",
        "    G.nodes[patent]['sub_category'] = result['SubCatName']\n",
        "    G.nodes[patent]['category'] = result['CatNameLong']"
      ],
      "execution_count": null,
      "outputs": []
    },
    {
      "cell_type": "code",
      "metadata": {
        "colab": {
          "base_uri": "https://localhost:8080/",
          "height": 35
        },
        "id": "sGSBdz_QWk5d",
        "outputId": "1f880c2a-9376-48db-a61b-28a0530fc6a2"
      },
      "source": [
        "G.nodes[5409845]['title']"
      ],
      "execution_count": null,
      "outputs": [
        {
          "output_type": "execute_result",
          "data": {
            "application/vnd.google.colaboratory.intrinsic+json": {
              "type": "string"
            },
            "text/plain": [
              "'Semiconductor Device Manufacturing: Process'"
            ]
          },
          "metadata": {
            "tags": []
          },
          "execution_count": 43
        }
      ]
    },
    {
      "cell_type": "markdown",
      "metadata": {
        "id": "WQbMb0Qo-eaL"
      },
      "source": [
        "Checking if all the nodes in the graph are having features associated with it\n"
      ]
    },
    {
      "cell_type": "code",
      "metadata": {
        "colab": {
          "base_uri": "https://localhost:8080/"
        },
        "id": "kU6yOEhS90T9",
        "outputId": "4d6697e3-3d6d-4292-9343-ec67f53148bf"
      },
      "source": [
        "flag = True \n",
        "for node in G.nodes():\n",
        "  node_attribute_dict = G.nodes[node]\n",
        "  if node_attribute_dict.get('title') is None:\n",
        "    flag = False\n",
        "    break\n",
        "print(flag)"
      ],
      "execution_count": null,
      "outputs": [
        {
          "output_type": "stream",
          "text": [
            "True\n"
          ],
          "name": "stdout"
        }
      ]
    },
    {
      "cell_type": "code",
      "metadata": {
        "id": "tnwsfgVA2clG"
      },
      "source": [
        "#nx.set_node_attributes(G, pd.Series(features_df.PATENT, index=features_df.PATENT).to_dict(), 'patent')\n",
        "#nx.set_node_attributes(G, pd.Series(features_df.GYEAR, index=features_df.PATENT).to_dict(), 'grant_year')\n",
        "#nx.set_node_attributes(G, pd.Series(features_df.Title, index=features_df.PATENT).to_dict(), 'title')\n",
        "#nx.set_node_attributes(G, pd.Series(features_df.SubCatName, index=features_df.PATENT).to_dict(), 'sub_category')"
      ],
      "execution_count": null,
      "outputs": []
    },
    {
      "cell_type": "code",
      "metadata": {
        "colab": {
          "base_uri": "https://localhost:8080/"
        },
        "id": "xsKJ9mFs4N73",
        "outputId": "ab449978-37c4-4dd9-eded-e186c9f345ad"
      },
      "source": [
        "print(G.nodes[3858245])"
      ],
      "execution_count": null,
      "outputs": [
        {
          "output_type": "stream",
          "text": [
            "{'grant_year': 1975, 'title': 'Prosthesis (i.e., Artificial Body Members), Parts Thereof, or Aids and Accessories Therefor', 'sub_category': 'Miscellaneous-Drgs&Med', 'category': 'Drugs&Medical'}\n"
          ],
          "name": "stdout"
        }
      ]
    },
    {
      "cell_type": "code",
      "metadata": {
        "id": "TWwB-o2f15n7"
      },
      "source": [
        "q = \"Semiconductor\""
      ],
      "execution_count": null,
      "outputs": []
    },
    {
      "cell_type": "code",
      "metadata": {
        "id": "bIJy41Sh14OJ"
      },
      "source": [
        "max_M = -1;\n",
        "for node in G.nodes():\n",
        "  G.nodes[node]['Matching Score'] =  fuzz.token_set_ratio(q, G.nodes[node]['title'])/100\n",
        "  max_M = max(max_M,G.nodes[node]['Matching Score'])\n"
      ],
      "execution_count": null,
      "outputs": []
    },
    {
      "cell_type": "code",
      "metadata": {
        "colab": {
          "base_uri": "https://localhost:8080/"
        },
        "id": "p1-G9f29n8Rd",
        "outputId": "c8c2a069-4a05-4bbf-bb4b-2a93f87c4456"
      },
      "source": [
        "max_M\n"
      ],
      "execution_count": null,
      "outputs": [
        {
          "output_type": "execute_result",
          "data": {
            "text/plain": [
              "1.0"
            ]
          },
          "metadata": {
            "tags": []
          },
          "execution_count": 49
        }
      ]
    },
    {
      "cell_type": "code",
      "metadata": {
        "id": "VqQOWdkq0PyF"
      },
      "source": [
        "mi_nodes = []\n",
        "threshold = 0.99\n",
        "for nodes in G.nodes():\n",
        "  if G.nodes[nodes]['Matching Score'] > threshold:\n",
        "    mi_nodes.append(nodes)"
      ],
      "execution_count": null,
      "outputs": []
    },
    {
      "cell_type": "code",
      "metadata": {
        "colab": {
          "base_uri": "https://localhost:8080/"
        },
        "id": "Tkv2mJbC0fQ8",
        "outputId": "2696ef2a-7f3e-4105-c947-588684b14891"
      },
      "source": [
        "len(mi_nodes)"
      ],
      "execution_count": null,
      "outputs": [
        {
          "output_type": "execute_result",
          "data": {
            "text/plain": [
              "7293"
            ]
          },
          "metadata": {
            "tags": []
          },
          "execution_count": 51
        }
      ]
    },
    {
      "cell_type": "code",
      "metadata": {
        "colab": {
          "base_uri": "https://localhost:8080/"
        },
        "id": "Ti07RWI6uvC4",
        "outputId": "eb5efa40-1aeb-4424-dfd1-c84d69da8f03"
      },
      "source": [
        "target_df['CAT'].unique()"
      ],
      "execution_count": null,
      "outputs": [
        {
          "output_type": "execute_result",
          "data": {
            "text/plain": [
              "array([3, 6, 5, 1, 4, 2])"
            ]
          },
          "metadata": {
            "tags": []
          },
          "execution_count": 52
        }
      ]
    },
    {
      "cell_type": "code",
      "metadata": {
        "id": "-8ZiKIjxsQdm"
      },
      "source": [
        "V = G.number_of_nodes()\n",
        "E = G.number_of_edges()"
      ],
      "execution_count": null,
      "outputs": []
    },
    {
      "cell_type": "code",
      "metadata": {
        "colab": {
          "base_uri": "https://localhost:8080/"
        },
        "id": "KPuNiTWesV2s",
        "outputId": "4aceb28c-bc3b-4306-a767-6a9852aa4f61"
      },
      "source": [
        "print(V,E)\n"
      ],
      "execution_count": null,
      "outputs": [
        {
          "output_type": "stream",
          "text": [
            "633587 2277425\n"
          ],
          "name": "stdout"
        }
      ]
    },
    {
      "cell_type": "code",
      "metadata": {
        "id": "CqcnzT9HwnXd"
      },
      "source": [
        "# nx.write_gexf(G, \"Patent_Graph.gexf\") "
      ],
      "execution_count": null,
      "outputs": []
    },
    {
      "cell_type": "code",
      "metadata": {
        "id": "mXhQ2BVAJe9A"
      },
      "source": [
        "max_patent = -1\n",
        "min_patent = 10**10\n",
        "for node in G.nodes():\n",
        "  max_patent = max(max_patent,node)\n",
        "  min_patent = min(min_patent,node)"
      ],
      "execution_count": null,
      "outputs": []
    },
    {
      "cell_type": "code",
      "metadata": {
        "colab": {
          "base_uri": "https://localhost:8080/"
        },
        "id": "lxYJCeo0M4fd",
        "outputId": "ef87ffa7-be48-44bd-8e2b-08ad1d63b834"
      },
      "source": [
        "print(min_patent,max_patent)"
      ],
      "execution_count": null,
      "outputs": [
        {
          "output_type": "stream",
          "text": [
            "3858245 5855020\n"
          ],
          "name": "stdout"
        }
      ]
    },
    {
      "cell_type": "code",
      "metadata": {
        "colab": {
          "base_uri": "https://localhost:8080/"
        },
        "id": "_XQz1kOeB9Jz",
        "outputId": "22fd74c0-7944-4709-aa7e-3e69c66e4430"
      },
      "source": [
        "a = [1,\"2assa\",3]\n",
        "b = [\"2assa\",4,5]\n",
        "c = list(set(a) & set(b))\n",
        "d = list(set(a) | set(b))\n",
        "print(c)"
      ],
      "execution_count": null,
      "outputs": [
        {
          "output_type": "stream",
          "text": [
            "['2assa']\n"
          ],
          "name": "stdout"
        }
      ]
    },
    {
      "cell_type": "code",
      "metadata": {
        "id": "pmXy2yL77gtJ"
      },
      "source": [
        "for u,v in G.edges():\n",
        "  u_sub_category = []\n",
        "  u_category = []\n",
        "  v_sub_category = []\n",
        "  v_category = []\n",
        "  u_neighbour_list = list(G.neighbors(u))\n",
        "  v_neighbour_list = list(G.neighbors(v))\n",
        "  \n",
        "  for node in u_neighbour_list:\n",
        "    u_sub_category.append(G.nodes[node]['sub_category'])\n",
        "    u_category.append(G.nodes[node]['category'])\n",
        "  \n",
        "  for node in v_neighbour_list:\n",
        "    v_sub_category.append(G.nodes[node]['sub_category'])\n",
        "    v_category.append(G.nodes[node]['category'])\n",
        "  \n",
        "  sc_intersection = list(set(u_sub_category) & set(v_sub_category))\n",
        "  sc_union = list(set(u_sub_category) | set(v_sub_category))\n",
        "  sc_jaccard = len(sc_intersection)/len(sc_union)\n",
        "\n",
        "  c_intersection = list(set(u_category) & set(v_category))\n",
        "  c_union = list(set(u_category) | set(v_category))\n",
        "  c_jaccard = len(c_intersection)/len(c_union)\n",
        "\n",
        "  G[u][v]['weight'] = 0.75*sc_jaccard+0.25*c_jaccard\n"
      ],
      "execution_count": null,
      "outputs": []
    },
    {
      "cell_type": "code",
      "metadata": {
        "id": "3lEVheRLMK_U"
      },
      "source": [
        "benefit = [[] for _ in range(max_patent+1)]\n",
        "loss = [[] for _ in range(max_patent+1)]"
      ],
      "execution_count": null,
      "outputs": []
    },
    {
      "cell_type": "code",
      "metadata": {
        "id": "pLTPLDpfMSpu"
      },
      "source": [
        "for node in G.nodes():\n",
        "  benefit[node].append(0)\n",
        "  loss[node].append(0)"
      ],
      "execution_count": null,
      "outputs": []
    },
    {
      "cell_type": "code",
      "metadata": {
        "id": "0q8sBjkOMfGc"
      },
      "source": [
        "error = 1\n",
        "threshold = 10 ** (-10)\n",
        "k=0;\n",
        "alpha = 0.85\n",
        "beta = 0.85\n",
        "lamda = 0.5\n",
        "query = 5855020 "
      ],
      "execution_count": null,
      "outputs": []
    },
    {
      "cell_type": "code",
      "metadata": {
        "colab": {
          "base_uri": "https://localhost:8080/"
        },
        "id": "jpl2YfDVS_Km",
        "outputId": "866227d7-2fd8-4c71-8d02-1e93088c82b0"
      },
      "source": [
        "# list(G.neighbors(5855020))\n",
        "G.nodes[5855020]"
      ],
      "execution_count": null,
      "outputs": [
        {
          "output_type": "execute_result",
          "data": {
            "text/plain": [
              "{'Matching Score': 0.25,\n",
              " 'category': 'Computers&Communications',\n",
              " 'grant_year': 1998,\n",
              " 'sub_category': 'Computer Hardware & Software',\n",
              " 'title': 'Data Processing:  Database and File Management, Data Structures, or Document Processing'}"
            ]
          },
          "metadata": {
            "tags": []
          },
          "execution_count": 63
        }
      ]
    },
    {
      "cell_type": "code",
      "metadata": {
        "colab": {
          "base_uri": "https://localhost:8080/"
        },
        "id": "7fwv2cgnSr4_",
        "outputId": "469e9e52-da5d-476d-9eaf-80936c530bfc"
      },
      "source": [
        "query_neighbor_mi_list = []\n",
        "for node in list(G.neighbors(5855020)):\n",
        "  query_neighbor_mi_list.append(G.nodes[node]['Matching Score'])\n",
        "query_neighbor_mi_list.sort()\n",
        "opt_lambda = statistics.median(query_neighbor_mi_list)\n",
        "print(opt_lambda)"
      ],
      "execution_count": null,
      "outputs": [
        {
          "output_type": "stream",
          "text": [
            "0.25\n"
          ],
          "name": "stdout"
        }
      ]
    },
    {
      "cell_type": "markdown",
      "metadata": {
        "id": "ZabIthQ3Mmin"
      },
      "source": [
        "Algorithm 1 -- hyper parameters(alpha,beta,lambda) have to be set and query node also has to be identified so that we can proceed further"
      ]
    },
    {
      "cell_type": "code",
      "metadata": {
        "id": "yT4NaUNSMQwy"
      },
      "source": [
        "def ComputeBLScore(it=4, alpha=0.85, beta=0.85, lamda=0.5 ):\n",
        "  \n",
        "  benefit = [[] for _ in range(max_patent+1)]\n",
        "  loss = [[] for _ in range(max_patent+1)]\n",
        "  \n",
        "  for node in G.nodes():\n",
        "    benefit[node].append(0)\n",
        "    loss[node].append(0)\n",
        "\n",
        "  k=0\n",
        "  \n",
        "  while k < it:\n",
        "    k+=1;\n",
        "    for node in G.nodes():\n",
        "      benefit[node].append(0)\n",
        "      loss[node].append(0);\n",
        "      neighbour_list = list(G.neighbors(node))\n",
        "      for neighbour in neighbour_list:\n",
        "        benefit[node][k] += (G[node][neighbour]['weight'])*(1-lamda)*(alpha*benefit[neighbour][k-1] + (1-alpha)*G.nodes[neighbour]['Matching Score'])/E\n",
        "        loss[node][k] += (G[node][neighbour]['weight'])*(beta*loss[neighbour][k-1] + (1-beta)*(1-G.nodes[neighbour]['Matching Score']))/E\n",
        "    ## query node \n",
        "    benefit[query][k] += lamda/V;\n",
        "    error = 0;\n",
        "    for i in G.nodes():\n",
        "      val = ((benefit[i][k]-benefit[i][k-1])**2 + (loss[i][k]-loss[i][k-1])**2)\n",
        "      #print(val,\"HI\")\n",
        "      error += ((benefit[i][k]-benefit[i][k-1])**2 + (loss[i][k]-loss[i][k-1])**2) + (math.exp(-10))*(1/((alpha)**2) + 1/((beta)**2))\n",
        "    error = error ** 0.5\n",
        "  return error"
      ],
      "execution_count": null,
      "outputs": []
    },
    {
      "cell_type": "markdown",
      "metadata": {
        "id": "DxntGs521fWM"
      },
      "source": [
        "Variation of Parameter Values --> For alpha and beta we go ahead with random sampling from a uniform distribution and optimise the error function. The optimisation is a minimisation one as we aim to minimise the error. We iterate over 100 different iterations each one sampling an alpha beta from uniform distribution."
      ]
    },
    {
      "cell_type": "markdown",
      "metadata": {
        "id": "YSbbKV2p1nzf"
      },
      "source": [
        "This function is a truncated normal distribution function which ensures that each value drawn is from 0 to 1 as alpha and beta cant be ngative and is in between 0 and 1"
      ]
    },
    {
      "cell_type": "code",
      "metadata": {
        "id": "HUqDkARw1bJL"
      },
      "source": [
        "def get_truncated_normal(mean=0, sd=1, low=0, upp=1):\n",
        "    return truncnorm(\n",
        "        (low - mean) / sd, (upp - mean) / sd, loc=mean, scale=sd)"
      ],
      "execution_count": null,
      "outputs": []
    },
    {
      "cell_type": "markdown",
      "metadata": {
        "id": "oj74uuGn1o1i"
      },
      "source": [
        "Change range to 100 and run when time permits"
      ]
    },
    {
      "cell_type": "code",
      "metadata": {
        "id": "m_qdISwi1jLe"
      },
      "source": [
        "def normalDist(it=20):\n",
        "  min_error = float('inf')\n",
        "  opt_alpha = 0.85\n",
        "  opt_beta = 0.85\n",
        "  k = 0\n",
        "  for it in range(1,it):\n",
        "      alpha = get_truncated_normal(mean=0, sd=1, low=0, upp=1).rvs()\n",
        "      beta =  get_truncated_normal(mean=0, sd=1, low=0, upp=1).rvs()\n",
        "      curr_error =  ComputeBLScore(alpha=alpha, beta=beta, lamda=opt_lambda)\n",
        "      if curr_error<min_error:\n",
        "        min_error = curr_error\n",
        "        opt_alpha = alpha\n",
        "        opt_beta = beta\n",
        "  return (opt_alpha,opt_beta,min_error)    "
      ],
      "execution_count": null,
      "outputs": []
    },
    {
      "cell_type": "code",
      "metadata": {
        "id": "eYMEktvE-s8F"
      },
      "source": [
        "def uniformDist(it=20):\n",
        "  min_error = float('inf')\n",
        "  opt_alpha = 0.85\n",
        "  opt_beta = 0.85\n",
        "  k = 0\n",
        "  for it in range(1,it):\n",
        "    alpha = np.random.uniform(0, 1, 1)\n",
        "    beta = np.random.uniform(0, 1, 1)\n",
        "    curr_error = ComputeBLScore(alpha=alpha, beta=beta, lamda=opt_lambda)\n",
        "    if curr_error<min_error:\n",
        "      min_error = curr_error\n",
        "      opt_alpha = alpha\n",
        "      opt_beta = beta\n",
        "  return (opt_alpha,opt_beta,min_error)"
      ],
      "execution_count": null,
      "outputs": []
    },
    {
      "cell_type": "code",
      "metadata": {
        "id": "G_1Izo_31y4k"
      },
      "source": [
        "# opt_alpha_normal, opt_beta_normal, min_error_normal = normalDist(it=5)"
      ],
      "execution_count": null,
      "outputs": []
    },
    {
      "cell_type": "code",
      "metadata": {
        "id": "2SR0H35j10Un"
      },
      "source": [
        "# opt_alpha_uniform, opt_beta_uniform, min_error_uniform = uniformDist(it=5)"
      ],
      "execution_count": null,
      "outputs": []
    },
    {
      "cell_type": "markdown",
      "metadata": {
        "id": "UTtjyw8I14ma"
      },
      "source": [
        "Print optimum alpha beta for uniform and normal distributions"
      ]
    },
    {
      "cell_type": "code",
      "metadata": {
        "id": "PQZsWVIu19vx"
      },
      "source": [
        "# print(\"Normal Distribution\",min_error_normal)\n",
        "# print(\"Opt Alpha is\",opt_alpha_normal, \"Opt Beta is\",opt_beta_normal, \"Opt Lambda is\",opt_lambda)"
      ],
      "execution_count": null,
      "outputs": []
    },
    {
      "cell_type": "code",
      "metadata": {
        "id": "Qbgxpkh-1-ZA"
      },
      "source": [
        "# print(\"Uniform Distribution\",min_error_uniform)\n",
        "# print(\"Opt Alpha is\",opt_alpha_uniform, \"Opt Beta is\",opt_beta_uniform, \"Opt Lambda is\",opt_lambda)"
      ],
      "execution_count": null,
      "outputs": []
    },
    {
      "cell_type": "code",
      "metadata": {
        "id": "vpSMx-eo2D1T"
      },
      "source": [
        "# opt_alpha = opt_alpha_normal if min_error_normal<=min_error_uniform else opt_alpha_uniform\n",
        "# opt_beta = opt_beta_normal if min_error_normal<=min_error_uniform else opt_beta_uniform"
      ],
      "execution_count": null,
      "outputs": []
    },
    {
      "cell_type": "code",
      "metadata": {
        "id": "yBgIImr62FfU"
      },
      "source": [
        "# opt_alpha,opt_beta"
      ],
      "execution_count": null,
      "outputs": []
    },
    {
      "cell_type": "code",
      "metadata": {
        "id": "yCDl0BrIFOPx"
      },
      "source": [
        "opt_alpha=0.845\n",
        "opt_beta = 0.901"
      ],
      "execution_count": null,
      "outputs": []
    },
    {
      "cell_type": "code",
      "metadata": {
        "id": "7j0nwHj0MmDl",
        "colab": {
          "base_uri": "https://localhost:8080/"
        },
        "outputId": "5dd1d91e-d3fd-4aaf-9052-d7c563c76468"
      },
      "source": [
        "start_time = time.time()\n",
        "error = 1\n",
        "threshold = 10 ** (-10)\n",
        "k=0;\n",
        "alpha = opt_alpha\n",
        "beta = opt_beta\n",
        "lamda = opt_lambda\n",
        "benefit = [[] for _ in range(max_patent+1)]\n",
        "loss = [[] for _ in range(max_patent+1)]\n",
        "for i in G.nodes():\n",
        "    benefit[i].append(0)\n",
        "    loss[i].append(0)\n",
        "while error > threshold:\n",
        "  k+=1;\n",
        "  for node in G.nodes():\n",
        "    benefit[node].append(0)\n",
        "    loss[node].append(0);\n",
        "    neighbour_list = list(G.neighbors(node))\n",
        "    for neighbour in neighbour_list:\n",
        "      benefit[node][k] += (G[node][neighbour]['weight'])*(1-lamda)*(alpha*benefit[neighbour][k-1] + (1-alpha)*G.nodes[neighbour]['Matching Score'])/E \n",
        "      loss[node][k] += (G[node][neighbour]['weight'])*(beta*loss[neighbour][k-1] + (1-beta)*(1-G.nodes[neighbour]['Matching Score']))/E\n",
        "  ## query node \n",
        "  benefit[query][k] += lamda/V;\n",
        "  error = 0;\n",
        "  for i in G.nodes():\n",
        "    error += ((benefit[i][k]-benefit[i][k-1])**2 + (loss[i][k]-loss[i][k-1])**2)\n",
        "  error = error ** 0.5\n",
        "end_time = (time.time() - start_time);\n",
        "print(\"Time taken is \",end_time)  \n"
      ],
      "execution_count": null,
      "outputs": [
        {
          "output_type": "stream",
          "text": [
            "Time taken is  65.84421491622925\n"
          ],
          "name": "stdout"
        }
      ]
    },
    {
      "cell_type": "code",
      "metadata": {
        "colab": {
          "base_uri": "https://localhost:8080/"
        },
        "id": "6FzD7FEYOjXN",
        "outputId": "bbbc6272-c498-4925-84c9-795b2afac114"
      },
      "source": [
        "k"
      ],
      "execution_count": null,
      "outputs": [
        {
          "output_type": "execute_result",
          "data": {
            "text/plain": [
              "3"
            ]
          },
          "metadata": {
            "tags": []
          },
          "execution_count": 77
        }
      ]
    },
    {
      "cell_type": "code",
      "metadata": {
        "id": "Wa2ehqV_7rLJ"
      },
      "source": [
        "# new_edge_df.to_csv('Patent_Edges.csv', index=False)"
      ],
      "execution_count": null,
      "outputs": []
    },
    {
      "cell_type": "code",
      "metadata": {
        "colab": {
          "base_uri": "https://localhost:8080/"
        },
        "id": "Gx-86OYTavQi",
        "outputId": "fe0af8d2-c7a3-44de-b197-c8fe85a9c026"
      },
      "source": [
        "print(G.number_of_nodes(), G.number_of_edges())"
      ],
      "execution_count": null,
      "outputs": [
        {
          "output_type": "stream",
          "text": [
            "633587 2277425\n"
          ],
          "name": "stdout"
        }
      ]
    },
    {
      "cell_type": "code",
      "metadata": {
        "colab": {
          "base_uri": "https://localhost:8080/"
        },
        "id": "cZKjPPwfbVzy",
        "outputId": "f6232a5d-5047-43bc-b290-97b60c7efe87"
      },
      "source": [
        "nx.density(G)"
      ],
      "execution_count": null,
      "outputs": [
        {
          "output_type": "execute_result",
          "data": {
            "text/plain": [
              "5.673254334658188e-06"
            ]
          },
          "metadata": {
            "tags": []
          },
          "execution_count": 80
        }
      ]
    },
    {
      "cell_type": "markdown",
      "metadata": {
        "id": "HJcKZ-RALTUv"
      },
      "source": [
        "Identify the top B bottom L and B-L"
      ]
    },
    {
      "cell_type": "code",
      "metadata": {
        "colab": {
          "base_uri": "https://localhost:8080/"
        },
        "id": "9WIohdLJjbZs",
        "outputId": "00f5fec9-e414-4611-d872-87af2b305bb1"
      },
      "source": [
        "len(G.nodes())"
      ],
      "execution_count": null,
      "outputs": [
        {
          "output_type": "execute_result",
          "data": {
            "text/plain": [
              "633587"
            ]
          },
          "metadata": {
            "tags": []
          },
          "execution_count": 81
        }
      ]
    },
    {
      "cell_type": "code",
      "metadata": {
        "id": "_fAHvYGJLSnA"
      },
      "source": [
        "marginal_score = []\n",
        "benefit_score = []\n",
        "loss_score = []\n",
        "for node in G.nodes():\n",
        "  if node == 526764:\n",
        "    print(\"hi\")  \n",
        "  ms = benefit[node][k] - loss[node][k]\n",
        "  bs = benefit[node][k]\n",
        "  ls = loss[node][k]\n",
        "  marginal_score.append((ms,node))\n",
        "  benefit_score.append((bs,node))\n",
        "  loss_score.append((ls,node))"
      ],
      "execution_count": null,
      "outputs": []
    },
    {
      "cell_type": "markdown",
      "metadata": {
        "id": "c2xYMYvILyhG"
      },
      "source": [
        "Setting a value for 'K' "
      ]
    },
    {
      "cell_type": "code",
      "metadata": {
        "id": "cmvEjdvYLHng"
      },
      "source": [
        "##defining top K nodes that we want \n",
        "K = 20\n",
        "top_marginal_nodes = [i[1] for i in sorted((marginal_score), key=lambda x:x[0], reverse=True)]\n",
        "top_benefit_nodes = [i[1] for i in sorted((benefit_score), key=lambda x:x[0], reverse=True)]\n",
        "bottam_loss_nodes  = [i[1] for i in sorted((loss_score), key=lambda x:x[0], reverse=False)]\n",
        "top_marginal_nodes = top_marginal_nodes[:K]\n",
        "top_benefit_nodes = top_benefit_nodes[:K]\n",
        "bottam_loss_nodes = bottam_loss_nodes[:K]"
      ],
      "execution_count": null,
      "outputs": []
    },
    {
      "cell_type": "code",
      "metadata": {
        "id": "J_-FzoNoze1k"
      },
      "source": [
        "# 295,32,34,165,271,17,1265,3078,7,168,1317,1261,2746,1091,1940,282 "
      ],
      "execution_count": null,
      "outputs": []
    },
    {
      "cell_type": "code",
      "metadata": {
        "id": "odMWkE6-BNqe"
      },
      "source": [
        "# marginal_score = sorted(marginal_score, key=lambda x:x[0], reverse=True)\n",
        "# top_marginal_nodes = []\n",
        "# cnt=0\n",
        "# for x,y in marginal_score:\n",
        "#   cnt=cnt+1\n",
        "#   if cnt == 21:\n",
        "#     break\n",
        "#   top_marginal_nodes.append(y)"
      ],
      "execution_count": null,
      "outputs": []
    },
    {
      "cell_type": "code",
      "metadata": {
        "colab": {
          "base_uri": "https://localhost:8080/"
        },
        "id": "CjdDzvyxM4wF",
        "outputId": "8aab179e-5f9b-498a-bb3a-001f4863c5b0"
      },
      "source": [
        "print(top_marginal_nodes)"
      ],
      "execution_count": null,
      "outputs": [
        {
          "output_type": "stream",
          "text": [
            "[4925806, 5409845, 5063168, 4713329, 5557131, 5747359, 5015595, 4567640, 5432103, 5234847, 5413966, 4701423, 5024959, 4902640, 5783470, 5166771, 4546535, 5298440, 4636834, 4933295]\n"
          ],
          "name": "stdout"
        }
      ]
    },
    {
      "cell_type": "code",
      "metadata": {
        "colab": {
          "base_uri": "https://localhost:8080/"
        },
        "id": "s4T48ybH3xg1",
        "outputId": "495d3303-a2df-4892-925e-633452f0315a"
      },
      "source": [
        "print(G.nodes[4925806])"
      ],
      "execution_count": null,
      "outputs": [
        {
          "output_type": "stream",
          "text": [
            "{'grant_year': 1990, 'title': 'Semiconductor Device Manufacturing: Process', 'sub_category': 'Semiconductor-Devices', 'category': 'Electrical&Electronic', 'Matching Score': 1.0}\n"
          ],
          "name": "stdout"
        }
      ]
    },
    {
      "cell_type": "markdown",
      "metadata": {
        "id": "ma6Wg-sO1b4k"
      },
      "source": [
        "Algo for Influence Spread\n"
      ]
    },
    {
      "cell_type": "code",
      "metadata": {
        "id": "8CAnJQHa1g_q"
      },
      "source": [
        "def influenceSpread(G,S,p=0.00001,mc=1000):\n",
        "    \"\"\"\n",
        "    Input:  graph object, set of seed nodes, propagation probability\n",
        "            and the number of Monte-Carlo simulations\n",
        "    Output: average number of nodes influenced by the seed nodes\n",
        "    \"\"\"\n",
        "    spread = []\n",
        "    for i in range(mc):\n",
        "      new_active, A = S[:],S[:]\n",
        "      while new_active:\n",
        "        new_ones = []\n",
        "        for node in new_active:\n",
        "          np.random.seed(i)\n",
        "          success = np.random.uniform(0,1,len(list(G.neighbors(node)))) < p\n",
        "          new_ones = list(np.extract(success,list(G.neighbors(node))))\n",
        "         \n",
        "        new_active = list(set(new_ones) - set(A))\n",
        "        A += new_active\n",
        "      \n",
        "      spread.append(len(A))\n",
        "\n",
        "    return(np.mean(spread))"
      ],
      "execution_count": null,
      "outputs": []
    },
    {
      "cell_type": "code",
      "metadata": {
        "id": "3FYBXWI9106M"
      },
      "source": [
        "S = []\n",
        "mi_influence_spread = []\n",
        "b_influence_spread = []\n",
        "\n",
        "for node in top_marginal_nodes:\n",
        "  S.append(node)\n",
        "  mi_influence_spread.append(influenceSpread(G,S))\n",
        "S_b = []\n",
        "for node in top_benefit_nodes:\n",
        "  S_b.append(node)\n",
        "  b_influence_spread.append(influenceSpread(G,S_b))\n"
      ],
      "execution_count": null,
      "outputs": []
    },
    {
      "cell_type": "code",
      "metadata": {
        "id": "L_iAJ9UssmKN"
      },
      "source": [
        "hslfa_im_nodes = [4111210, 3940291, 4292958, 4279933, 4218922, 4247970, 3938177, 3987684, 4244026, 4179059, 4261758, 4253070, 3975134, 3951772, 4239346, 4239347, 4391485, 4241870, 4234965, 4249744]"
      ],
      "execution_count": null,
      "outputs": []
    },
    {
      "cell_type": "code",
      "metadata": {
        "id": "FgQaXmVxzJkE"
      },
      "source": [
        "# G.nodes[261044]"
      ],
      "execution_count": null,
      "outputs": []
    },
    {
      "cell_type": "code",
      "metadata": {
        "id": "wY3dv7l7tJ_x"
      },
      "source": [
        "S_hslfa = []\n",
        "hslfa_influence_spread = []\n",
        "for node in hslfa_im_nodes:\n",
        "  S_hslfa.append(node)\n",
        "  hslfa_influence_spread.append(influenceSpread(G,S_hslfa))\n"
      ],
      "execution_count": null,
      "outputs": []
    },
    {
      "cell_type": "markdown",
      "metadata": {
        "id": "tqc8Ky7nL_iI"
      },
      "source": [
        "The list of nodes that we got from the Game theory IM algorithm"
      ]
    },
    {
      "cell_type": "code",
      "metadata": {
        "id": "8HWU90biL84Q"
      },
      "source": [
        "# give mapping nodes appropriately\n",
        "imlist = [4190885, 4177095, 4332652, 3887263, 3944983, 3891019, 3985807, 3988167, 4263648, 4044331, 4313161, 4107629, 4299782, 4059198, 3925105, 3972989, 4384285, 4153428, 3946572, 4210866]"
      ],
      "execution_count": null,
      "outputs": []
    },
    {
      "cell_type": "code",
      "metadata": {
        "id": "Ztsyr3UBfU-d"
      },
      "source": [
        "# print(G.nodes[6813])"
      ],
      "execution_count": null,
      "outputs": []
    },
    {
      "cell_type": "code",
      "metadata": {
        "colab": {
          "base_uri": "https://localhost:8080/"
        },
        "id": "QLDOFEaQe3Hx",
        "outputId": "82639cd3-3a86-4363-c480-4c2543ffcec2"
      },
      "source": [
        "S_GT = []\n",
        "influence_spread_GT = []\n",
        "for node in imlist:\n",
        "  S_GT.append(node)\n",
        "  influence_spread_GT.append(influenceSpread(G,S_GT))\n",
        "\n",
        "influence_spread_GT"
      ],
      "execution_count": null,
      "outputs": [
        {
          "output_type": "execute_result",
          "data": {
            "text/plain": [
              "[1.0,\n",
              " 2.0,\n",
              " 3.0,\n",
              " 4.0,\n",
              " 5.0,\n",
              " 6.0,\n",
              " 7.0,\n",
              " 8.0,\n",
              " 9.0,\n",
              " 10.0,\n",
              " 11.0,\n",
              " 12.0,\n",
              " 13.0,\n",
              " 14.0,\n",
              " 15.0,\n",
              " 16.0,\n",
              " 17.0,\n",
              " 18.0,\n",
              " 19.0,\n",
              " 20.0]"
            ]
          },
          "metadata": {
            "tags": []
          },
          "execution_count": 95
        }
      ]
    },
    {
      "cell_type": "code",
      "metadata": {
        "colab": {
          "base_uri": "https://localhost:8080/"
        },
        "id": "K5T42msAgIB1",
        "outputId": "0e00f472-4aa1-43df-cc74-e3cfc9124310"
      },
      "source": [
        "l_deg_discount = []\n",
        "influence_spread_deg_discount = []\n",
        "for node in S_deg_discount:\n",
        "  l_deg_discount.append(node)\n",
        "  influence_spread_deg_discount.append(influenceSpread(G,l_deg_discount))\n",
        "\n",
        "influence_spread_deg_discount"
      ],
      "execution_count": null,
      "outputs": [
        {
          "output_type": "execute_result",
          "data": {
            "text/plain": [
              "[1.003,\n",
              " 2.0,\n",
              " 3.002,\n",
              " 4.002,\n",
              " 5.002,\n",
              " 6.002,\n",
              " 7.002,\n",
              " 8.002,\n",
              " 9.002,\n",
              " 10.0,\n",
              " 11.001,\n",
              " 12.0,\n",
              " 13.0,\n",
              " 14.0,\n",
              " 15.0,\n",
              " 16.002,\n",
              " 17.0,\n",
              " 18.0,\n",
              " 19.0,\n",
              " 20.0]"
            ]
          },
          "metadata": {
            "tags": []
          },
          "execution_count": 96
        }
      ]
    },
    {
      "cell_type": "code",
      "metadata": {
        "colab": {
          "base_uri": "https://localhost:8080/"
        },
        "id": "cq0SZ9tohE-m",
        "outputId": "dcc829ff-3ffc-427c-e6e4-98362bd48bfa"
      },
      "source": [
        "l_si_deg_discount = []\n",
        "influence_spread_si_deg_discount = []\n",
        "for node in S_sin_deg_discount:\n",
        "  l_si_deg_discount.append(node)\n",
        "  influence_spread_si_deg_discount.append(influenceSpread(G,l_si_deg_discount))\n",
        "\n",
        "influence_spread_si_deg_discount"
      ],
      "execution_count": null,
      "outputs": [
        {
          "output_type": "execute_result",
          "data": {
            "text/plain": [
              "[1.003,\n",
              " 2.0,\n",
              " 3.002,\n",
              " 4.002,\n",
              " 5.002,\n",
              " 6.002,\n",
              " 7.002,\n",
              " 8.002,\n",
              " 9.002,\n",
              " 10.0,\n",
              " 11.001,\n",
              " 12.0,\n",
              " 13.0,\n",
              " 14.0,\n",
              " 15.0,\n",
              " 16.002,\n",
              " 17.0,\n",
              " 18.0,\n",
              " 19.0,\n",
              " 20.0]"
            ]
          },
          "metadata": {
            "tags": []
          },
          "execution_count": 97
        }
      ]
    },
    {
      "cell_type": "code",
      "metadata": {
        "colab": {
          "base_uri": "https://localhost:8080/"
        },
        "id": "ZJtQQ5EmhgFV",
        "outputId": "e44c3a18-29db-4527-a24c-44522de00005"
      },
      "source": [
        "ris_list = [4347180, 4385363, 4424386, 4460292, 4460829, 4472486, 4692291, 4731408, 4962139, 5006790, 5049443, 5103241, 5158967, 5304665, 5374189, 5387554, 5440720, 5512438, 5778425, 5797091]\n",
        "S_RIS = []\n",
        "influence_spread_RIS = []\n",
        "for node in ris_list:\n",
        "  S_RIS.append(node)\n",
        "  influence_spread_RIS.append(influenceSpread(G,S_RIS))\n",
        "\n",
        "influence_spread_RIS"
      ],
      "execution_count": null,
      "outputs": [
        {
          "output_type": "execute_result",
          "data": {
            "text/plain": [
              "[1.0,\n",
              " 2.0,\n",
              " 3.0,\n",
              " 4.0,\n",
              " 5.0,\n",
              " 6.0,\n",
              " 7.0,\n",
              " 8.0,\n",
              " 9.0,\n",
              " 10.0,\n",
              " 11.0,\n",
              " 12.0,\n",
              " 13.0,\n",
              " 14.0,\n",
              " 15.0,\n",
              " 16.0,\n",
              " 17.0,\n",
              " 18.0,\n",
              " 19.0,\n",
              " 20.001]"
            ]
          },
          "metadata": {
            "tags": []
          },
          "execution_count": 98
        }
      ]
    },
    {
      "cell_type": "markdown",
      "metadata": {
        "id": "lo1A0E4Thuel"
      },
      "source": [
        "Neighbours Remove Influence Spread\n"
      ]
    },
    {
      "cell_type": "code",
      "metadata": {
        "id": "FfDd5H3rhwJV"
      },
      "source": [
        "influence_spread_neighbour_remove = [1.005, 2.002, 3.008, 4.009, 5.009, 6.017,  7.023, 8.02, 9.025, 10.021, 11.024, 12.024, 13.029, 14.028, 15.028, 16.024, 17.022, 18.02, 19.03, 20.024]"
      ],
      "execution_count": null,
      "outputs": []
    },
    {
      "cell_type": "markdown",
      "metadata": {
        "id": "hw_g-1EHh0rt"
      },
      "source": [
        "Degree Decrease Influence Spread"
      ]
    },
    {
      "cell_type": "code",
      "metadata": {
        "id": "ebtpfPj_h4Z-"
      },
      "source": [
        "influence_spread_degree_decrease = [1.004, 2.005, 3.009, 4.008, 5.015, 6.015, 7.015, 8.022, 9.018, 10.03, 11.019, 12.013, 13.026, 14.022, 15.03, 16.035, 17.028, 18.035, 19.034, 20.032]"
      ],
      "execution_count": null,
      "outputs": []
    },
    {
      "cell_type": "markdown",
      "metadata": {
        "id": "lNi99HZti69_"
      },
      "source": [
        "Monte Carlo Influence Spread p = 0.00001 and simulations = 1000"
      ]
    },
    {
      "cell_type": "code",
      "metadata": {
        "colab": {
          "base_uri": "https://localhost:8080/"
        },
        "id": "dGHImhIii7vO",
        "outputId": "77f67d0b-d588-4dfc-dce6-b1d44f0c8f4c"
      },
      "source": [
        "k_array = [i for i in range(1,21)]\n",
        "print(k_array)"
      ],
      "execution_count": null,
      "outputs": [
        {
          "output_type": "stream",
          "text": [
            "[1, 2, 3, 4, 5, 6, 7, 8, 9, 10, 11, 12, 13, 14, 15, 16, 17, 18, 19, 20]\n"
          ],
          "name": "stdout"
        }
      ]
    },
    {
      "cell_type": "code",
      "metadata": {
        "colab": {
          "base_uri": "https://localhost:8080/"
        },
        "id": "73DRzWh4i-qs",
        "outputId": "0d1a1c4b-23c8-427e-bdb3-059c823cfd23"
      },
      "source": [
        "influence_spread_GT"
      ],
      "execution_count": null,
      "outputs": [
        {
          "output_type": "execute_result",
          "data": {
            "text/plain": [
              "[1.0,\n",
              " 2.0,\n",
              " 3.0,\n",
              " 4.0,\n",
              " 5.0,\n",
              " 6.0,\n",
              " 7.0,\n",
              " 8.0,\n",
              " 9.0,\n",
              " 10.0,\n",
              " 11.0,\n",
              " 12.0,\n",
              " 13.0,\n",
              " 14.0,\n",
              " 15.0,\n",
              " 16.0,\n",
              " 17.0,\n",
              " 18.0,\n",
              " 19.0,\n",
              " 20.0]"
            ]
          },
          "metadata": {
            "tags": []
          },
          "execution_count": 102
        }
      ]
    },
    {
      "cell_type": "code",
      "metadata": {
        "colab": {
          "base_uri": "https://localhost:8080/",
          "height": 312
        },
        "id": "DTZJ_iu1jLr9",
        "outputId": "dc7d064c-426e-4887-94aa-1d9b45dd9e50"
      },
      "source": [
        "plt.plot(k_array, influence_spread_GT, label = \"Game Theory IM\")\n",
        "plt.plot(k_array, influence_spread_deg_discount, label = \"Degree Discount\")\n",
        "plt.plot(k_array, influence_spread_si_deg_discount, label = \"Single Degree Discount\")\n",
        "plt.plot(k_array, influence_spread_neighbour_remove, label = \"Neighbour Remove\")\n",
        "plt.plot(k_array, influence_spread_degree_decrease, label = \"Degree Decrease\")\n",
        "plt.plot(k_array, influence_spread_RIS, label = \"RIS IM\")\n",
        "plt.plot(k_array, hslfa_influence_spread, label = \"HSFLA IM\")\n",
        "plt.plot(k_array, b_influence_spread, label = \"Benefit IM\")\n",
        "plt.plot(k_array, mi_influence_spread, label = \"Marginal IM\")\n",
        "plt.title('Monte Carlo Influence Spread vs Seed Size')\n",
        "plt.xlabel('Seed(k)')\n",
        "plt.ylabel('Influence Spread')\n",
        "plt.legend(loc='upper right')"
      ],
      "execution_count": null,
      "outputs": [
        {
          "output_type": "execute_result",
          "data": {
            "text/plain": [
              "<matplotlib.legend.Legend at 0x7f49e5580e90>"
            ]
          },
          "metadata": {
            "tags": []
          },
          "execution_count": 103
        },
        {
          "output_type": "display_data",
          "data": {
            "image/png": "[encoded data removed]",
            "text/plain": [
              "<Figure size 432x288 with 1 Axes>"
            ]
          },
          "metadata": {
            "tags": [],
            "needs_background": "light"
          }
        }
      ]
    },
    {
      "cell_type": "code",
      "metadata": {
        "colab": {
          "base_uri": "https://localhost:8080/",
          "height": 542
        },
        "id": "_3MrzGDujVic",
        "outputId": "32dd0cd4-d991-47a9-9072-d330e637a251"
      },
      "source": [
        "trace1 = go.Scatter(\n",
        "x = k_array,\n",
        "y = (influence_spread_GT),\n",
        "mode = 'lines',\n",
        "name = 'Game Theory IM'\n",
        ")\n",
        "trace2 = go.Scatter(\n",
        "x = k_array,\n",
        "y = (influence_spread_deg_discount),\n",
        "mode = 'lines',\n",
        "name = 'Degree Discount'\n",
        ")\n",
        "trace3 = go.Scatter(\n",
        "x = k_array,\n",
        "y = (influence_spread_si_deg_discount),\n",
        "mode='lines',\n",
        "name = 'Single Degree Discount'\n",
        ")\n",
        "trace4 = go.Scatter(\n",
        "x = k_array,\n",
        "y = (influence_spread_neighbour_remove),\n",
        "mode='lines',\n",
        "name = 'Neighbour Remove'\n",
        ")\n",
        "trace5 = go.Scatter(\n",
        "x = k_array,\n",
        "y = (influence_spread_degree_decrease),\n",
        "mode='lines',\n",
        "name = 'Degree Decrease'\n",
        ")\n",
        "trace6 = go.Scatter(\n",
        "x = k_array,\n",
        "y = (influence_spread_RIS),\n",
        "mode='lines',\n",
        "name = 'RIS IM'\n",
        ")\n",
        "trace7 = go.Scatter(\n",
        "x = k_array,\n",
        "y = (b_influence_spread),\n",
        "mode='lines',\n",
        "name = 'Benefit IM'\n",
        ")\n",
        "trace8 = go.Scatter(\n",
        "x = k_array,\n",
        "y = (mi_influence_spread),\n",
        "mode='lines',\n",
        "name = 'Marginal IM'\n",
        ")\n",
        "trace9 = go.Scatter(\n",
        "x = k_array,\n",
        "y = (hslfa_influence_spread),\n",
        "mode='lines',\n",
        "name = 'HSFLA IM'\n",
        "    \n",
        ")\n",
        "layout = go.Layout(\n",
        "title = \"Monte Carlo influence Spread vs Seed Size\",\n",
        "xaxis = {'title' : \"Seed(k)\"},\n",
        "yaxis = {'title' : \"Influence Spread\"}\n",
        ")\n",
        "fig = go.Figure(data=[trace1, trace2, trace3,trace4,trace5,trace6,trace9,trace7,trace8], layout=layout)\n",
        "# fig = go.Figure(data=[ trace2, trace3,trace7], layout=layout)\n",
        "fig.show()"
      ],
      "execution_count": null,
      "outputs": [
        {
          "output_type": "display_data",
          "data": {
            "text/html": [
              "<html>\n",
              "<head><meta charset=\"utf-8\" /></head>\n",
              "<body>\n",
              "    <div>\n",
              "            <script src=\"https://cdnjs.cloudflare.com/ajax/libs/mathjax/2.7.5/MathJax.js?config=TeX-AMS-MML_SVG\"></script><script type=\"text/javascript\">if (window.MathJax) {MathJax.Hub.Config({SVG: {font: \"STIX-Web\"}});}</script>\n",
              "                <script type=\"text/javascript\">window.PlotlyConfig = {MathJaxConfig: 'local'};</script>\n",
              "        <script src=\"https://cdn.plot.ly/plotly-latest.min.js\"></script>    \n",
              "            <div id=\"c2ef7199-7969-42fc-a7e9-60866f1146cc\" class=\"plotly-graph-div\" style=\"height:525px; width:100%;\"></div>\n",
              "            <script type=\"text/javascript\">\n",
              "                \n",
              "                    window.PLOTLYENV=window.PLOTLYENV || {};\n",
              "                    \n",
              "                if (document.getElementById(\"c2ef7199-7969-42fc-a7e9-60866f1146cc\")) {\n",
              "                    Plotly.newPlot(\n",
              "                        'c2ef7199-7969-42fc-a7e9-60866f1146cc',\n",
              "                        [{\"mode\": \"lines\", \"name\": \"Game Theory IM\", \"type\": \"scatter\", \"x\": [1, 2, 3, 4, 5, 6, 7, 8, 9, 10, 11, 12, 13, 14, 15, 16, 17, 18, 19, 20], \"y\": [1.0, 2.0, 3.0, 4.0, 5.0, 6.0, 7.0, 8.0, 9.0, 10.0, 11.0, 12.0, 13.0, 14.0, 15.0, 16.0, 17.0, 18.0, 19.0, 20.0]}, {\"mode\": \"lines\", \"name\": \"Degree Discount\", \"type\": \"scatter\", \"x\": [1, 2, 3, 4, 5, 6, 7, 8, 9, 10, 11, 12, 13, 14, 15, 16, 17, 18, 19, 20], \"y\": [1.003, 2.0, 3.002, 4.002, 5.002, 6.002, 7.002, 8.002, 9.002, 10.0, 11.001, 12.0, 13.0, 14.0, 15.0, 16.002, 17.0, 18.0, 19.0, 20.0]}, {\"mode\": \"lines\", \"name\": \"Single Degree Discount\", \"type\": \"scatter\", \"x\": [1, 2, 3, 4, 5, 6, 7, 8, 9, 10, 11, 12, 13, 14, 15, 16, 17, 18, 19, 20], \"y\": [1.003, 2.0, 3.002, 4.002, 5.002, 6.002, 7.002, 8.002, 9.002, 10.0, 11.001, 12.0, 13.0, 14.0, 15.0, 16.002, 17.0, 18.0, 19.0, 20.0]}, {\"mode\": \"lines\", \"name\": \"Neighbour Remove\", \"type\": \"scatter\", \"x\": [1, 2, 3, 4, 5, 6, 7, 8, 9, 10, 11, 12, 13, 14, 15, 16, 17, 18, 19, 20], \"y\": [1.005, 2.002, 3.008, 4.009, 5.009, 6.017, 7.023, 8.02, 9.025, 10.021, 11.024, 12.024, 13.029, 14.028, 15.028, 16.024, 17.022, 18.02, 19.03, 20.024]}, {\"mode\": \"lines\", \"name\": \"Degree Decrease\", \"type\": \"scatter\", \"x\": [1, 2, 3, 4, 5, 6, 7, 8, 9, 10, 11, 12, 13, 14, 15, 16, 17, 18, 19, 20], \"y\": [1.004, 2.005, 3.009, 4.008, 5.015, 6.015, 7.015, 8.022, 9.018, 10.03, 11.019, 12.013, 13.026, 14.022, 15.03, 16.035, 17.028, 18.035, 19.034, 20.032]}, {\"mode\": \"lines\", \"name\": \"RIS IM\", \"type\": \"scatter\", \"x\": [1, 2, 3, 4, 5, 6, 7, 8, 9, 10, 11, 12, 13, 14, 15, 16, 17, 18, 19, 20], \"y\": [1.0, 2.0, 3.0, 4.0, 5.0, 6.0, 7.0, 8.0, 9.0, 10.0, 11.0, 12.0, 13.0, 14.0, 15.0, 16.0, 17.0, 18.0, 19.0, 20.001]}, {\"mode\": \"lines\", \"name\": \"HSFLA IM\", \"type\": \"scatter\", \"x\": [1, 2, 3, 4, 5, 6, 7, 8, 9, 10, 11, 12, 13, 14, 15, 16, 17, 18, 19, 20], \"y\": [1.0, 2.0, 3.0, 4.0, 5.0, 6.0, 7.0, 8.0, 9.0, 10.0, 11.0, 12.0, 13.0, 14.0, 15.0, 16.0, 17.0, 18.0, 19.0, 20.0]}, {\"mode\": \"lines\", \"name\": \"Benefit IM\", \"type\": \"scatter\", \"x\": [1, 2, 3, 4, 5, 6, 7, 8, 9, 10, 11, 12, 13, 14, 15, 16, 17, 18, 19, 20], \"y\": [1.002, 2.001, 3.002, 4.002, 5.001, 6.001, 7.002, 8.002, 9.0, 10.002, 11.002, 12.002, 13.002, 14.002, 15.002, 16.002, 17.002, 18.002, 19.001, 20.002]}, {\"mode\": \"lines\", \"name\": \"Marginal IM\", \"type\": \"scatter\", \"x\": [1, 2, 3, 4, 5, 6, 7, 8, 9, 10, 11, 12, 13, 14, 15, 16, 17, 18, 19, 20], \"y\": [1.001, 2.0, 3.001, 4.0, 5.001, 6.001, 7.0, 8.0, 9.0, 10.0, 11.002, 12.0, 13.0, 14.0, 15.0, 16.0, 17.0, 18.0, 19.0, 20.0]}],\n",
              "                        {\"template\": {\"data\": {\"bar\": [{\"error_x\": {\"color\": \"#2a3f5f\"}, \"error_y\": {\"color\": \"#2a3f5f\"}, \"marker\": {\"line\": {\"color\": \"#E5ECF6\", \"width\": 0.5}}, \"type\": \"bar\"}], \"barpolar\": [{\"marker\": {\"line\": {\"color\": \"#E5ECF6\", \"width\": 0.5}}, \"type\": \"barpolar\"}], \"carpet\": [{\"aaxis\": {\"endlinecolor\": \"#2a3f5f\", \"gridcolor\": \"white\", \"linecolor\": \"white\", \"minorgridcolor\": \"white\", \"startlinecolor\": \"#2a3f5f\"}, \"baxis\": {\"endlinecolor\": \"#2a3f5f\", \"gridcolor\": \"white\", \"linecolor\": \"white\", \"minorgridcolor\": \"white\", \"startlinecolor\": \"#2a3f5f\"}, \"type\": \"carpet\"}], \"choropleth\": [{\"colorbar\": {\"outlinewidth\": 0, \"ticks\": \"\"}, \"type\": \"choropleth\"}], \"contour\": [{\"colorbar\": {\"outlinewidth\": 0, \"ticks\": \"\"}, \"colorscale\": [[0.0, \"#0d0887\"], [0.1111111111111111, \"#46039f\"], [0.2222222222222222, \"#7201a8\"], [0.3333333333333333, \"#9c179e\"], [0.4444444444444444, \"#bd3786\"], [0.5555555555555556, \"#d8576b\"], [0.6666666666666666, \"#ed7953\"], [0.7777777777777778, \"#fb9f3a\"], [0.8888888888888888, \"#fdca26\"], [1.0, \"#f0f921\"]], \"type\": \"contour\"}], \"contourcarpet\": [{\"colorbar\": {\"outlinewidth\": 0, \"ticks\": \"\"}, \"type\": \"contourcarpet\"}], \"heatmap\": [{\"colorbar\": {\"outlinewidth\": 0, \"ticks\": \"\"}, \"colorscale\": [[0.0, \"#0d0887\"], [0.1111111111111111, \"#46039f\"], [0.2222222222222222, \"#7201a8\"], [0.3333333333333333, \"#9c179e\"], [0.4444444444444444, \"#bd3786\"], [0.5555555555555556, \"#d8576b\"], [0.6666666666666666, \"#ed7953\"], [0.7777777777777778, \"#fb9f3a\"], [0.8888888888888888, \"#fdca26\"], [1.0, \"#f0f921\"]], \"type\": \"heatmap\"}], \"heatmapgl\": [{\"colorbar\": {\"outlinewidth\": 0, \"ticks\": \"\"}, \"colorscale\": [[0.0, \"#0d0887\"], [0.1111111111111111, \"#46039f\"], [0.2222222222222222, \"#7201a8\"], [0.3333333333333333, \"#9c179e\"], [0.4444444444444444, \"#bd3786\"], [0.5555555555555556, \"#d8576b\"], [0.6666666666666666, \"#ed7953\"], [0.7777777777777778, \"#fb9f3a\"], [0.8888888888888888, \"#fdca26\"], [1.0, \"#f0f921\"]], \"type\": \"heatmapgl\"}], \"histogram\": [{\"marker\": {\"colorbar\": {\"outlinewidth\": 0, \"ticks\": \"\"}}, \"type\": \"histogram\"}], \"histogram2d\": [{\"colorbar\": {\"outlinewidth\": 0, \"ticks\": \"\"}, \"colorscale\": [[0.0, \"#0d0887\"], [0.1111111111111111, \"#46039f\"], [0.2222222222222222, \"#7201a8\"], [0.3333333333333333, \"#9c179e\"], [0.4444444444444444, \"#bd3786\"], [0.5555555555555556, \"#d8576b\"], [0.6666666666666666, \"#ed7953\"], [0.7777777777777778, \"#fb9f3a\"], [0.8888888888888888, \"#fdca26\"], [1.0, \"#f0f921\"]], \"type\": \"histogram2d\"}], \"histogram2dcontour\": [{\"colorbar\": {\"outlinewidth\": 0, \"ticks\": \"\"}, \"colorscale\": [[0.0, \"#0d0887\"], [0.1111111111111111, \"#46039f\"], [0.2222222222222222, \"#7201a8\"], [0.3333333333333333, \"#9c179e\"], [0.4444444444444444, \"#bd3786\"], [0.5555555555555556, \"#d8576b\"], [0.6666666666666666, \"#ed7953\"], [0.7777777777777778, \"#fb9f3a\"], [0.8888888888888888, \"#fdca26\"], [1.0, \"#f0f921\"]], \"type\": \"histogram2dcontour\"}], \"mesh3d\": [{\"colorbar\": {\"outlinewidth\": 0, \"ticks\": \"\"}, \"type\": \"mesh3d\"}], \"parcoords\": [{\"line\": {\"colorbar\": {\"outlinewidth\": 0, \"ticks\": \"\"}}, \"type\": \"parcoords\"}], \"pie\": [{\"automargin\": true, \"type\": \"pie\"}], \"scatter\": [{\"marker\": {\"colorbar\": {\"outlinewidth\": 0, \"ticks\": \"\"}}, \"type\": \"scatter\"}], \"scatter3d\": [{\"line\": {\"colorbar\": {\"outlinewidth\": 0, \"ticks\": \"\"}}, \"marker\": {\"colorbar\": {\"outlinewidth\": 0, \"ticks\": \"\"}}, \"type\": \"scatter3d\"}], \"scattercarpet\": [{\"marker\": {\"colorbar\": {\"outlinewidth\": 0, \"ticks\": \"\"}}, \"type\": \"scattercarpet\"}], \"scattergeo\": [{\"marker\": {\"colorbar\": {\"outlinewidth\": 0, \"ticks\": \"\"}}, \"type\": \"scattergeo\"}], \"scattergl\": [{\"marker\": {\"colorbar\": {\"outlinewidth\": 0, \"ticks\": \"\"}}, \"type\": \"scattergl\"}], \"scattermapbox\": [{\"marker\": {\"colorbar\": {\"outlinewidth\": 0, \"ticks\": \"\"}}, \"type\": \"scattermapbox\"}], \"scatterpolar\": [{\"marker\": {\"colorbar\": {\"outlinewidth\": 0, \"ticks\": \"\"}}, \"type\": \"scatterpolar\"}], \"scatterpolargl\": [{\"marker\": {\"colorbar\": {\"outlinewidth\": 0, \"ticks\": \"\"}}, \"type\": \"scatterpolargl\"}], \"scatterternary\": [{\"marker\": {\"colorbar\": {\"outlinewidth\": 0, \"ticks\": \"\"}}, \"type\": \"scatterternary\"}], \"surface\": [{\"colorbar\": {\"outlinewidth\": 0, \"ticks\": \"\"}, \"colorscale\": [[0.0, \"#0d0887\"], [0.1111111111111111, \"#46039f\"], [0.2222222222222222, \"#7201a8\"], [0.3333333333333333, \"#9c179e\"], [0.4444444444444444, \"#bd3786\"], [0.5555555555555556, \"#d8576b\"], [0.6666666666666666, \"#ed7953\"], [0.7777777777777778, \"#fb9f3a\"], [0.8888888888888888, \"#fdca26\"], [1.0, \"#f0f921\"]], \"type\": \"surface\"}], \"table\": [{\"cells\": {\"fill\": {\"color\": \"#EBF0F8\"}, \"line\": {\"color\": \"white\"}}, \"header\": {\"fill\": {\"color\": \"#C8D4E3\"}, \"line\": {\"color\": \"white\"}}, \"type\": \"table\"}]}, \"layout\": {\"annotationdefaults\": {\"arrowcolor\": \"#2a3f5f\", \"arrowhead\": 0, \"arrowwidth\": 1}, \"coloraxis\": {\"colorbar\": {\"outlinewidth\": 0, \"ticks\": \"\"}}, \"colorscale\": {\"diverging\": [[0, \"#8e0152\"], [0.1, \"#c51b7d\"], [0.2, \"#de77ae\"], [0.3, \"#f1b6da\"], [0.4, \"#fde0ef\"], [0.5, \"#f7f7f7\"], [0.6, \"#e6f5d0\"], [0.7, \"#b8e186\"], [0.8, \"#7fbc41\"], [0.9, \"#4d9221\"], [1, \"#276419\"]], \"sequential\": [[0.0, \"#0d0887\"], [0.1111111111111111, \"#46039f\"], [0.2222222222222222, \"#7201a8\"], [0.3333333333333333, \"#9c179e\"], [0.4444444444444444, \"#bd3786\"], [0.5555555555555556, \"#d8576b\"], [0.6666666666666666, \"#ed7953\"], [0.7777777777777778, \"#fb9f3a\"], [0.8888888888888888, \"#fdca26\"], [1.0, \"#f0f921\"]], \"sequentialminus\": [[0.0, \"#0d0887\"], [0.1111111111111111, \"#46039f\"], [0.2222222222222222, \"#7201a8\"], [0.3333333333333333, \"#9c179e\"], [0.4444444444444444, \"#bd3786\"], [0.5555555555555556, \"#d8576b\"], [0.6666666666666666, \"#ed7953\"], [0.7777777777777778, \"#fb9f3a\"], [0.8888888888888888, \"#fdca26\"], [1.0, \"#f0f921\"]]}, \"colorway\": [\"#636efa\", \"#EF553B\", \"#00cc96\", \"#ab63fa\", \"#FFA15A\", \"#19d3f3\", \"#FF6692\", \"#B6E880\", \"#FF97FF\", \"#FECB52\"], \"font\": {\"color\": \"#2a3f5f\"}, \"geo\": {\"bgcolor\": \"white\", \"lakecolor\": \"white\", \"landcolor\": \"#E5ECF6\", \"showlakes\": true, \"showland\": true, \"subunitcolor\": \"white\"}, \"hoverlabel\": {\"align\": \"left\"}, \"hovermode\": \"closest\", \"mapbox\": {\"style\": \"light\"}, \"paper_bgcolor\": \"white\", \"plot_bgcolor\": \"#E5ECF6\", \"polar\": {\"angularaxis\": {\"gridcolor\": \"white\", \"linecolor\": \"white\", \"ticks\": \"\"}, \"bgcolor\": \"#E5ECF6\", \"radialaxis\": {\"gridcolor\": \"white\", \"linecolor\": \"white\", \"ticks\": \"\"}}, \"scene\": {\"xaxis\": {\"backgroundcolor\": \"#E5ECF6\", \"gridcolor\": \"white\", \"gridwidth\": 2, \"linecolor\": \"white\", \"showbackground\": true, \"ticks\": \"\", \"zerolinecolor\": \"white\"}, \"yaxis\": {\"backgroundcolor\": \"#E5ECF6\", \"gridcolor\": \"white\", \"gridwidth\": 2, \"linecolor\": \"white\", \"showbackground\": true, \"ticks\": \"\", \"zerolinecolor\": \"white\"}, \"zaxis\": {\"backgroundcolor\": \"#E5ECF6\", \"gridcolor\": \"white\", \"gridwidth\": 2, \"linecolor\": \"white\", \"showbackground\": true, \"ticks\": \"\", \"zerolinecolor\": \"white\"}}, \"shapedefaults\": {\"line\": {\"color\": \"#2a3f5f\"}}, \"ternary\": {\"aaxis\": {\"gridcolor\": \"white\", \"linecolor\": \"white\", \"ticks\": \"\"}, \"baxis\": {\"gridcolor\": \"white\", \"linecolor\": \"white\", \"ticks\": \"\"}, \"bgcolor\": \"#E5ECF6\", \"caxis\": {\"gridcolor\": \"white\", \"linecolor\": \"white\", \"ticks\": \"\"}}, \"title\": {\"x\": 0.05}, \"xaxis\": {\"automargin\": true, \"gridcolor\": \"white\", \"linecolor\": \"white\", \"ticks\": \"\", \"title\": {\"standoff\": 15}, \"zerolinecolor\": \"white\", \"zerolinewidth\": 2}, \"yaxis\": {\"automargin\": true, \"gridcolor\": \"white\", \"linecolor\": \"white\", \"ticks\": \"\", \"title\": {\"standoff\": 15}, \"zerolinecolor\": \"white\", \"zerolinewidth\": 2}}}, \"title\": {\"text\": \"Monte Carlo influence Spread vs Seed Size\"}, \"xaxis\": {\"title\": {\"text\": \"Seed(k)\"}}, \"yaxis\": {\"title\": {\"text\": \"Influence Spread\"}}},\n",
              "                        {\"responsive\": true}\n",
              "                    ).then(function(){\n",
              "                            \n",
              "var gd = document.getElementById('c2ef7199-7969-42fc-a7e9-60866f1146cc');\n",
              "var x = new MutationObserver(function (mutations, observer) {{\n",
              "        var display = window.getComputedStyle(gd).display;\n",
              "        if (!display || display === 'none') {{\n",
              "            console.log([gd, 'removed!']);\n",
              "            Plotly.purge(gd);\n",
              "            observer.disconnect();\n",
              "        }}\n",
              "}});\n",
              "\n",
              "// Listen for the removal of the full notebook cells\n",
              "var notebookContainer = gd.closest('#notebook-container');\n",
              "if (notebookContainer) {{\n",
              "    x.observe(notebookContainer, {childList: true});\n",
              "}}\n",
              "\n",
              "// Listen for the clearing of the current output cell\n",
              "var outputEl = gd.closest('.output');\n",
              "if (outputEl) {{\n",
              "    x.observe(outputEl, {childList: true});\n",
              "}}\n",
              "\n",
              "                        })\n",
              "                };\n",
              "                \n",
              "            </script>\n",
              "        </div>\n",
              "</body>\n",
              "</html>"
            ]
          },
          "metadata": {
            "tags": []
          }
        }
      ]
    },
    {
      "cell_type": "code",
      "metadata": {
        "id": "1ngjQlFKkV6h"
      },
      "source": [
        "def cummulativeMIScore(node_list):\n",
        "  temp_marginal_score = []\n",
        "  temp_benefit_score = []\n",
        "  temp_loss_score = []\n",
        "  prev_ms= 0 ;\n",
        "  prev_bs= 0 ;\n",
        "  prev_ls= 0 ;\n",
        "  #tot_ms,tot_bs,tot_ls = 0,0,0\n",
        "  k=3;\n",
        "  for node in (node_list):\n",
        "    ms = benefit[node][k] - loss[node][k]\n",
        "    bs = benefit[node][k]\n",
        "    ls = loss[node][k]\n",
        "    temp_marginal_score.append(ms+prev_ms)\n",
        "    temp_benefit_score.append(bs+prev_bs)\n",
        "    temp_loss_score.append(ls+prev_ls)\n",
        "    \n",
        "    #prev_ms = ms;\n",
        "    #prev_bs = bs;\n",
        "    #prev_ls = ls;\n",
        "    prev_ms = ms+prev_ms;\n",
        "    prev_bs = bs+prev_bs;\n",
        "    prev_ls = ls+prev_ls;\n",
        "    \n",
        "  return (temp_marginal_score,temp_benefit_score,temp_loss_score);"
      ],
      "execution_count": null,
      "outputs": []
    },
    {
      "cell_type": "markdown",
      "metadata": {
        "id": "uHV_6udckb10"
      },
      "source": [
        "Nodes of Degree Decrease Algo and Neighbour Remove Algo -- From Hari"
      ]
    },
    {
      "cell_type": "code",
      "metadata": {
        "id": "R7yTSdSgkc3G"
      },
      "source": [
        "S_neighbour_remove_nodes = [5848246,5808797,5841579,5797877,5610317,5792534,5747594,5773106,5681380,5563042,5582923,5395471,5848143,5683370,5675216,5834824,5550746,5755687,5818820,5822436]\n",
        "S_deg_decrease_nodes=[ 5848246,5808797,5841579,5797877,5610317,5792534,5747594,5773106,5681380,5563042,5582923,5395471,5848143,5683370,5675216,5834824,5550746,5755687,5818820,5822436 ]"
      ],
      "execution_count": null,
      "outputs": []
    },
    {
      "cell_type": "code",
      "metadata": {
        "id": "SlXymfYOm_gn"
      },
      "source": [
        ""
      ],
      "execution_count": null,
      "outputs": []
    },
    {
      "cell_type": "code",
      "metadata": {
        "id": "ZxUHWKALkmV3"
      },
      "source": [
        "# cum_mi_list_MIM, benefit_list_MIM, loss_list_MIM = cummulativeMIScore(top_marginal_nodes)\n",
        "# cum_mi_list_game_theory,benefit_list_game_theory,loss_list_game_theory = cummulativeMIScore(imlist)\n",
        "# cum_mi_list_deg_discount,benefit_list_deg_discount,loss_list_deg_discount = cummulativeMIScore(S_deg_discount)\n",
        "# cum_mi_list_sin_deg_discount, benefit_list_sin_deg_discount,loss_list_sin_deg_discount = cummulativeMIScore(S_sin_deg_discount)\n",
        "# cum_mi_list_deg_decrease, benefit_list_deg_decrease,loss_list_deg_decrease = cummulativeMIScore(S_deg_decrease_nodes)\n",
        "# cum_mi_list_neighbour_remove, benefit_list_neighbour_remove,loss_list_neighbour_remove = cummulativeMIScore(S_neighbour_remove_nodes)\n",
        "# cum_mi_list_RIS, benefit_list_RIS,loss_list_RIS = cummulativeMIScore(ris_list)"
      ],
      "execution_count": null,
      "outputs": []
    },
    {
      "cell_type": "code",
      "metadata": {
        "id": "d5ydII-X9skR"
      },
      "source": [
        "cum_mi_list_MIM, benefit_list_MIM, loss_list_MIM = cummulativeMIScore(top_marginal_nodes)\n",
        "cum_mi_list_BIM, benefit_list_BIM, loss_list_BIM = cummulativeMIScore(top_benefit_nodes)\n",
        "cum_mi_list_game_theory,benefit_list_game_theory,loss_list_game_theory = cummulativeMIScore(imlist)\n",
        "cum_mi_list_deg_discount,benefit_list_deg_discount,loss_list_deg_discount = cummulativeMIScore(S_deg_discount)\n",
        "cum_mi_list_sin_deg_discount, benefit_list_sin_deg_discount,loss_list_sin_deg_discount = cummulativeMIScore(S_sin_deg_discount)\n",
        "cum_mi_list_deg_decrease, benefit_list_deg_decrease,loss_list_deg_decrease = cummulativeMIScore(S_deg_decrease_nodes)\n",
        "cum_mi_list_neighbour_remove, benefit_list_neighbour_remove,loss_list_neighbour_remove = cummulativeMIScore(S_neighbour_remove_nodes)\n",
        "cum_mi_list_RIS, benefit_list_RIS,loss_list_RIS = cummulativeMIScore(ris_list)\n",
        "cum_mi_list_HSFLA, benefit_list_HSFLA,loss_list_HSFLA = cummulativeMIScore(hslfa_im_nodes)"
      ],
      "execution_count": null,
      "outputs": []
    },
    {
      "cell_type": "code",
      "metadata": {
        "colab": {
          "base_uri": "https://localhost:8080/"
        },
        "id": "fsyxHcxjlBwo",
        "outputId": "72f5e189-2000-48df-8586-b80c7c389983"
      },
      "source": [
        "cum_mi_list_MIM"
      ],
      "execution_count": null,
      "outputs": [
        {
          "output_type": "execute_result",
          "data": {
            "text/plain": [
              "[1.4169772791135926e-06,\n",
              " 2.367927325977353e-06,\n",
              " 3.2621884215004306e-06,\n",
              " 4.12994559413901e-06,\n",
              " 4.989236172388977e-06,\n",
              " 5.838096684621955e-06,\n",
              " 6.680331593596745e-06,\n",
              " 7.497044047927815e-06,\n",
              " 8.26933821392509e-06,\n",
              " 9.035006630904304e-06,\n",
              " 9.792627792158779e-06,\n",
              " 1.0532773911781103e-05,\n",
              " 1.1272919994947025e-05,\n",
              " 1.2013065642137225e-05,\n",
              " 1.2727689125351742e-05,\n",
              " 1.3436668079242562e-05,\n",
              " 1.4125769709031351e-05,\n",
              " 1.4814871273044938e-05,\n",
              " 1.5503972810505098e-05,\n",
              " 1.618178522270661e-05]"
            ]
          },
          "metadata": {
            "tags": []
          },
          "execution_count": 109
        }
      ]
    },
    {
      "cell_type": "code",
      "metadata": {
        "colab": {
          "base_uri": "https://localhost:8080/"
        },
        "id": "HCtbjs4s-SDY",
        "outputId": "642a4ac9-fdea-4d3e-c1d3-24e13ea8a115"
      },
      "source": [
        "avg_mi_MIM = max(cum_mi_list_MIM)/20\n",
        "max_mi = max(max(cum_mi_list_BIM)/20, max(cum_mi_list_game_theory)/20, \n",
        "    max(cum_mi_list_deg_discount)/20, max(cum_mi_list_sin_deg_discount)/20,\n",
        "    max(cum_mi_list_deg_decrease)/20, max(cum_mi_list_neighbour_remove)/20,\n",
        "    max(cum_mi_list_RIS)/20, max(cum_mi_list_HSFLA)/20)\n",
        "avg_mi_MIM, max_mi, avg_mi_MIM/max_mi "
      ],
      "execution_count": null,
      "outputs": [
        {
          "output_type": "execute_result",
          "data": {
            "text/plain": [
              "(8.090892611353305e-07, 2.359654000881385e-07, 3.4288470294081974)"
            ]
          },
          "metadata": {
            "tags": []
          },
          "execution_count": 110
        }
      ]
    },
    {
      "cell_type": "code",
      "metadata": {
        "colab": {
          "base_uri": "https://localhost:8080/"
        },
        "id": "e0gpd_OK-WLz",
        "outputId": "88e4494a-4a44-40be-e387-167469d452c0"
      },
      "source": [
        "avg_mi_BIM = max(benefit_list_BIM)/20\n",
        "max_bi = max(max(benefit_list_MIM)/20, max(benefit_list_game_theory)/20, \n",
        "    max(benefit_list_deg_discount)/20, max(benefit_list_sin_deg_discount)/20,\n",
        "    max(benefit_list_deg_decrease)/20, max(benefit_list_neighbour_remove)/20,\n",
        "    max(benefit_list_RIS)/20, max(benefit_list_HSFLA)/20)\n",
        "avg_mi_BIM, max_bi, avg_mi_BIM/max_bi"
      ],
      "execution_count": null,
      "outputs": [
        {
          "output_type": "execute_result",
          "data": {
            "text/plain": [
              "(1.0249531426985896e-06, 8.571773001520693e-07, 1.1957306178275553)"
            ]
          },
          "metadata": {
            "tags": []
          },
          "execution_count": 113
        }
      ]
    },
    {
      "cell_type": "code",
      "metadata": {
        "colab": {
          "base_uri": "https://localhost:8080/"
        },
        "id": "gplTVQZnqolT",
        "outputId": "15916c55-e94d-4be1-8328-a8901f1219ee"
      },
      "source": [
        "avg_mi_LIM = max(loss_list_MIM)/20\n",
        "max_li = min(max(loss_list_BIM)/20, max(loss_list_game_theory)/20, \n",
        "    max(loss_list_deg_discount)/20, max(loss_list_sin_deg_discount)/20,\n",
        "    max(loss_list_deg_decrease)/20, max(loss_list_neighbour_remove)/20,\n",
        "    max(loss_list_RIS)/20, max(loss_list_HSFLA)/20)\n",
        "avg_mi_LIM, max_li, avg_mi_LIM/max_li"
      ],
      "execution_count": null,
      "outputs": [
        {
          "output_type": "execute_result",
          "data": {
            "text/plain": [
              "(4.808803901673869e-08, 1.040295106141915e-08, 4.622538232932783)"
            ]
          },
          "metadata": {
            "tags": []
          },
          "execution_count": 112
        }
      ]
    },
    {
      "cell_type": "markdown",
      "metadata": {
        "id": "XQMgAWUblMZZ"
      },
      "source": [
        "Graph for Cummulative Marginal Influence Score Vs Seed Size"
      ]
    },
    {
      "cell_type": "code",
      "metadata": {
        "colab": {
          "base_uri": "https://localhost:8080/",
          "height": 312
        },
        "id": "SVOW4ejclNGT",
        "outputId": "36b3fcf2-a599-4d01-9053-7501547d4b9b"
      },
      "source": [
        "plt.plot(k_array, cum_mi_list_game_theory, label = \"Game Theory IM\")\n",
        "plt.plot(k_array, cum_mi_list_deg_discount, label = \"Degree Discount\")\n",
        "plt.plot(k_array, cum_mi_list_sin_deg_discount, label = \"Single Degree Discount\")\n",
        "plt.plot(k_array, cum_mi_list_neighbour_remove, label = \"Neighbour Remove\")\n",
        "plt.plot(k_array, cum_mi_list_deg_decrease, label = \"Degree Decrease\")\n",
        "plt.plot(k_array, cum_mi_list_RIS, label = \"RIS IM\")\n",
        "plt.plot(k_array, cum_mi_list_HSFLA, label = \"HSFLA IM\")\n",
        "plt.plot(k_array, cum_mi_list_MIM, label = \"Marginal IM\")\n",
        "plt.plot(k_array, cum_mi_list_BIM, label = \"Benefit IM\")\n",
        "plt.title('Cummulative Marginal Influence Score vs Seed Size')\n",
        "plt.xlabel('Seed(k)')\n",
        "plt.ylabel('Marginal Influence Score')\n",
        "plt.legend(loc='upper right')"
      ],
      "execution_count": null,
      "outputs": [
        {
          "output_type": "execute_result",
          "data": {
            "text/plain": [
              "<matplotlib.legend.Legend at 0x7fdb1d379fd0>"
            ]
          },
          "metadata": {
            "tags": []
          },
          "execution_count": 112
        },
        {
          "output_type": "display_data",
          "data": {
            "image/png": "[encoded data removed]",
            "text/plain": [
              "<Figure size 432x288 with 1 Axes>"
            ]
          },
          "metadata": {
            "tags": [],
            "needs_background": "light"
          }
        }
      ]
    },
    {
      "cell_type": "code",
      "metadata": {
        "colab": {
          "base_uri": "https://localhost:8080/",
          "height": 542
        },
        "id": "I80_tsV6ldNF",
        "outputId": "26cb2155-e972-4fe7-9d44-1188a76701bb"
      },
      "source": [
        "trace1 = go.Scatter(\n",
        "x = k_array,\n",
        "y = exp(cum_mi_list_game_theory),\n",
        "mode = 'lines',\n",
        "name = 'Game Theory IM'\n",
        ")\n",
        "trace2 = go.Scatter(\n",
        "x = k_array,\n",
        "y = exp(cum_mi_list_deg_discount),\n",
        "mode = 'lines',\n",
        "name = 'Degree Discount'\n",
        ")\n",
        "trace3 = go.Scatter(\n",
        "x = k_array,\n",
        "y = exp(cum_mi_list_sin_deg_discount),\n",
        "mode='lines',\n",
        "name = 'Single Degre Discount'\n",
        ")\n",
        "trace4 = go.Scatter(\n",
        "x = k_array,\n",
        "y = exp(cum_mi_list_neighbour_remove),\n",
        "mode='lines',\n",
        "name = 'Neighbour Remove'\n",
        ")\n",
        "trace5 = go.Scatter(\n",
        "x = k_array,\n",
        "y = exp(cum_mi_list_deg_decrease),\n",
        "mode='lines',\n",
        "name = 'Degree Decrease'\n",
        ")\n",
        "trace6 = go.Scatter(\n",
        "x = k_array,\n",
        "y = exp(cum_mi_list_RIS),\n",
        "mode='lines',\n",
        "name = 'RIS IM'\n",
        ")\n",
        "trace7 = go.Scatter(\n",
        "x = k_array,\n",
        "y = exp(cum_mi_list_MIM),\n",
        "mode='lines',\n",
        "name = 'Marginal IM'\n",
        ")\n",
        "trace8 = go.Scatter(\n",
        "x = k_array,\n",
        "y = exp(cum_mi_list_BIM),\n",
        "mode='lines',\n",
        "name = 'Benefit IM'\n",
        ")\n",
        "trace9 = go.Scatter(\n",
        "x = k_array,\n",
        "y = exp(cum_mi_list_HSFLA),\n",
        "mode='lines',\n",
        "name = 'HSFLA IM'\n",
        ")\n",
        "layout = go.Layout(\n",
        "title = \"Cummulative Exponential Marginal Influence Score vs Seed Size\",\n",
        "xaxis = {'title' : \"Seed(k)\"},\n",
        "yaxis = {'title' : \"Marginal Influence Score\"}\n",
        ")\n",
        "fig = go.Figure(data=[trace1, trace2, trace3,trace4,trace5,trace6,trace9, trace7,trace8], layout=layout)\n",
        "fig.show()"
      ],
      "execution_count": null,
      "outputs": [
        {
          "output_type": "display_data",
          "data": {
            "text/html": [
              "<html>\n",
              "<head><meta charset=\"utf-8\" /></head>\n",
              "<body>\n",
              "    <div>\n",
              "            <script src=\"https://cdnjs.cloudflare.com/ajax/libs/mathjax/2.7.5/MathJax.js?config=TeX-AMS-MML_SVG\"></script><script type=\"text/javascript\">if (window.MathJax) {MathJax.Hub.Config({SVG: {font: \"STIX-Web\"}});}</script>\n",
              "                <script type=\"text/javascript\">window.PlotlyConfig = {MathJaxConfig: 'local'};</script>\n",
              "        <script src=\"https://cdn.plot.ly/plotly-latest.min.js\"></script>    \n",
              "            <div id=\"2789eee7-bbe1-4465-9682-8f901b3f9315\" class=\"plotly-graph-div\" style=\"height:525px; width:100%;\"></div>\n",
              "            <script type=\"text/javascript\">\n",
              "                \n",
              "                    window.PLOTLYENV=window.PLOTLYENV || {};\n",
              "                    \n",
              "                if (document.getElementById(\"2789eee7-bbe1-4465-9682-8f901b3f9315\")) {\n",
              "                    Plotly.newPlot(\n",
              "                        '2789eee7-bbe1-4465-9682-8f901b3f9315',\n",
              "                        [{\"mode\": \"lines\", \"name\": \"Game Theory IM\", \"type\": \"scatter\", \"x\": [1, 2, 3, 4, 5, 6, 7, 8, 9, 10, 11, 12, 13, 14, 15, 16, 17, 18, 19, 20], \"y\": [0.9999999801585125, 0.9999999683482995, 0.9999999683482995, 0.9999999683482995, 0.9999999683482995, 0.9999999683482995, 0.9999999683482995, 0.9999999683482995, 0.999999934685691, 0.999999934685691, 0.9999998822440591, 0.9999998822440591, 0.9999998822440591, 0.9999998822440591, 0.9999998822440591, 0.9999998822440591, 0.9999998538962456, 0.9999998538962456, 0.9999998538962456, 0.9999998538962456]}, {\"mode\": \"lines\", \"name\": \"Degree Discount\", \"type\": \"scatter\", \"x\": [1, 2, 3, 4, 5, 6, 7, 8, 9, 10, 11, 12, 13, 14, 15, 16, 17, 18, 19, 20], \"y\": [0.9999984607510488, 0.9999984409095826, 0.9999977067804003, 0.9999968945102458, 0.9999961962302125, 0.9999956785384935, 0.9999950042070928, 0.9999943331350027, 0.999993662063363, 0.9999936318320358, 0.9999934864313343, 0.9999934449805673, 0.9999933984833831, 0.999993341988203, 0.9999933155308671, 0.9999929901764559, 0.9999929901764559, 0.9999929589954838, 0.9999929589954838, 0.9999929589954838]}, {\"mode\": \"lines\", \"name\": \"Single Degre Discount\", \"type\": \"scatter\", \"x\": [1, 2, 3, 4, 5, 6, 7, 8, 9, 10, 11, 12, 13, 14, 15, 16, 17, 18, 19, 20], \"y\": [0.9999984607510488, 0.9999984409095826, 0.9999977067804003, 0.9999968945102458, 0.9999961962302125, 0.9999956785384935, 0.9999950042070928, 0.9999943331350027, 0.999993662063363, 0.9999936318320358, 0.9999934864313343, 0.9999934449805673, 0.9999933984833831, 0.999993341988203, 0.9999933155308671, 0.9999929901764559, 0.9999929901764559, 0.9999929589954838, 0.9999929589954838, 0.9999929589954838]}, {\"mode\": \"lines\", \"name\": \"Neighbour Remove\", \"type\": \"scatter\", \"x\": [1, 2, 3, 4, 5, 6, 7, 8, 9, 10, 11, 12, 13, 14, 15, 16, 17, 18, 19, 20], \"y\": [0.9999984607510488, 0.999997726621852, 0.9999969143516813, 0.9999962160716342, 0.9999956983799049, 0.9999950240484908, 0.9999943529763875, 0.9999936819047345, 0.9999933565502039, 0.9999927075227246, 0.9999921236112573, 0.9999915839698267, 0.9999912654471903, 0.9999907946518931, 0.9999904352983674, 0.9999901044163774, 0.999989596968234, 0.9999892166701271, 0.9999889185992981, 0.9999884590361473]}, {\"mode\": \"lines\", \"name\": \"Degree Decrease\", \"type\": \"scatter\", \"x\": [1, 2, 3, 4, 5, 6, 7, 8, 9, 10, 11, 12, 13, 14, 15, 16, 17, 18, 19, 20], \"y\": [0.9999984607510488, 0.999997726621852, 0.9999969143516813, 0.9999962160716342, 0.9999956983799049, 0.9999950240484908, 0.9999943529763875, 0.9999936819047345, 0.9999933565502039, 0.9999927075227246, 0.9999921236112573, 0.9999915839698267, 0.9999912654471903, 0.9999907946518931, 0.9999904352983674, 0.9999901044163774, 0.999989596968234, 0.9999892166701271, 0.9999889185992981, 0.9999884590361473]}, {\"mode\": \"lines\", \"name\": \"RIS IM\", \"type\": \"scatter\", \"x\": [1, 2, 3, 4, 5, 6, 7, 8, 9, 10, 11, 12, 13, 14, 15, 16, 17, 18, 19, 20], \"y\": [0.9999999801585125, 0.999999964097591, 0.999999964097591, 0.9999999336839231, 0.9999999261260458, 0.9999998722724405, 0.9999998278964582, 0.9999998123073007, 0.9999997569103081, 0.9999996951807413, 0.9999996751080366, 0.9999996411025245, 0.9999995045848339, 0.9999994514403798, 0.9999993947711125, 0.9999993515454888, 0.9999991979480892, 0.9999991905075338, 0.9999990448791611, 0.9999988872096436]}, {\"mode\": \"lines\", \"name\": \"HSFLA IM\", \"type\": \"scatter\", \"x\": [1, 2, 3, 4, 5, 6, 7, 8, 9, 10, 11, 12, 13, 14, 15, 16, 17, 18, 19, 20], \"y\": [1.0, 1.0, 0.9999999962227076, 0.9999999802774792, 0.9999999594908457, 0.9999999594908457, 0.9999999594908457, 0.9999999594908457, 0.9999999481523777, 0.9999999481523777, 0.9999998952373572, 0.9999998952373572, 0.9999998952373572, 0.9999998952373572, 0.9999998846069315, 0.999999850591541, 0.999999850591541, 0.999999850591541, 0.999999850591541, 0.9999998260309118]}, {\"mode\": \"lines\", \"name\": \"Marginal IM\", \"type\": \"scatter\", \"x\": [1, 2, 3, 4, 5, 6, 7, 8, 9, 10, 11, 12, 13, 14, 15, 16, 17, 18, 19, 20], \"y\": [1.000001416978283, 1.0000023679301295, 1.0000032621937425, 1.0000041299541225, 1.0000049892486187, 1.0000058381137262, 1.0000066803539072, 1.0000074970721509, 1.000008269372405, 1.0000090350474466, 1.00000979267574, 1.0000105328293816, 1.0000112729835346, 1.0000120131377992, 1.0000127277701227, 1.0000134367583517, 1.0000141258694781, 1.0000148149810137, 1.0000155040929977, 1.0000161819161486]}, {\"mode\": \"lines\", \"name\": \"Benefit IM\", \"type\": \"scatter\", \"x\": [1, 2, 3, 4, 5, 6, 7, 8, 9, 10, 11, 12, 13, 14, 15, 16, 17, 18, 19, 20], \"y\": [0.9999993078295889, 1.0000007248068912, 1.0000011226167123, 1.00000150264655, 1.0000023969093892, 1.0000032562023962, 1.0000029581273824, 1.0000037157510717, 1.0000046667051044, 1.0000043839846666, 1.0000041040794536, 1.000003988940744, 1.0000043966349195, 1.0000038359892796, 1.0000035592529997, 1.0000033078783237, 1.000003977230855, 1.0000038704549796, 1.0000047193191377, 1.0000033643483124]}],\n",
              "                        {\"template\": {\"data\": {\"bar\": [{\"error_x\": {\"color\": \"#2a3f5f\"}, \"error_y\": {\"color\": \"#2a3f5f\"}, \"marker\": {\"line\": {\"color\": \"#E5ECF6\", \"width\": 0.5}}, \"type\": \"bar\"}], \"barpolar\": [{\"marker\": {\"line\": {\"color\": \"#E5ECF6\", \"width\": 0.5}}, \"type\": \"barpolar\"}], \"carpet\": [{\"aaxis\": {\"endlinecolor\": \"#2a3f5f\", \"gridcolor\": \"white\", \"linecolor\": \"white\", \"minorgridcolor\": \"white\", \"startlinecolor\": \"#2a3f5f\"}, \"baxis\": {\"endlinecolor\": \"#2a3f5f\", \"gridcolor\": \"white\", \"linecolor\": \"white\", \"minorgridcolor\": \"white\", \"startlinecolor\": \"#2a3f5f\"}, \"type\": \"carpet\"}], \"choropleth\": [{\"colorbar\": {\"outlinewidth\": 0, \"ticks\": \"\"}, \"type\": \"choropleth\"}], \"contour\": [{\"colorbar\": {\"outlinewidth\": 0, \"ticks\": \"\"}, \"colorscale\": [[0.0, \"#0d0887\"], [0.1111111111111111, \"#46039f\"], [0.2222222222222222, \"#7201a8\"], [0.3333333333333333, \"#9c179e\"], [0.4444444444444444, \"#bd3786\"], [0.5555555555555556, \"#d8576b\"], [0.6666666666666666, \"#ed7953\"], [0.7777777777777778, \"#fb9f3a\"], [0.8888888888888888, \"#fdca26\"], [1.0, \"#f0f921\"]], \"type\": \"contour\"}], \"contourcarpet\": [{\"colorbar\": {\"outlinewidth\": 0, \"ticks\": \"\"}, \"type\": \"contourcarpet\"}], \"heatmap\": [{\"colorbar\": {\"outlinewidth\": 0, \"ticks\": \"\"}, \"colorscale\": [[0.0, \"#0d0887\"], [0.1111111111111111, \"#46039f\"], [0.2222222222222222, \"#7201a8\"], [0.3333333333333333, \"#9c179e\"], [0.4444444444444444, \"#bd3786\"], [0.5555555555555556, \"#d8576b\"], [0.6666666666666666, \"#ed7953\"], [0.7777777777777778, \"#fb9f3a\"], [0.8888888888888888, \"#fdca26\"], [1.0, \"#f0f921\"]], \"type\": \"heatmap\"}], \"heatmapgl\": [{\"colorbar\": {\"outlinewidth\": 0, \"ticks\": \"\"}, \"colorscale\": [[0.0, \"#0d0887\"], [0.1111111111111111, \"#46039f\"], [0.2222222222222222, \"#7201a8\"], [0.3333333333333333, \"#9c179e\"], [0.4444444444444444, \"#bd3786\"], [0.5555555555555556, \"#d8576b\"], [0.6666666666666666, \"#ed7953\"], [0.7777777777777778, \"#fb9f3a\"], [0.8888888888888888, \"#fdca26\"], [1.0, \"#f0f921\"]], \"type\": \"heatmapgl\"}], \"histogram\": [{\"marker\": {\"colorbar\": {\"outlinewidth\": 0, \"ticks\": \"\"}}, \"type\": \"histogram\"}], \"histogram2d\": [{\"colorbar\": {\"outlinewidth\": 0, \"ticks\": \"\"}, \"colorscale\": [[0.0, \"#0d0887\"], [0.1111111111111111, \"#46039f\"], [0.2222222222222222, \"#7201a8\"], [0.3333333333333333, \"#9c179e\"], [0.4444444444444444, \"#bd3786\"], [0.5555555555555556, \"#d8576b\"], [0.6666666666666666, \"#ed7953\"], [0.7777777777777778, \"#fb9f3a\"], [0.8888888888888888, \"#fdca26\"], [1.0, \"#f0f921\"]], \"type\": \"histogram2d\"}], \"histogram2dcontour\": [{\"colorbar\": {\"outlinewidth\": 0, \"ticks\": \"\"}, \"colorscale\": [[0.0, \"#0d0887\"], [0.1111111111111111, \"#46039f\"], [0.2222222222222222, \"#7201a8\"], [0.3333333333333333, \"#9c179e\"], [0.4444444444444444, \"#bd3786\"], [0.5555555555555556, \"#d8576b\"], [0.6666666666666666, \"#ed7953\"], [0.7777777777777778, \"#fb9f3a\"], [0.8888888888888888, \"#fdca26\"], [1.0, \"#f0f921\"]], \"type\": \"histogram2dcontour\"}], \"mesh3d\": [{\"colorbar\": {\"outlinewidth\": 0, \"ticks\": \"\"}, \"type\": \"mesh3d\"}], \"parcoords\": [{\"line\": {\"colorbar\": {\"outlinewidth\": 0, \"ticks\": \"\"}}, \"type\": \"parcoords\"}], \"pie\": [{\"automargin\": true, \"type\": \"pie\"}], \"scatter\": [{\"marker\": {\"colorbar\": {\"outlinewidth\": 0, \"ticks\": \"\"}}, \"type\": \"scatter\"}], \"scatter3d\": [{\"line\": {\"colorbar\": {\"outlinewidth\": 0, \"ticks\": \"\"}}, \"marker\": {\"colorbar\": {\"outlinewidth\": 0, \"ticks\": \"\"}}, \"type\": \"scatter3d\"}], \"scattercarpet\": [{\"marker\": {\"colorbar\": {\"outlinewidth\": 0, \"ticks\": \"\"}}, \"type\": \"scattercarpet\"}], \"scattergeo\": [{\"marker\": {\"colorbar\": {\"outlinewidth\": 0, \"ticks\": \"\"}}, \"type\": \"scattergeo\"}], \"scattergl\": [{\"marker\": {\"colorbar\": {\"outlinewidth\": 0, \"ticks\": \"\"}}, \"type\": \"scattergl\"}], \"scattermapbox\": [{\"marker\": {\"colorbar\": {\"outlinewidth\": 0, \"ticks\": \"\"}}, \"type\": \"scattermapbox\"}], \"scatterpolar\": [{\"marker\": {\"colorbar\": {\"outlinewidth\": 0, \"ticks\": \"\"}}, \"type\": \"scatterpolar\"}], \"scatterpolargl\": [{\"marker\": {\"colorbar\": {\"outlinewidth\": 0, \"ticks\": \"\"}}, \"type\": \"scatterpolargl\"}], \"scatterternary\": [{\"marker\": {\"colorbar\": {\"outlinewidth\": 0, \"ticks\": \"\"}}, \"type\": \"scatterternary\"}], \"surface\": [{\"colorbar\": {\"outlinewidth\": 0, \"ticks\": \"\"}, \"colorscale\": [[0.0, \"#0d0887\"], [0.1111111111111111, \"#46039f\"], [0.2222222222222222, \"#7201a8\"], [0.3333333333333333, \"#9c179e\"], [0.4444444444444444, \"#bd3786\"], [0.5555555555555556, \"#d8576b\"], [0.6666666666666666, \"#ed7953\"], [0.7777777777777778, \"#fb9f3a\"], [0.8888888888888888, \"#fdca26\"], [1.0, \"#f0f921\"]], \"type\": \"surface\"}], \"table\": [{\"cells\": {\"fill\": {\"color\": \"#EBF0F8\"}, \"line\": {\"color\": \"white\"}}, \"header\": {\"fill\": {\"color\": \"#C8D4E3\"}, \"line\": {\"color\": \"white\"}}, \"type\": \"table\"}]}, \"layout\": {\"annotationdefaults\": {\"arrowcolor\": \"#2a3f5f\", \"arrowhead\": 0, \"arrowwidth\": 1}, \"coloraxis\": {\"colorbar\": {\"outlinewidth\": 0, \"ticks\": \"\"}}, \"colorscale\": {\"diverging\": [[0, \"#8e0152\"], [0.1, \"#c51b7d\"], [0.2, \"#de77ae\"], [0.3, \"#f1b6da\"], [0.4, \"#fde0ef\"], [0.5, \"#f7f7f7\"], [0.6, \"#e6f5d0\"], [0.7, \"#b8e186\"], [0.8, \"#7fbc41\"], [0.9, \"#4d9221\"], [1, \"#276419\"]], \"sequential\": [[0.0, \"#0d0887\"], [0.1111111111111111, \"#46039f\"], [0.2222222222222222, \"#7201a8\"], [0.3333333333333333, \"#9c179e\"], [0.4444444444444444, \"#bd3786\"], [0.5555555555555556, \"#d8576b\"], [0.6666666666666666, \"#ed7953\"], [0.7777777777777778, \"#fb9f3a\"], [0.8888888888888888, \"#fdca26\"], [1.0, \"#f0f921\"]], \"sequentialminus\": [[0.0, \"#0d0887\"], [0.1111111111111111, \"#46039f\"], [0.2222222222222222, \"#7201a8\"], [0.3333333333333333, \"#9c179e\"], [0.4444444444444444, \"#bd3786\"], [0.5555555555555556, \"#d8576b\"], [0.6666666666666666, \"#ed7953\"], [0.7777777777777778, \"#fb9f3a\"], [0.8888888888888888, \"#fdca26\"], [1.0, \"#f0f921\"]]}, \"colorway\": [\"#636efa\", \"#EF553B\", \"#00cc96\", \"#ab63fa\", \"#FFA15A\", \"#19d3f3\", \"#FF6692\", \"#B6E880\", \"#FF97FF\", \"#FECB52\"], \"font\": {\"color\": \"#2a3f5f\"}, \"geo\": {\"bgcolor\": \"white\", \"lakecolor\": \"white\", \"landcolor\": \"#E5ECF6\", \"showlakes\": true, \"showland\": true, \"subunitcolor\": \"white\"}, \"hoverlabel\": {\"align\": \"left\"}, \"hovermode\": \"closest\", \"mapbox\": {\"style\": \"light\"}, \"paper_bgcolor\": \"white\", \"plot_bgcolor\": \"#E5ECF6\", \"polar\": {\"angularaxis\": {\"gridcolor\": \"white\", \"linecolor\": \"white\", \"ticks\": \"\"}, \"bgcolor\": \"#E5ECF6\", \"radialaxis\": {\"gridcolor\": \"white\", \"linecolor\": \"white\", \"ticks\": \"\"}}, \"scene\": {\"xaxis\": {\"backgroundcolor\": \"#E5ECF6\", \"gridcolor\": \"white\", \"gridwidth\": 2, \"linecolor\": \"white\", \"showbackground\": true, \"ticks\": \"\", \"zerolinecolor\": \"white\"}, \"yaxis\": {\"backgroundcolor\": \"#E5ECF6\", \"gridcolor\": \"white\", \"gridwidth\": 2, \"linecolor\": \"white\", \"showbackground\": true, \"ticks\": \"\", \"zerolinecolor\": \"white\"}, \"zaxis\": {\"backgroundcolor\": \"#E5ECF6\", \"gridcolor\": \"white\", \"gridwidth\": 2, \"linecolor\": \"white\", \"showbackground\": true, \"ticks\": \"\", \"zerolinecolor\": \"white\"}}, \"shapedefaults\": {\"line\": {\"color\": \"#2a3f5f\"}}, \"ternary\": {\"aaxis\": {\"gridcolor\": \"white\", \"linecolor\": \"white\", \"ticks\": \"\"}, \"baxis\": {\"gridcolor\": \"white\", \"linecolor\": \"white\", \"ticks\": \"\"}, \"bgcolor\": \"#E5ECF6\", \"caxis\": {\"gridcolor\": \"white\", \"linecolor\": \"white\", \"ticks\": \"\"}}, \"title\": {\"x\": 0.05}, \"xaxis\": {\"automargin\": true, \"gridcolor\": \"white\", \"linecolor\": \"white\", \"ticks\": \"\", \"title\": {\"standoff\": 15}, \"zerolinecolor\": \"white\", \"zerolinewidth\": 2}, \"yaxis\": {\"automargin\": true, \"gridcolor\": \"white\", \"linecolor\": \"white\", \"ticks\": \"\", \"title\": {\"standoff\": 15}, \"zerolinecolor\": \"white\", \"zerolinewidth\": 2}}}, \"title\": {\"text\": \"Cummulative Exponential Marginal Influence Score vs Seed Size\"}, \"xaxis\": {\"title\": {\"text\": \"Seed(k)\"}}, \"yaxis\": {\"title\": {\"text\": \"Marginal Influence Score\"}}},\n",
              "                        {\"responsive\": true}\n",
              "                    ).then(function(){\n",
              "                            \n",
              "var gd = document.getElementById('2789eee7-bbe1-4465-9682-8f901b3f9315');\n",
              "var x = new MutationObserver(function (mutations, observer) {{\n",
              "        var display = window.getComputedStyle(gd).display;\n",
              "        if (!display || display === 'none') {{\n",
              "            console.log([gd, 'removed!']);\n",
              "            Plotly.purge(gd);\n",
              "            observer.disconnect();\n",
              "        }}\n",
              "}});\n",
              "\n",
              "// Listen for the removal of the full notebook cells\n",
              "var notebookContainer = gd.closest('#notebook-container');\n",
              "if (notebookContainer) {{\n",
              "    x.observe(notebookContainer, {childList: true});\n",
              "}}\n",
              "\n",
              "// Listen for the clearing of the current output cell\n",
              "var outputEl = gd.closest('.output');\n",
              "if (outputEl) {{\n",
              "    x.observe(outputEl, {childList: true});\n",
              "}}\n",
              "\n",
              "                        })\n",
              "                };\n",
              "                \n",
              "            </script>\n",
              "        </div>\n",
              "</body>\n",
              "</html>"
            ]
          },
          "metadata": {
            "tags": []
          }
        }
      ]
    },
    {
      "cell_type": "markdown",
      "metadata": {
        "id": "KRI59cVlmQEA"
      },
      "source": [
        "Graph for Cummulative Exponential and Non Exponential Benefit Influence Score Vs Seed Size"
      ]
    },
    {
      "cell_type": "code",
      "metadata": {
        "colab": {
          "base_uri": "https://localhost:8080/",
          "height": 542
        },
        "id": "2W6SFBurmQ4V",
        "outputId": "3f59295f-b725-4b42-8e42-3b90bd351f46"
      },
      "source": [
        "trace1 = go.Scatter(\n",
        "x = k_array,\n",
        "y = exp(benefit_list_game_theory),\n",
        "mode = 'lines',\n",
        "name = 'Game Theory IM'\n",
        ")\n",
        "trace2 = go.Scatter(\n",
        "x = k_array,\n",
        "y = exp(benefit_list_deg_discount),\n",
        "mode = 'lines',\n",
        "name = 'Degree Discount'\n",
        ")\n",
        "trace3 = go.Scatter(\n",
        "x = k_array,\n",
        "y = exp(benefit_list_sin_deg_discount),\n",
        "mode='lines',\n",
        "name = 'Single Degree Discount'\n",
        ")\n",
        "trace4 = go.Scatter(\n",
        "x = k_array,\n",
        "y = exp(benefit_list_neighbour_remove),\n",
        "mode='lines',\n",
        "name = 'Neighbour Remove'\n",
        ")\n",
        "trace5 = go.Scatter(\n",
        "x = k_array,\n",
        "y = exp(benefit_list_deg_decrease),\n",
        "mode='lines',\n",
        "name = 'Degree Decrease'\n",
        ")\n",
        "trace6 = go.Scatter(\n",
        "x = k_array,\n",
        "y = exp(benefit_list_RIS),\n",
        "mode='lines',\n",
        "name = 'RIS IM'\n",
        ")\n",
        "trace7 = go.Scatter(\n",
        "x = k_array,\n",
        "y = exp(benefit_list_MIM),\n",
        "mode='lines',\n",
        "name = 'Marginal IM'\n",
        ")\n",
        "trace8 = go.Scatter(\n",
        "x = k_array,\n",
        "y = exp(benefit_list_BIM),\n",
        "mode='lines',\n",
        "name = 'Benefit IM'\n",
        ")\n",
        "trace9 = go.Scatter(\n",
        "x = k_array,\n",
        "y = exp(benefit_list_HSFLA),\n",
        "mode='lines',\n",
        "name = 'HSFLA IM'\n",
        ")\n",
        "layout = go.Layout(\n",
        "title = \"Cummulative Exponential Benefit Influence Score vs Seed Size\",\n",
        "xaxis = {'title' : \"Seed(k)\"},\n",
        "yaxis = {'title' : \"Exponential Benefit Influence Score\"}\n",
        ")\n",
        "fig = go.Figure(data=[trace1, trace2, trace3,trace4,trace5,trace6,trace9, trace7, trace8], layout=layout)\n",
        "fig.show()"
      ],
      "execution_count": null,
      "outputs": [
        {
          "output_type": "display_data",
          "data": {
            "text/html": [
              "<html>\n",
              "<head><meta charset=\"utf-8\" /></head>\n",
              "<body>\n",
              "    <div>\n",
              "            <script src=\"https://cdnjs.cloudflare.com/ajax/libs/mathjax/2.7.5/MathJax.js?config=TeX-AMS-MML_SVG\"></script><script type=\"text/javascript\">if (window.MathJax) {MathJax.Hub.Config({SVG: {font: \"STIX-Web\"}});}</script>\n",
              "                <script type=\"text/javascript\">window.PlotlyConfig = {MathJaxConfig: 'local'};</script>\n",
              "        <script src=\"https://cdn.plot.ly/plotly-latest.min.js\"></script>    \n",
              "            <div id=\"f4ea087b-ed85-4e19-b451-abafbfba6ffa\" class=\"plotly-graph-div\" style=\"height:525px; width:100%;\"></div>\n",
              "            <script type=\"text/javascript\">\n",
              "                \n",
              "                    window.PLOTLYENV=window.PLOTLYENV || {};\n",
              "                    \n",
              "                if (document.getElementById(\"f4ea087b-ed85-4e19-b451-abafbfba6ffa\")) {\n",
              "                    Plotly.newPlot(\n",
              "                        'f4ea087b-ed85-4e19-b451-abafbfba6ffa',\n",
              "                        [{\"mode\": \"lines\", \"name\": \"Game Theory IM\", \"type\": \"scatter\", \"x\": [1, 2, 3, 4, 5, 6, 7, 8, 9, 10, 11, 12, 13, 14, 15, 16, 17, 18, 19, 20], \"y\": [1.0000000127611228, 1.0000000210558528, 1.0000000210558528, 1.0000000210558528, 1.0000000210558528, 1.0000000210558528, 1.0000000210558528, 1.0000000210558528, 1.000000032221836, 1.000000032221836, 1.0000000537881366, 1.0000000537881366, 1.0000000537881366, 1.0000000537881366, 1.0000000537881366, 1.0000000537881366, 1.000000061955258, 1.000000061955258, 1.000000061955258, 1.000000061955258]}, {\"mode\": \"lines\", \"name\": \"Degree Discount\", \"type\": \"scatter\", \"x\": [1, 2, 3, 4, 5, 6, 7, 8, 9, 10, 11, 12, 13, 14, 15, 16, 17, 18, 19, 20], \"y\": [1.000000770626558, 1.000000783387694, 1.0000013455047692, 1.0000019706622425, 1.000002608773969, 1.0000028313901583, 1.0000033349768842, 1.0000038335742423, 1.0000043321718488, 1.0000043627986808, 1.000004485586788, 1.0000045248274303, 1.000004681662446, 1.0000047093542153, 1.000004718542267, 1.000004975885437, 1.000004975885437, 1.0000049898589376, 1.0000049898589376, 1.0000049898589376]}, {\"mode\": \"lines\", \"name\": \"Single Degree Discount\", \"type\": \"scatter\", \"x\": [1, 2, 3, 4, 5, 6, 7, 8, 9, 10, 11, 12, 13, 14, 15, 16, 17, 18, 19, 20], \"y\": [1.000000770626558, 1.000000783387694, 1.0000013455047692, 1.0000019706622425, 1.000002608773969, 1.0000028313901583, 1.0000033349768842, 1.0000038335742423, 1.0000043321718488, 1.0000043627986808, 1.000004485586788, 1.0000045248274303, 1.000004681662446, 1.0000047093542153, 1.000004718542267, 1.000004975885437, 1.000004975885437, 1.0000049898589376, 1.0000049898589376, 1.0000049898589376]}, {\"mode\": \"lines\", \"name\": \"Neighbour Remove\", \"type\": \"scatter\", \"x\": [1, 2, 3, 4, 5, 6, 7, 8, 9, 10, 11, 12, 13, 14, 15, 16, 17, 18, 19, 20], \"y\": [1.000000770626558, 1.000001332743626, 1.000001957901091, 1.0000025960128094, 1.000002818628996, 1.0000033222157154, 1.000003820813067, 1.0000043194106674, 1.0000045767537347, 1.0000050003359324, 1.0000054370085079, 1.000005845513712, 1.0000065227708579, 1.0000069911940048, 1.0000074237343708, 1.0000080722557645, 1.0000083725367734, 1.00000873499863, 1.0000097362345448, 1.0000102093962733]}, {\"mode\": \"lines\", \"name\": \"Degree Decrease\", \"type\": \"scatter\", \"x\": [1, 2, 3, 4, 5, 6, 7, 8, 9, 10, 11, 12, 13, 14, 15, 16, 17, 18, 19, 20], \"y\": [1.000000770626558, 1.000001332743626, 1.000001957901091, 1.0000025960128094, 1.000002818628996, 1.0000033222157154, 1.000003820813067, 1.0000043194106674, 1.0000045767537347, 1.0000050003359324, 1.0000054370085079, 1.000005845513712, 1.0000065227708579, 1.0000069911940048, 1.0000074237343708, 1.0000080722557645, 1.0000083725367734, 1.00000873499863, 1.0000097362345448, 1.0000102093962733]}, {\"mode\": \"lines\", \"name\": \"RIS IM\", \"type\": \"scatter\", \"x\": [1, 2, 3, 4, 5, 6, 7, 8, 9, 10, 11, 12, 13, 14, 15, 16, 17, 18, 19, 20], \"y\": [1.0000000127611228, 1.0000000275640322, 1.0000000275640322, 1.0000000404846712, 1.0000000481413454, 1.0000000894873973, 1.0000001308653468, 1.0000001429884169, 1.0000001847726072, 1.0000002228433131, 1.0000002535763661, 1.0000003056417712, 1.0000004314665292, 1.0000004741737867, 1.0000005844299764, 1.0000006139081983, 1.0000007026300666, 1.0000007074154917, 1.0000007798987922, 1.0000010276788143]}, {\"mode\": \"lines\", \"name\": \"HSFLA IM\", \"type\": \"scatter\", \"x\": [1, 2, 3, 4, 5, 6, 7, 8, 9, 10, 11, 12, 13, 14, 15, 16, 17, 18, 19, 20], \"y\": [1.0, 1.0, 1.0000000096984534, 1.0000000157599866, 1.000000028010665, 1.000000028010665, 1.000000028010665, 1.000000028010665, 1.0000000336255606, 1.0000000336255606, 1.0000000520015782, 1.0000000520015782, 1.0000000520015782, 1.0000000520015782, 1.0000000550642478, 1.0000000719089326, 1.0000000719089326, 1.0000000719089326, 1.0000000719089326, 1.0000001055982997]}, {\"mode\": \"lines\", \"name\": \"Marginal IM\", \"type\": \"scatter\", \"x\": [1, 2, 3, 4, 5, 6, 7, 8, 9, 10, 11, 12, 13, 14, 15, 16, 17, 18, 19, 20], \"y\": [1.000001481314247, 1.0000024644342502, 1.0000034873701797, 1.000004355130806, 1.000005359181978, 1.0000062402157728, 1.0000070824563143, 1.0000078991749375, 1.00000870364382, 1.0000094693192756, 1.0000104649315447, 1.0000112050857421, 1.00001194524045, 1.000012685395276, 1.000013400028146, 1.0000142055220353, 1.0000148946337044, 1.0000155837458469, 1.0000162728583735, 1.0000171436929544]}, {\"mode\": \"lines\", \"name\": \"Benefit IM\", \"type\": \"scatter\", \"x\": [1, 2, 3, 4, 5, 6, 7, 8, 9, 10, 11, 12, 13, 14, 15, 16, 17, 18, 19, 20], \"y\": [1.0000015693874114, 1.0000030507039832, 1.0000042282406787, 1.000005401577398, 1.000006424516332, 1.000007428569582, 1.0000084298041887, 1.0000094254154226, 1.000010408543236, 1.0000113908792412, 1.000012372290979, 1.0000133401724398, 1.0000142722223138, 1.0000151878048251, 1.0000160810329468, 1.000016973970471, 1.0000178578432253, 1.0000187392715763, 1.0000196203171592, 1.000020499272961]}],\n",
              "                        {\"template\": {\"data\": {\"bar\": [{\"error_x\": {\"color\": \"#2a3f5f\"}, \"error_y\": {\"color\": \"#2a3f5f\"}, \"marker\": {\"line\": {\"color\": \"#E5ECF6\", \"width\": 0.5}}, \"type\": \"bar\"}], \"barpolar\": [{\"marker\": {\"line\": {\"color\": \"#E5ECF6\", \"width\": 0.5}}, \"type\": \"barpolar\"}], \"carpet\": [{\"aaxis\": {\"endlinecolor\": \"#2a3f5f\", \"gridcolor\": \"white\", \"linecolor\": \"white\", \"minorgridcolor\": \"white\", \"startlinecolor\": \"#2a3f5f\"}, \"baxis\": {\"endlinecolor\": \"#2a3f5f\", \"gridcolor\": \"white\", \"linecolor\": \"white\", \"minorgridcolor\": \"white\", \"startlinecolor\": \"#2a3f5f\"}, \"type\": \"carpet\"}], \"choropleth\": [{\"colorbar\": {\"outlinewidth\": 0, \"ticks\": \"\"}, \"type\": \"choropleth\"}], \"contour\": [{\"colorbar\": {\"outlinewidth\": 0, \"ticks\": \"\"}, \"colorscale\": [[0.0, \"#0d0887\"], [0.1111111111111111, \"#46039f\"], [0.2222222222222222, \"#7201a8\"], [0.3333333333333333, \"#9c179e\"], [0.4444444444444444, \"#bd3786\"], [0.5555555555555556, \"#d8576b\"], [0.6666666666666666, \"#ed7953\"], [0.7777777777777778, \"#fb9f3a\"], [0.8888888888888888, \"#fdca26\"], [1.0, \"#f0f921\"]], \"type\": \"contour\"}], \"contourcarpet\": [{\"colorbar\": {\"outlinewidth\": 0, \"ticks\": \"\"}, \"type\": \"contourcarpet\"}], \"heatmap\": [{\"colorbar\": {\"outlinewidth\": 0, \"ticks\": \"\"}, \"colorscale\": [[0.0, \"#0d0887\"], [0.1111111111111111, \"#46039f\"], [0.2222222222222222, \"#7201a8\"], [0.3333333333333333, \"#9c179e\"], [0.4444444444444444, \"#bd3786\"], [0.5555555555555556, \"#d8576b\"], [0.6666666666666666, \"#ed7953\"], [0.7777777777777778, \"#fb9f3a\"], [0.8888888888888888, \"#fdca26\"], [1.0, \"#f0f921\"]], \"type\": \"heatmap\"}], \"heatmapgl\": [{\"colorbar\": {\"outlinewidth\": 0, \"ticks\": \"\"}, \"colorscale\": [[0.0, \"#0d0887\"], [0.1111111111111111, \"#46039f\"], [0.2222222222222222, \"#7201a8\"], [0.3333333333333333, \"#9c179e\"], [0.4444444444444444, \"#bd3786\"], [0.5555555555555556, \"#d8576b\"], [0.6666666666666666, \"#ed7953\"], [0.7777777777777778, \"#fb9f3a\"], [0.8888888888888888, \"#fdca26\"], [1.0, \"#f0f921\"]], \"type\": \"heatmapgl\"}], \"histogram\": [{\"marker\": {\"colorbar\": {\"outlinewidth\": 0, \"ticks\": \"\"}}, \"type\": \"histogram\"}], \"histogram2d\": [{\"colorbar\": {\"outlinewidth\": 0, \"ticks\": \"\"}, \"colorscale\": [[0.0, \"#0d0887\"], [0.1111111111111111, \"#46039f\"], [0.2222222222222222, \"#7201a8\"], [0.3333333333333333, \"#9c179e\"], [0.4444444444444444, \"#bd3786\"], [0.5555555555555556, \"#d8576b\"], [0.6666666666666666, \"#ed7953\"], [0.7777777777777778, \"#fb9f3a\"], [0.8888888888888888, \"#fdca26\"], [1.0, \"#f0f921\"]], \"type\": \"histogram2d\"}], \"histogram2dcontour\": [{\"colorbar\": {\"outlinewidth\": 0, \"ticks\": \"\"}, \"colorscale\": [[0.0, \"#0d0887\"], [0.1111111111111111, \"#46039f\"], [0.2222222222222222, \"#7201a8\"], [0.3333333333333333, \"#9c179e\"], [0.4444444444444444, \"#bd3786\"], [0.5555555555555556, \"#d8576b\"], [0.6666666666666666, \"#ed7953\"], [0.7777777777777778, \"#fb9f3a\"], [0.8888888888888888, \"#fdca26\"], [1.0, \"#f0f921\"]], \"type\": \"histogram2dcontour\"}], \"mesh3d\": [{\"colorbar\": {\"outlinewidth\": 0, \"ticks\": \"\"}, \"type\": \"mesh3d\"}], \"parcoords\": [{\"line\": {\"colorbar\": {\"outlinewidth\": 0, \"ticks\": \"\"}}, \"type\": \"parcoords\"}], \"pie\": [{\"automargin\": true, \"type\": \"pie\"}], \"scatter\": [{\"marker\": {\"colorbar\": {\"outlinewidth\": 0, \"ticks\": \"\"}}, \"type\": \"scatter\"}], \"scatter3d\": [{\"line\": {\"colorbar\": {\"outlinewidth\": 0, \"ticks\": \"\"}}, \"marker\": {\"colorbar\": {\"outlinewidth\": 0, \"ticks\": \"\"}}, \"type\": \"scatter3d\"}], \"scattercarpet\": [{\"marker\": {\"colorbar\": {\"outlinewidth\": 0, \"ticks\": \"\"}}, \"type\": \"scattercarpet\"}], \"scattergeo\": [{\"marker\": {\"colorbar\": {\"outlinewidth\": 0, \"ticks\": \"\"}}, \"type\": \"scattergeo\"}], \"scattergl\": [{\"marker\": {\"colorbar\": {\"outlinewidth\": 0, \"ticks\": \"\"}}, \"type\": \"scattergl\"}], \"scattermapbox\": [{\"marker\": {\"colorbar\": {\"outlinewidth\": 0, \"ticks\": \"\"}}, \"type\": \"scattermapbox\"}], \"scatterpolar\": [{\"marker\": {\"colorbar\": {\"outlinewidth\": 0, \"ticks\": \"\"}}, \"type\": \"scatterpolar\"}], \"scatterpolargl\": [{\"marker\": {\"colorbar\": {\"outlinewidth\": 0, \"ticks\": \"\"}}, \"type\": \"scatterpolargl\"}], \"scatterternary\": [{\"marker\": {\"colorbar\": {\"outlinewidth\": 0, \"ticks\": \"\"}}, \"type\": \"scatterternary\"}], \"surface\": [{\"colorbar\": {\"outlinewidth\": 0, \"ticks\": \"\"}, \"colorscale\": [[0.0, \"#0d0887\"], [0.1111111111111111, \"#46039f\"], [0.2222222222222222, \"#7201a8\"], [0.3333333333333333, \"#9c179e\"], [0.4444444444444444, \"#bd3786\"], [0.5555555555555556, \"#d8576b\"], [0.6666666666666666, \"#ed7953\"], [0.7777777777777778, \"#fb9f3a\"], [0.8888888888888888, \"#fdca26\"], [1.0, \"#f0f921\"]], \"type\": \"surface\"}], \"table\": [{\"cells\": {\"fill\": {\"color\": \"#EBF0F8\"}, \"line\": {\"color\": \"white\"}}, \"header\": {\"fill\": {\"color\": \"#C8D4E3\"}, \"line\": {\"color\": \"white\"}}, \"type\": \"table\"}]}, \"layout\": {\"annotationdefaults\": {\"arrowcolor\": \"#2a3f5f\", \"arrowhead\": 0, \"arrowwidth\": 1}, \"coloraxis\": {\"colorbar\": {\"outlinewidth\": 0, \"ticks\": \"\"}}, \"colorscale\": {\"diverging\": [[0, \"#8e0152\"], [0.1, \"#c51b7d\"], [0.2, \"#de77ae\"], [0.3, \"#f1b6da\"], [0.4, \"#fde0ef\"], [0.5, \"#f7f7f7\"], [0.6, \"#e6f5d0\"], [0.7, \"#b8e186\"], [0.8, \"#7fbc41\"], [0.9, \"#4d9221\"], [1, \"#276419\"]], \"sequential\": [[0.0, \"#0d0887\"], [0.1111111111111111, \"#46039f\"], [0.2222222222222222, \"#7201a8\"], [0.3333333333333333, \"#9c179e\"], [0.4444444444444444, \"#bd3786\"], [0.5555555555555556, \"#d8576b\"], [0.6666666666666666, \"#ed7953\"], [0.7777777777777778, \"#fb9f3a\"], [0.8888888888888888, \"#fdca26\"], [1.0, \"#f0f921\"]], \"sequentialminus\": [[0.0, \"#0d0887\"], [0.1111111111111111, \"#46039f\"], [0.2222222222222222, \"#7201a8\"], [0.3333333333333333, \"#9c179e\"], [0.4444444444444444, \"#bd3786\"], [0.5555555555555556, \"#d8576b\"], [0.6666666666666666, \"#ed7953\"], [0.7777777777777778, \"#fb9f3a\"], [0.8888888888888888, \"#fdca26\"], [1.0, \"#f0f921\"]]}, \"colorway\": [\"#636efa\", \"#EF553B\", \"#00cc96\", \"#ab63fa\", \"#FFA15A\", \"#19d3f3\", \"#FF6692\", \"#B6E880\", \"#FF97FF\", \"#FECB52\"], \"font\": {\"color\": \"#2a3f5f\"}, \"geo\": {\"bgcolor\": \"white\", \"lakecolor\": \"white\", \"landcolor\": \"#E5ECF6\", \"showlakes\": true, \"showland\": true, \"subunitcolor\": \"white\"}, \"hoverlabel\": {\"align\": \"left\"}, \"hovermode\": \"closest\", \"mapbox\": {\"style\": \"light\"}, \"paper_bgcolor\": \"white\", \"plot_bgcolor\": \"#E5ECF6\", \"polar\": {\"angularaxis\": {\"gridcolor\": \"white\", \"linecolor\": \"white\", \"ticks\": \"\"}, \"bgcolor\": \"#E5ECF6\", \"radialaxis\": {\"gridcolor\": \"white\", \"linecolor\": \"white\", \"ticks\": \"\"}}, \"scene\": {\"xaxis\": {\"backgroundcolor\": \"#E5ECF6\", \"gridcolor\": \"white\", \"gridwidth\": 2, \"linecolor\": \"white\", \"showbackground\": true, \"ticks\": \"\", \"zerolinecolor\": \"white\"}, \"yaxis\": {\"backgroundcolor\": \"#E5ECF6\", \"gridcolor\": \"white\", \"gridwidth\": 2, \"linecolor\": \"white\", \"showbackground\": true, \"ticks\": \"\", \"zerolinecolor\": \"white\"}, \"zaxis\": {\"backgroundcolor\": \"#E5ECF6\", \"gridcolor\": \"white\", \"gridwidth\": 2, \"linecolor\": \"white\", \"showbackground\": true, \"ticks\": \"\", \"zerolinecolor\": \"white\"}}, \"shapedefaults\": {\"line\": {\"color\": \"#2a3f5f\"}}, \"ternary\": {\"aaxis\": {\"gridcolor\": \"white\", \"linecolor\": \"white\", \"ticks\": \"\"}, \"baxis\": {\"gridcolor\": \"white\", \"linecolor\": \"white\", \"ticks\": \"\"}, \"bgcolor\": \"#E5ECF6\", \"caxis\": {\"gridcolor\": \"white\", \"linecolor\": \"white\", \"ticks\": \"\"}}, \"title\": {\"x\": 0.05}, \"xaxis\": {\"automargin\": true, \"gridcolor\": \"white\", \"linecolor\": \"white\", \"ticks\": \"\", \"title\": {\"standoff\": 15}, \"zerolinecolor\": \"white\", \"zerolinewidth\": 2}, \"yaxis\": {\"automargin\": true, \"gridcolor\": \"white\", \"linecolor\": \"white\", \"ticks\": \"\", \"title\": {\"standoff\": 15}, \"zerolinecolor\": \"white\", \"zerolinewidth\": 2}}}, \"title\": {\"text\": \"Cummulative Exponential Benefit Influence Score vs Seed Size\"}, \"xaxis\": {\"title\": {\"text\": \"Seed(k)\"}}, \"yaxis\": {\"title\": {\"text\": \"Exponential Benefit Influence Score\"}}},\n",
              "                        {\"responsive\": true}\n",
              "                    ).then(function(){\n",
              "                            \n",
              "var gd = document.getElementById('f4ea087b-ed85-4e19-b451-abafbfba6ffa');\n",
              "var x = new MutationObserver(function (mutations, observer) {{\n",
              "        var display = window.getComputedStyle(gd).display;\n",
              "        if (!display || display === 'none') {{\n",
              "            console.log([gd, 'removed!']);\n",
              "            Plotly.purge(gd);\n",
              "            observer.disconnect();\n",
              "        }}\n",
              "}});\n",
              "\n",
              "// Listen for the removal of the full notebook cells\n",
              "var notebookContainer = gd.closest('#notebook-container');\n",
              "if (notebookContainer) {{\n",
              "    x.observe(notebookContainer, {childList: true});\n",
              "}}\n",
              "\n",
              "// Listen for the clearing of the current output cell\n",
              "var outputEl = gd.closest('.output');\n",
              "if (outputEl) {{\n",
              "    x.observe(outputEl, {childList: true});\n",
              "}}\n",
              "\n",
              "                        })\n",
              "                };\n",
              "                \n",
              "            </script>\n",
              "        </div>\n",
              "</body>\n",
              "</html>"
            ]
          },
          "metadata": {
            "tags": []
          }
        }
      ]
    },
    {
      "cell_type": "code",
      "metadata": {
        "colab": {
          "base_uri": "https://localhost:8080/",
          "height": 542
        },
        "id": "NeA5r1PTmxTE",
        "outputId": "d0c3dd02-4cd8-4bad-9de9-bc10955518ae"
      },
      "source": [
        "trace1 = go.Scatter(\n",
        "x = k_array,\n",
        "y = (benefit_list_game_theory),\n",
        "mode = 'lines',\n",
        "name = 'Game Theory IM'\n",
        ")\n",
        "trace2 = go.Scatter(\n",
        "x = k_array,\n",
        "y = (benefit_list_deg_discount),\n",
        "mode = 'lines',\n",
        "name = 'Degree Discount'\n",
        ")\n",
        "trace3 = go.Scatter(\n",
        "x = k_array,\n",
        "y = (benefit_list_sin_deg_discount),\n",
        "mode='lines',\n",
        "name = 'Single Degree Discount'\n",
        ")\n",
        "trace4 = go.Scatter(\n",
        "x = k_array,\n",
        "y = (benefit_list_neighbour_remove),\n",
        "mode='lines',\n",
        "name = 'Neighbour Remove'\n",
        ")\n",
        "trace5 = go.Scatter(\n",
        "x = k_array,\n",
        "y = (benefit_list_deg_decrease),\n",
        "mode='lines',\n",
        "name = 'Degree Decrease'\n",
        ")\n",
        "trace6 = go.Scatter(\n",
        "x = k_array,\n",
        "y = (benefit_list_RIS),\n",
        "mode='lines',\n",
        "name = 'RIS IM'\n",
        ")\n",
        "trace7 = go.Scatter(\n",
        "x = k_array,\n",
        "y = (benefit_list_MIM),\n",
        "mode='lines',\n",
        "name = 'Marginal IM'\n",
        ")\n",
        "trace8 = go.Scatter(\n",
        "x = k_array,\n",
        "y = (benefit_list_BIM),\n",
        "mode='lines',\n",
        "name = 'Benefit IM'\n",
        ")\n",
        "trace9 = go.Scatter(\n",
        "x = k_array,\n",
        "y = (benefit_list_HSFLA),\n",
        "mode='lines',\n",
        "name = 'HSFLA IM'\n",
        ")\n",
        "layout = go.Layout(\n",
        "title = \"Cummulative Benefit Influence Score vs Seed Size\",\n",
        "xaxis = {'title' : \"Seed(k)\"},\n",
        "yaxis = {'title' : \"Benefit Influence Score\"}\n",
        ")\n",
        "fig = go.Figure(data=[trace1, trace2, trace3,trace4,trace5,trace6,trace9,trace7,trace8], layout=layout)\n",
        "fig.show()"
      ],
      "execution_count": null,
      "outputs": [
        {
          "output_type": "display_data",
          "data": {
            "text/html": [
              "<html>\n",
              "<head><meta charset=\"utf-8\" /></head>\n",
              "<body>\n",
              "    <div>\n",
              "            <script src=\"https://cdnjs.cloudflare.com/ajax/libs/mathjax/2.7.5/MathJax.js?config=TeX-AMS-MML_SVG\"></script><script type=\"text/javascript\">if (window.MathJax) {MathJax.Hub.Config({SVG: {font: \"STIX-Web\"}});}</script>\n",
              "                <script type=\"text/javascript\">window.PlotlyConfig = {MathJaxConfig: 'local'};</script>\n",
              "        <script src=\"https://cdn.plot.ly/plotly-latest.min.js\"></script>    \n",
              "            <div id=\"d8d8f71c-2aeb-478a-9663-870113617acc\" class=\"plotly-graph-div\" style=\"height:525px; width:100%;\"></div>\n",
              "            <script type=\"text/javascript\">\n",
              "                \n",
              "                    window.PLOTLYENV=window.PLOTLYENV || {};\n",
              "                    \n",
              "                if (document.getElementById(\"d8d8f71c-2aeb-478a-9663-870113617acc\")) {\n",
              "                    Plotly.newPlot(\n",
              "                        'd8d8f71c-2aeb-478a-9663-870113617acc',\n",
              "                        [{\"mode\": \"lines\", \"name\": \"Game Theory IM\", \"type\": \"scatter\", \"x\": [1, 2, 3, 4, 5, 6, 7, 8, 9, 10, 11, 12, 13, 14, 15, 16, 17, 18, 19, 20], \"y\": [1.2761122759256619e-08, 2.1055852552773423e-08, 2.1055852552773423e-08, 2.1055852552773423e-08, 2.1055852552773423e-08, 2.1055852552773423e-08, 2.1055852552773423e-08, 2.1055852552773423e-08, 3.222183562740542e-08, 3.222183562740542e-08, 5.378813525450004e-08, 5.378813525450004e-08, 5.378813525450004e-08, 5.378813525450004e-08, 5.378813525450004e-08, 5.378813525450004e-08, 6.195525609312761e-08, 6.195525609312761e-08, 6.195525609312761e-08, 6.195525609312761e-08]}, {\"mode\": \"lines\", \"name\": \"Degree Discount\", \"type\": \"scatter\", \"x\": [1, 2, 3, 4, 5, 6, 7, 8, 9, 10, 11, 12, 13, 14, 15, 16, 17, 18, 19, 20], \"y\": [7.706262609337695e-07, 7.83387387244125e-07, 1.345503864023842e-06, 1.970660300680098e-06, 2.6087705661247685e-06, 2.831386149913606e-06, 3.334971323206813e-06, 3.833566894091946e-06, 4.332162464977079e-06, 4.362789163860615e-06, 4.485576727817343e-06, 4.524817193365664e-06, 4.68165148690017e-06, 4.709343126245157e-06, 4.718531134631822e-06, 4.975873057417852e-06, 4.975873057417852e-06, 4.989846488401721e-06, 4.989846488401721e-06, 4.989846488401721e-06]}, {\"mode\": \"lines\", \"name\": \"Single Degree Discount\", \"type\": \"scatter\", \"x\": [1, 2, 3, 4, 5, 6, 7, 8, 9, 10, 11, 12, 13, 14, 15, 16, 17, 18, 19, 20], \"y\": [7.706262609337695e-07, 7.83387387244125e-07, 1.345503864023842e-06, 1.970660300680098e-06, 2.6087705661247685e-06, 2.831386149913606e-06, 3.334971323206813e-06, 3.833566894091946e-06, 4.332162464977079e-06, 4.362789163860615e-06, 4.485576727817343e-06, 4.524817193365664e-06, 4.68165148690017e-06, 4.709343126245157e-06, 4.718531134631822e-06, 4.975873057417852e-06, 4.975873057417852e-06, 4.989846488401721e-06, 4.989846488401721e-06, 4.989846488401721e-06]}, {\"mode\": \"lines\", \"name\": \"Neighbour Remove\", \"type\": \"scatter\", \"x\": [1, 2, 3, 4, 5, 6, 7, 8, 9, 10, 11, 12, 13, 14, 15, 16, 17, 18, 19, 20], \"y\": [7.706262609337695e-07, 1.3327427377134862e-06, 1.957899174369742e-06, 2.5960094398144123e-06, 2.81862502360325e-06, 3.3222101968964568e-06, 3.82080576778159e-06, 4.319401338666723e-06, 4.5767432614527525e-06, 5.000323430877231e-06, 5.4369937274770816e-06, 5.845496626990544e-06, 6.5227495846693836e-06, 6.99116956659156e-06, 7.42370681512289e-06, 8.072223183992114e-06, 8.372501723838415e-06, 8.734960480115367e-06, 9.736187148006022e-06, 1.0209344157719291e-05]}, {\"mode\": \"lines\", \"name\": \"Degree Decrease\", \"type\": \"scatter\", \"x\": [1, 2, 3, 4, 5, 6, 7, 8, 9, 10, 11, 12, 13, 14, 15, 16, 17, 18, 19, 20], \"y\": [7.706262609337695e-07, 1.3327427377134862e-06, 1.957899174369742e-06, 2.5960094398144123e-06, 2.81862502360325e-06, 3.3222101968964568e-06, 3.82080576778159e-06, 4.319401338666723e-06, 4.5767432614527525e-06, 5.000323430877231e-06, 5.4369937274770816e-06, 5.845496626990544e-06, 6.5227495846693836e-06, 6.99116956659156e-06, 7.42370681512289e-06, 8.072223183992114e-06, 8.372501723838415e-06, 8.734960480115367e-06, 9.736187148006022e-06, 1.0209344157719291e-05]}, {\"mode\": \"lines\", \"name\": \"RIS IM\", \"type\": \"scatter\", \"x\": [1, 2, 3, 4, 5, 6, 7, 8, 9, 10, 11, 12, 13, 14, 15, 16, 17, 18, 19, 20], \"y\": [1.2761122759256619e-08, 2.7564031694017747e-08, 2.7564031694017747e-08, 4.048467043532091e-08, 4.814134409087488e-08, 8.94873933364291e-08, 1.308653381668318e-07, 1.429884065858696e-07, 1.847725901974199e-07, 2.2284328829400134e-07, 2.5357633394750843e-07, 3.0564172446426594e-07, 4.314664360632876e-07, 4.7417367424298025e-07, 5.844298055644525e-07, 6.139080098182707e-07, 7.026298196663474e-07, 7.074152416265743e-07, 7.798984881465646e-07, 1.0276782862347098e-06]}, {\"mode\": \"lines\", \"name\": \"HSFLA IM\", \"type\": \"scatter\", \"x\": [1, 2, 3, 4, 5, 6, 7, 8, 9, 10, 11, 12, 13, 14, 15, 16, 17, 18, 19, 20], \"y\": [0.0, 0.0, 9.69845329703503e-09, 1.5759986607681923e-08, 2.8010664456568276e-08, 2.8010664456568276e-08, 2.8010664456568276e-08, 2.8010664456568276e-08, 3.362556003312473e-08, 3.362556003312473e-08, 5.200157680645426e-08, 5.200157680645426e-08, 5.200157680645426e-08, 5.200157680645426e-08, 5.506424626867585e-08, 7.190893001542208e-08, 7.190893001542208e-08, 7.190893001542208e-08, 7.190893001542208e-08, 1.0559829409985956e-07]}, {\"mode\": \"lines\", \"name\": \"Marginal IM\", \"type\": \"scatter\", \"x\": [1, 2, 3, 4, 5, 6, 7, 8, 9, 10, 11, 12, 13, 14, 15, 16, 17, 18, 19, 20], \"y\": [1.481313149871383e-06, 2.464431213497482e-06, 3.4873640987986083e-06, 4.355121322342632e-06, 5.359167617564038e-06, 6.240196302665008e-06, 7.082431233910929e-06, 7.899143739147419e-06, 8.703605943662245e-06, 9.469274441901073e-06, 1.0464876787588873e-05, 1.120502296574458e-05, 1.194516910617912e-05, 1.268531481700106e-05, 1.3399938366513022e-05, 1.4205421137875882e-05, 1.4894522780484204e-05, 1.5583624421653187e-05, 1.6272725971932878e-05, 1.7143546003041386e-05]}, {\"mode\": \"lines\", \"name\": \"Benefit IM\", \"type\": \"scatter\", \"x\": [1, 2, 3, 4, 5, 6, 7, 8, 9, 10, 11, 12, 13, 14, 15, 16, 17, 18, 19, 20], \"y\": [1.5693861799814023e-06, 3.0506993298527854e-06, 4.228231739749728e-06, 5.40156280965242e-06, 6.4244956949535456e-06, 7.428541990174952e-06, 8.429768658065608e-06, 9.425371003753408e-06, 1.0408489067379508e-05, 1.139081436553279e-05, 1.2372214442848694e-05, 1.3340083460590895e-05, 1.4272120466495859e-05, 1.5187689491543936e-05, 1.608090364838148e-05, 1.6973826414816244e-05, 1.7857683775936248e-05, 1.8739095998267056e-05, 1.9620124683368026e-05, 2.049906285397179e-05]}],\n",
              "                        {\"template\": {\"data\": {\"bar\": [{\"error_x\": {\"color\": \"#2a3f5f\"}, \"error_y\": {\"color\": \"#2a3f5f\"}, \"marker\": {\"line\": {\"color\": \"#E5ECF6\", \"width\": 0.5}}, \"type\": \"bar\"}], \"barpolar\": [{\"marker\": {\"line\": {\"color\": \"#E5ECF6\", \"width\": 0.5}}, \"type\": \"barpolar\"}], \"carpet\": [{\"aaxis\": {\"endlinecolor\": \"#2a3f5f\", \"gridcolor\": \"white\", \"linecolor\": \"white\", \"minorgridcolor\": \"white\", \"startlinecolor\": \"#2a3f5f\"}, \"baxis\": {\"endlinecolor\": \"#2a3f5f\", \"gridcolor\": \"white\", \"linecolor\": \"white\", \"minorgridcolor\": \"white\", \"startlinecolor\": \"#2a3f5f\"}, \"type\": \"carpet\"}], \"choropleth\": [{\"colorbar\": {\"outlinewidth\": 0, \"ticks\": \"\"}, \"type\": \"choropleth\"}], \"contour\": [{\"colorbar\": {\"outlinewidth\": 0, \"ticks\": \"\"}, \"colorscale\": [[0.0, \"#0d0887\"], [0.1111111111111111, \"#46039f\"], [0.2222222222222222, \"#7201a8\"], [0.3333333333333333, \"#9c179e\"], [0.4444444444444444, \"#bd3786\"], [0.5555555555555556, \"#d8576b\"], [0.6666666666666666, \"#ed7953\"], [0.7777777777777778, \"#fb9f3a\"], [0.8888888888888888, \"#fdca26\"], [1.0, \"#f0f921\"]], \"type\": \"contour\"}], \"contourcarpet\": [{\"colorbar\": {\"outlinewidth\": 0, \"ticks\": \"\"}, \"type\": \"contourcarpet\"}], \"heatmap\": [{\"colorbar\": {\"outlinewidth\": 0, \"ticks\": \"\"}, \"colorscale\": [[0.0, \"#0d0887\"], [0.1111111111111111, \"#46039f\"], [0.2222222222222222, \"#7201a8\"], [0.3333333333333333, \"#9c179e\"], [0.4444444444444444, \"#bd3786\"], [0.5555555555555556, \"#d8576b\"], [0.6666666666666666, \"#ed7953\"], [0.7777777777777778, \"#fb9f3a\"], [0.8888888888888888, \"#fdca26\"], [1.0, \"#f0f921\"]], \"type\": \"heatmap\"}], \"heatmapgl\": [{\"colorbar\": {\"outlinewidth\": 0, \"ticks\": \"\"}, \"colorscale\": [[0.0, \"#0d0887\"], [0.1111111111111111, \"#46039f\"], [0.2222222222222222, \"#7201a8\"], [0.3333333333333333, \"#9c179e\"], [0.4444444444444444, \"#bd3786\"], [0.5555555555555556, \"#d8576b\"], [0.6666666666666666, \"#ed7953\"], [0.7777777777777778, \"#fb9f3a\"], [0.8888888888888888, \"#fdca26\"], [1.0, \"#f0f921\"]], \"type\": \"heatmapgl\"}], \"histogram\": [{\"marker\": {\"colorbar\": {\"outlinewidth\": 0, \"ticks\": \"\"}}, \"type\": \"histogram\"}], \"histogram2d\": [{\"colorbar\": {\"outlinewidth\": 0, \"ticks\": \"\"}, \"colorscale\": [[0.0, \"#0d0887\"], [0.1111111111111111, \"#46039f\"], [0.2222222222222222, \"#7201a8\"], [0.3333333333333333, \"#9c179e\"], [0.4444444444444444, \"#bd3786\"], [0.5555555555555556, \"#d8576b\"], [0.6666666666666666, \"#ed7953\"], [0.7777777777777778, \"#fb9f3a\"], [0.8888888888888888, \"#fdca26\"], [1.0, \"#f0f921\"]], \"type\": \"histogram2d\"}], \"histogram2dcontour\": [{\"colorbar\": {\"outlinewidth\": 0, \"ticks\": \"\"}, \"colorscale\": [[0.0, \"#0d0887\"], [0.1111111111111111, \"#46039f\"], [0.2222222222222222, \"#7201a8\"], [0.3333333333333333, \"#9c179e\"], [0.4444444444444444, \"#bd3786\"], [0.5555555555555556, \"#d8576b\"], [0.6666666666666666, \"#ed7953\"], [0.7777777777777778, \"#fb9f3a\"], [0.8888888888888888, \"#fdca26\"], [1.0, \"#f0f921\"]], \"type\": \"histogram2dcontour\"}], \"mesh3d\": [{\"colorbar\": {\"outlinewidth\": 0, \"ticks\": \"\"}, \"type\": \"mesh3d\"}], \"parcoords\": [{\"line\": {\"colorbar\": {\"outlinewidth\": 0, \"ticks\": \"\"}}, \"type\": \"parcoords\"}], \"pie\": [{\"automargin\": true, \"type\": \"pie\"}], \"scatter\": [{\"marker\": {\"colorbar\": {\"outlinewidth\": 0, \"ticks\": \"\"}}, \"type\": \"scatter\"}], \"scatter3d\": [{\"line\": {\"colorbar\": {\"outlinewidth\": 0, \"ticks\": \"\"}}, \"marker\": {\"colorbar\": {\"outlinewidth\": 0, \"ticks\": \"\"}}, \"type\": \"scatter3d\"}], \"scattercarpet\": [{\"marker\": {\"colorbar\": {\"outlinewidth\": 0, \"ticks\": \"\"}}, \"type\": \"scattercarpet\"}], \"scattergeo\": [{\"marker\": {\"colorbar\": {\"outlinewidth\": 0, \"ticks\": \"\"}}, \"type\": \"scattergeo\"}], \"scattergl\": [{\"marker\": {\"colorbar\": {\"outlinewidth\": 0, \"ticks\": \"\"}}, \"type\": \"scattergl\"}], \"scattermapbox\": [{\"marker\": {\"colorbar\": {\"outlinewidth\": 0, \"ticks\": \"\"}}, \"type\": \"scattermapbox\"}], \"scatterpolar\": [{\"marker\": {\"colorbar\": {\"outlinewidth\": 0, \"ticks\": \"\"}}, \"type\": \"scatterpolar\"}], \"scatterpolargl\": [{\"marker\": {\"colorbar\": {\"outlinewidth\": 0, \"ticks\": \"\"}}, \"type\": \"scatterpolargl\"}], \"scatterternary\": [{\"marker\": {\"colorbar\": {\"outlinewidth\": 0, \"ticks\": \"\"}}, \"type\": \"scatterternary\"}], \"surface\": [{\"colorbar\": {\"outlinewidth\": 0, \"ticks\": \"\"}, \"colorscale\": [[0.0, \"#0d0887\"], [0.1111111111111111, \"#46039f\"], [0.2222222222222222, \"#7201a8\"], [0.3333333333333333, \"#9c179e\"], [0.4444444444444444, \"#bd3786\"], [0.5555555555555556, \"#d8576b\"], [0.6666666666666666, \"#ed7953\"], [0.7777777777777778, \"#fb9f3a\"], [0.8888888888888888, \"#fdca26\"], [1.0, \"#f0f921\"]], \"type\": \"surface\"}], \"table\": [{\"cells\": {\"fill\": {\"color\": \"#EBF0F8\"}, \"line\": {\"color\": \"white\"}}, \"header\": {\"fill\": {\"color\": \"#C8D4E3\"}, \"line\": {\"color\": \"white\"}}, \"type\": \"table\"}]}, \"layout\": {\"annotationdefaults\": {\"arrowcolor\": \"#2a3f5f\", \"arrowhead\": 0, \"arrowwidth\": 1}, \"coloraxis\": {\"colorbar\": {\"outlinewidth\": 0, \"ticks\": \"\"}}, \"colorscale\": {\"diverging\": [[0, \"#8e0152\"], [0.1, \"#c51b7d\"], [0.2, \"#de77ae\"], [0.3, \"#f1b6da\"], [0.4, \"#fde0ef\"], [0.5, \"#f7f7f7\"], [0.6, \"#e6f5d0\"], [0.7, \"#b8e186\"], [0.8, \"#7fbc41\"], [0.9, \"#4d9221\"], [1, \"#276419\"]], \"sequential\": [[0.0, \"#0d0887\"], [0.1111111111111111, \"#46039f\"], [0.2222222222222222, \"#7201a8\"], [0.3333333333333333, \"#9c179e\"], [0.4444444444444444, \"#bd3786\"], [0.5555555555555556, \"#d8576b\"], [0.6666666666666666, \"#ed7953\"], [0.7777777777777778, \"#fb9f3a\"], [0.8888888888888888, \"#fdca26\"], [1.0, \"#f0f921\"]], \"sequentialminus\": [[0.0, \"#0d0887\"], [0.1111111111111111, \"#46039f\"], [0.2222222222222222, \"#7201a8\"], [0.3333333333333333, \"#9c179e\"], [0.4444444444444444, \"#bd3786\"], [0.5555555555555556, \"#d8576b\"], [0.6666666666666666, \"#ed7953\"], [0.7777777777777778, \"#fb9f3a\"], [0.8888888888888888, \"#fdca26\"], [1.0, \"#f0f921\"]]}, \"colorway\": [\"#636efa\", \"#EF553B\", \"#00cc96\", \"#ab63fa\", \"#FFA15A\", \"#19d3f3\", \"#FF6692\", \"#B6E880\", \"#FF97FF\", \"#FECB52\"], \"font\": {\"color\": \"#2a3f5f\"}, \"geo\": {\"bgcolor\": \"white\", \"lakecolor\": \"white\", \"landcolor\": \"#E5ECF6\", \"showlakes\": true, \"showland\": true, \"subunitcolor\": \"white\"}, \"hoverlabel\": {\"align\": \"left\"}, \"hovermode\": \"closest\", \"mapbox\": {\"style\": \"light\"}, \"paper_bgcolor\": \"white\", \"plot_bgcolor\": \"#E5ECF6\", \"polar\": {\"angularaxis\": {\"gridcolor\": \"white\", \"linecolor\": \"white\", \"ticks\": \"\"}, \"bgcolor\": \"#E5ECF6\", \"radialaxis\": {\"gridcolor\": \"white\", \"linecolor\": \"white\", \"ticks\": \"\"}}, \"scene\": {\"xaxis\": {\"backgroundcolor\": \"#E5ECF6\", \"gridcolor\": \"white\", \"gridwidth\": 2, \"linecolor\": \"white\", \"showbackground\": true, \"ticks\": \"\", \"zerolinecolor\": \"white\"}, \"yaxis\": {\"backgroundcolor\": \"#E5ECF6\", \"gridcolor\": \"white\", \"gridwidth\": 2, \"linecolor\": \"white\", \"showbackground\": true, \"ticks\": \"\", \"zerolinecolor\": \"white\"}, \"zaxis\": {\"backgroundcolor\": \"#E5ECF6\", \"gridcolor\": \"white\", \"gridwidth\": 2, \"linecolor\": \"white\", \"showbackground\": true, \"ticks\": \"\", \"zerolinecolor\": \"white\"}}, \"shapedefaults\": {\"line\": {\"color\": \"#2a3f5f\"}}, \"ternary\": {\"aaxis\": {\"gridcolor\": \"white\", \"linecolor\": \"white\", \"ticks\": \"\"}, \"baxis\": {\"gridcolor\": \"white\", \"linecolor\": \"white\", \"ticks\": \"\"}, \"bgcolor\": \"#E5ECF6\", \"caxis\": {\"gridcolor\": \"white\", \"linecolor\": \"white\", \"ticks\": \"\"}}, \"title\": {\"x\": 0.05}, \"xaxis\": {\"automargin\": true, \"gridcolor\": \"white\", \"linecolor\": \"white\", \"ticks\": \"\", \"title\": {\"standoff\": 15}, \"zerolinecolor\": \"white\", \"zerolinewidth\": 2}, \"yaxis\": {\"automargin\": true, \"gridcolor\": \"white\", \"linecolor\": \"white\", \"ticks\": \"\", \"title\": {\"standoff\": 15}, \"zerolinecolor\": \"white\", \"zerolinewidth\": 2}}}, \"title\": {\"text\": \"Cummulative Benefit Influence Score vs Seed Size\"}, \"xaxis\": {\"title\": {\"text\": \"Seed(k)\"}}, \"yaxis\": {\"title\": {\"text\": \"Benefit Influence Score\"}}},\n",
              "                        {\"responsive\": true}\n",
              "                    ).then(function(){\n",
              "                            \n",
              "var gd = document.getElementById('d8d8f71c-2aeb-478a-9663-870113617acc');\n",
              "var x = new MutationObserver(function (mutations, observer) {{\n",
              "        var display = window.getComputedStyle(gd).display;\n",
              "        if (!display || display === 'none') {{\n",
              "            console.log([gd, 'removed!']);\n",
              "            Plotly.purge(gd);\n",
              "            observer.disconnect();\n",
              "        }}\n",
              "}});\n",
              "\n",
              "// Listen for the removal of the full notebook cells\n",
              "var notebookContainer = gd.closest('#notebook-container');\n",
              "if (notebookContainer) {{\n",
              "    x.observe(notebookContainer, {childList: true});\n",
              "}}\n",
              "\n",
              "// Listen for the clearing of the current output cell\n",
              "var outputEl = gd.closest('.output');\n",
              "if (outputEl) {{\n",
              "    x.observe(outputEl, {childList: true});\n",
              "}}\n",
              "\n",
              "                        })\n",
              "                };\n",
              "                \n",
              "            </script>\n",
              "        </div>\n",
              "</body>\n",
              "</html>"
            ]
          },
          "metadata": {
            "tags": []
          }
        }
      ]
    },
    {
      "cell_type": "markdown",
      "metadata": {
        "id": "n5tMrq8rnhfW"
      },
      "source": [
        "Graph for Cummulative Exponential and Non Exponential Negative Influence Score Vs Seed Size"
      ]
    },
    {
      "cell_type": "code",
      "metadata": {
        "colab": {
          "base_uri": "https://localhost:8080/",
          "height": 542
        },
        "id": "jpbeqOmkniLU",
        "outputId": "771eda0e-4bc4-4c23-f9ed-b56f75bf2c6f"
      },
      "source": [
        "trace1 = go.Scatter(\n",
        "x = k_array,\n",
        "y = exp(loss_list_game_theory),\n",
        "mode = 'lines',\n",
        "name = 'Game Theory IM'\n",
        ")\n",
        "trace2 = go.Scatter(\n",
        "x = k_array,\n",
        "y = exp(loss_list_deg_discount),\n",
        "mode = 'lines',\n",
        "name = 'Degree Discount'\n",
        ")\n",
        "trace3 = go.Scatter(\n",
        "x = k_array,\n",
        "y = exp(loss_list_sin_deg_discount),\n",
        "mode='lines',\n",
        "name = 'Single Degree Discount'\n",
        ")\n",
        "trace4 = go.Scatter(\n",
        "x = k_array,\n",
        "y = exp(loss_list_neighbour_remove),\n",
        "mode='lines',\n",
        "name = 'Neighbour Remove'\n",
        ")\n",
        "trace5 = go.Scatter(\n",
        "x = k_array,\n",
        "y = exp(loss_list_deg_decrease),\n",
        "mode='lines',\n",
        "name = 'Degree Decrease'\n",
        ")\n",
        "trace6 = go.Scatter(\n",
        "x = k_array,\n",
        "y = exp(loss_list_RIS),\n",
        "mode='lines',\n",
        "name = 'RIS IM'\n",
        ")\n",
        "trace7 = go.Scatter(\n",
        "x = k_array,\n",
        "y = exp(loss_list_MIM),\n",
        "mode='lines',\n",
        "name = 'Marginal IM'\n",
        ")\n",
        "trace8 = go.Scatter(\n",
        "x = k_array,\n",
        "y = exp(loss_list_BIM),\n",
        "mode='lines',\n",
        "name = 'Benefit IM'\n",
        ")\n",
        "trace9 = go.Scatter(\n",
        "x = k_array,\n",
        "y = exp(loss_list_HSFLA),\n",
        "mode='lines',\n",
        "name = 'HSFLA IM'\n",
        ")\n",
        "layout = go.Layout(\n",
        "title = \"Cummulative Exponential Negative Influence Score vs Seed Size\",\n",
        "xaxis = {'title' : \"Seed(k)\"},\n",
        "yaxis = {'title' : \"Exponential Negative Influence Score\"}\n",
        ")\n",
        "fig = go.Figure(data=[trace1, trace2, trace3,trace4,trace5,trace6,trace9,trace7,trace8], layout=layout)\n",
        "fig.show()"
      ],
      "execution_count": null,
      "outputs": [
        {
          "output_type": "display_data",
          "data": {
            "text/html": [
              "<html>\n",
              "<head><meta charset=\"utf-8\" /></head>\n",
              "<body>\n",
              "    <div>\n",
              "            <script src=\"https://cdnjs.cloudflare.com/ajax/libs/mathjax/2.7.5/MathJax.js?config=TeX-AMS-MML_SVG\"></script><script type=\"text/javascript\">if (window.MathJax) {MathJax.Hub.Config({SVG: {font: \"STIX-Web\"}});}</script>\n",
              "                <script type=\"text/javascript\">window.PlotlyConfig = {MathJaxConfig: 'local'};</script>\n",
              "        <script src=\"https://cdn.plot.ly/plotly-latest.min.js\"></script>    \n",
              "            <div id=\"4f76f7f7-82d4-4930-9414-b359489cf057\" class=\"plotly-graph-div\" style=\"height:525px; width:100%;\"></div>\n",
              "            <script type=\"text/javascript\">\n",
              "                \n",
              "                    window.PLOTLYENV=window.PLOTLYENV || {};\n",
              "                    \n",
              "                if (document.getElementById(\"4f76f7f7-82d4-4930-9414-b359489cf057\")) {\n",
              "                    Plotly.newPlot(\n",
              "                        '4f76f7f7-82d4-4930-9414-b359489cf057',\n",
              "                        [{\"mode\": \"lines\", \"name\": \"Game Theory IM\", \"type\": \"scatter\", \"x\": [1, 2, 3, 4, 5, 6, 7, 8, 9, 10, 11, 12, 13, 14, 15, 16, 17, 18, 19, 20], \"y\": [1.0000000326026108, 1.0000000527075548, 1.0000000527075548, 1.0000000527075548, 1.0000000527075548, 1.0000000527075548, 1.0000000527075548, 1.0000000527075548, 1.0000000975361514, 1.0000000975361514, 1.0000001715440978, 1.0000001715440978, 1.0000001715440978, 1.0000001715440978, 1.0000001715440978, 1.0000001715440978, 1.0000002080590429, 1.0000002080590429, 1.0000002080590429, 1.0000002080590429]}, {\"mode\": \"lines\", \"name\": \"Degree Discount\", \"type\": \"scatter\", \"x\": [1, 2, 3, 4, 5, 6, 7, 8, 9, 10, 11, 12, 13, 14, 15, 16, 17, 18, 19, 20], \"y\": [1.0000023098790645, 1.0000023424817637, 1.0000036387327134, 1.0000050761677608, 1.0000064125681483, 1.0000071528825758, 1.0000083308114105, 1.0000095004930776, 1.0000106701761127, 1.000010731034982, 1.0000109992270978, 1.0000110799194921, 1.0000112832535493, 1.0000113674416968, 1.0000114030876233, 1.0000119857929994, 1.0000119857929994, 1.000012030948164, 1.000012030948164, 1.000012030948164]}, {\"mode\": \"lines\", \"name\": \"Single Degree Discount\", \"type\": \"scatter\", \"x\": [1, 2, 3, 4, 5, 6, 7, 8, 9, 10, 11, 12, 13, 14, 15, 16, 17, 18, 19, 20], \"y\": [1.0000023098790645, 1.0000023424817637, 1.0000036387327134, 1.0000050761677608, 1.0000064125681483, 1.0000071528825758, 1.0000083308114105, 1.0000095004930776, 1.0000106701761127, 1.000010731034982, 1.0000109992270978, 1.0000110799194921, 1.0000112832535493, 1.0000113674416968, 1.0000114030876233, 1.0000119857929994, 1.0000119857929994, 1.000012030948164, 1.000012030948164, 1.000012030948164]}, {\"mode\": \"lines\", \"name\": \"Neighbour Remove\", \"type\": \"scatter\", \"x\": [1, 2, 3, 4, 5, 6, 7, 8, 9, 10, 11, 12, 13, 14, 15, 16, 17, 18, 19, 20], \"y\": [1.0000023098790645, 1.000003606129972, 1.0000050435649723, 1.0000063799653165, 1.0000071202797198, 1.000008298208516, 1.000009467890145, 1.0000106375731421, 1.0000112202780722, 1.0000122929028537, 1.000013313502113, 1.0000142616639118, 1.0000152574569345, 1.000016196691208, 1.0000169885984944, 1.000017968017191, 1.0000187757638643, 1.0000195185389777, 1.000020817865938, 1.000021750611149]}, {\"mode\": \"lines\", \"name\": \"Degree Decrease\", \"type\": \"scatter\", \"x\": [1, 2, 3, 4, 5, 6, 7, 8, 9, 10, 11, 12, 13, 14, 15, 16, 17, 18, 19, 20], \"y\": [1.0000023098790645, 1.000003606129972, 1.0000050435649723, 1.0000063799653165, 1.0000071202797198, 1.000008298208516, 1.000009467890145, 1.0000106375731421, 1.0000112202780722, 1.0000122929028537, 1.000013313502113, 1.0000142616639118, 1.0000152574569345, 1.000016196691208, 1.0000169885984944, 1.000017968017191, 1.0000187757638643, 1.0000195185389777, 1.000020817865938, 1.000021750611149]}, {\"mode\": \"lines\", \"name\": \"RIS IM\", \"type\": \"scatter\", \"x\": [1, 2, 3, 4, 5, 6, 7, 8, 9, 10, 11, 12, 13, 14, 15, 16, 17, 18, 19, 20], \"y\": [1.0000000326026108, 1.0000000634664434, 1.0000000634664434, 1.0000001068007551, 1.0000001220153083, 1.0000002172149847, 1.0000003029689406, 1.0000003306811782, 1.0000004278624033, 1.0000005276627326, 1.0000005784685175, 1.0000006645394852, 1.0000009268821544, 1.000001022733968, 1.000001189659584, 1.000001262363528, 1.000001504683184, 1.000001516909186, 1.0000017350212882, 1.0000021404715527]}, {\"mode\": \"lines\", \"name\": \"HSFLA IM\", \"type\": \"scatter\", \"x\": [1, 2, 3, 4, 5, 6, 7, 8, 9, 10, 11, 12, 13, 14, 15, 16, 17, 18, 19, 20], \"y\": [1.0, 1.0, 1.0000000134757456, 1.0000000354825083, 1.0000000685198218, 1.0000000685198218, 1.0000000685198218, 1.0000000685198218, 1.0000000854731872, 1.0000000854731872, 1.0000001567642374, 1.0000001567642374, 1.0000001567642374, 1.0000001567642374, 1.000000170457336, 1.0000002213174246, 1.0000002213174246, 1.0000002213174246, 1.0000002213174246, 1.0000002795674365]}, {\"mode\": \"lines\", \"name\": \"Marginal IM\", \"type\": \"scatter\", \"x\": [1, 2, 3, 4, 5, 6, 7, 8, 9, 10, 11, 12, 13, 14, 15, 16, 17, 18, 19, 20], \"y\": [1.0000000643358729, 1.0000000965038922, 1.0000002251757028, 1.0000002251757536, 1.0000003699315136, 1.0000004020996989, 1.000000402099721, 1.0000004020997721, 1.000000434267824, 1.0000004342679052, 1.0000006722492214, 1.00000067224928, 1.000000672249337, 1.0000006722494008, 1.0000006722494672, 1.000000768753354, 1.000000768753367, 1.000000768753444, 1.000000768753457, 1.0000009617612429]}, {\"mode\": \"lines\", \"name\": \"Benefit IM\", \"type\": \"scatter\", \"x\": [1, 2, 3, 4, 5, 6, 7, 8, 9, 10, 11, 12, 13, 14, 15, 16, 17, 18, 19, 20], \"y\": [1.000002261559388, 1.0000023258954063, 1.0000031056204801, 1.0000038989249893, 1.0000040275972892, 1.0000041723535995, 1.0000054716606204, 1.0000057096431354, 1.0000057418113362, 1.0000070068638565, 1.0000082681775921, 1.0000093511943946, 1.000009875543975, 1.0000113517720004, 1.000012521735379, 1.0000136660469416, 1.0000138805571641, 1.0000148687590475, 1.0000149009276993, 1.0000171348670013]}],\n",
              "                        {\"template\": {\"data\": {\"bar\": [{\"error_x\": {\"color\": \"#2a3f5f\"}, \"error_y\": {\"color\": \"#2a3f5f\"}, \"marker\": {\"line\": {\"color\": \"#E5ECF6\", \"width\": 0.5}}, \"type\": \"bar\"}], \"barpolar\": [{\"marker\": {\"line\": {\"color\": \"#E5ECF6\", \"width\": 0.5}}, \"type\": \"barpolar\"}], \"carpet\": [{\"aaxis\": {\"endlinecolor\": \"#2a3f5f\", \"gridcolor\": \"white\", \"linecolor\": \"white\", \"minorgridcolor\": \"white\", \"startlinecolor\": \"#2a3f5f\"}, \"baxis\": {\"endlinecolor\": \"#2a3f5f\", \"gridcolor\": \"white\", \"linecolor\": \"white\", \"minorgridcolor\": \"white\", \"startlinecolor\": \"#2a3f5f\"}, \"type\": \"carpet\"}], \"choropleth\": [{\"colorbar\": {\"outlinewidth\": 0, \"ticks\": \"\"}, \"type\": \"choropleth\"}], \"contour\": [{\"colorbar\": {\"outlinewidth\": 0, \"ticks\": \"\"}, \"colorscale\": [[0.0, \"#0d0887\"], [0.1111111111111111, \"#46039f\"], [0.2222222222222222, \"#7201a8\"], [0.3333333333333333, \"#9c179e\"], [0.4444444444444444, \"#bd3786\"], [0.5555555555555556, \"#d8576b\"], [0.6666666666666666, \"#ed7953\"], [0.7777777777777778, \"#fb9f3a\"], [0.8888888888888888, \"#fdca26\"], [1.0, \"#f0f921\"]], \"type\": \"contour\"}], \"contourcarpet\": [{\"colorbar\": {\"outlinewidth\": 0, \"ticks\": \"\"}, \"type\": \"contourcarpet\"}], \"heatmap\": [{\"colorbar\": {\"outlinewidth\": 0, \"ticks\": \"\"}, \"colorscale\": [[0.0, \"#0d0887\"], [0.1111111111111111, \"#46039f\"], [0.2222222222222222, \"#7201a8\"], [0.3333333333333333, \"#9c179e\"], [0.4444444444444444, \"#bd3786\"], [0.5555555555555556, \"#d8576b\"], [0.6666666666666666, \"#ed7953\"], [0.7777777777777778, \"#fb9f3a\"], [0.8888888888888888, \"#fdca26\"], [1.0, \"#f0f921\"]], \"type\": \"heatmap\"}], \"heatmapgl\": [{\"colorbar\": {\"outlinewidth\": 0, \"ticks\": \"\"}, \"colorscale\": [[0.0, \"#0d0887\"], [0.1111111111111111, \"#46039f\"], [0.2222222222222222, \"#7201a8\"], [0.3333333333333333, \"#9c179e\"], [0.4444444444444444, \"#bd3786\"], [0.5555555555555556, \"#d8576b\"], [0.6666666666666666, \"#ed7953\"], [0.7777777777777778, \"#fb9f3a\"], [0.8888888888888888, \"#fdca26\"], [1.0, \"#f0f921\"]], \"type\": \"heatmapgl\"}], \"histogram\": [{\"marker\": {\"colorbar\": {\"outlinewidth\": 0, \"ticks\": \"\"}}, \"type\": \"histogram\"}], \"histogram2d\": [{\"colorbar\": {\"outlinewidth\": 0, \"ticks\": \"\"}, \"colorscale\": [[0.0, \"#0d0887\"], [0.1111111111111111, \"#46039f\"], [0.2222222222222222, \"#7201a8\"], [0.3333333333333333, \"#9c179e\"], [0.4444444444444444, \"#bd3786\"], [0.5555555555555556, \"#d8576b\"], [0.6666666666666666, \"#ed7953\"], [0.7777777777777778, \"#fb9f3a\"], [0.8888888888888888, \"#fdca26\"], [1.0, \"#f0f921\"]], \"type\": \"histogram2d\"}], \"histogram2dcontour\": [{\"colorbar\": {\"outlinewidth\": 0, \"ticks\": \"\"}, \"colorscale\": [[0.0, \"#0d0887\"], [0.1111111111111111, \"#46039f\"], [0.2222222222222222, \"#7201a8\"], [0.3333333333333333, \"#9c179e\"], [0.4444444444444444, \"#bd3786\"], [0.5555555555555556, \"#d8576b\"], [0.6666666666666666, \"#ed7953\"], [0.7777777777777778, \"#fb9f3a\"], [0.8888888888888888, \"#fdca26\"], [1.0, \"#f0f921\"]], \"type\": \"histogram2dcontour\"}], \"mesh3d\": [{\"colorbar\": {\"outlinewidth\": 0, \"ticks\": \"\"}, \"type\": \"mesh3d\"}], \"parcoords\": [{\"line\": {\"colorbar\": {\"outlinewidth\": 0, \"ticks\": \"\"}}, \"type\": \"parcoords\"}], \"pie\": [{\"automargin\": true, \"type\": \"pie\"}], \"scatter\": [{\"marker\": {\"colorbar\": {\"outlinewidth\": 0, \"ticks\": \"\"}}, \"type\": \"scatter\"}], \"scatter3d\": [{\"line\": {\"colorbar\": {\"outlinewidth\": 0, \"ticks\": \"\"}}, \"marker\": {\"colorbar\": {\"outlinewidth\": 0, \"ticks\": \"\"}}, \"type\": \"scatter3d\"}], \"scattercarpet\": [{\"marker\": {\"colorbar\": {\"outlinewidth\": 0, \"ticks\": \"\"}}, \"type\": \"scattercarpet\"}], \"scattergeo\": [{\"marker\": {\"colorbar\": {\"outlinewidth\": 0, \"ticks\": \"\"}}, \"type\": \"scattergeo\"}], \"scattergl\": [{\"marker\": {\"colorbar\": {\"outlinewidth\": 0, \"ticks\": \"\"}}, \"type\": \"scattergl\"}], \"scattermapbox\": [{\"marker\": {\"colorbar\": {\"outlinewidth\": 0, \"ticks\": \"\"}}, \"type\": \"scattermapbox\"}], \"scatterpolar\": [{\"marker\": {\"colorbar\": {\"outlinewidth\": 0, \"ticks\": \"\"}}, \"type\": \"scatterpolar\"}], \"scatterpolargl\": [{\"marker\": {\"colorbar\": {\"outlinewidth\": 0, \"ticks\": \"\"}}, \"type\": \"scatterpolargl\"}], \"scatterternary\": [{\"marker\": {\"colorbar\": {\"outlinewidth\": 0, \"ticks\": \"\"}}, \"type\": \"scatterternary\"}], \"surface\": [{\"colorbar\": {\"outlinewidth\": 0, \"ticks\": \"\"}, \"colorscale\": [[0.0, \"#0d0887\"], [0.1111111111111111, \"#46039f\"], [0.2222222222222222, \"#7201a8\"], [0.3333333333333333, \"#9c179e\"], [0.4444444444444444, \"#bd3786\"], [0.5555555555555556, \"#d8576b\"], [0.6666666666666666, \"#ed7953\"], [0.7777777777777778, \"#fb9f3a\"], [0.8888888888888888, \"#fdca26\"], [1.0, \"#f0f921\"]], \"type\": \"surface\"}], \"table\": [{\"cells\": {\"fill\": {\"color\": \"#EBF0F8\"}, \"line\": {\"color\": \"white\"}}, \"header\": {\"fill\": {\"color\": \"#C8D4E3\"}, \"line\": {\"color\": \"white\"}}, \"type\": \"table\"}]}, \"layout\": {\"annotationdefaults\": {\"arrowcolor\": \"#2a3f5f\", \"arrowhead\": 0, \"arrowwidth\": 1}, \"coloraxis\": {\"colorbar\": {\"outlinewidth\": 0, \"ticks\": \"\"}}, \"colorscale\": {\"diverging\": [[0, \"#8e0152\"], [0.1, \"#c51b7d\"], [0.2, \"#de77ae\"], [0.3, \"#f1b6da\"], [0.4, \"#fde0ef\"], [0.5, \"#f7f7f7\"], [0.6, \"#e6f5d0\"], [0.7, \"#b8e186\"], [0.8, \"#7fbc41\"], [0.9, \"#4d9221\"], [1, \"#276419\"]], \"sequential\": [[0.0, \"#0d0887\"], [0.1111111111111111, \"#46039f\"], [0.2222222222222222, \"#7201a8\"], [0.3333333333333333, \"#9c179e\"], [0.4444444444444444, \"#bd3786\"], [0.5555555555555556, \"#d8576b\"], [0.6666666666666666, \"#ed7953\"], [0.7777777777777778, \"#fb9f3a\"], [0.8888888888888888, \"#fdca26\"], [1.0, \"#f0f921\"]], \"sequentialminus\": [[0.0, \"#0d0887\"], [0.1111111111111111, \"#46039f\"], [0.2222222222222222, \"#7201a8\"], [0.3333333333333333, \"#9c179e\"], [0.4444444444444444, \"#bd3786\"], [0.5555555555555556, \"#d8576b\"], [0.6666666666666666, \"#ed7953\"], [0.7777777777777778, \"#fb9f3a\"], [0.8888888888888888, \"#fdca26\"], [1.0, \"#f0f921\"]]}, \"colorway\": [\"#636efa\", \"#EF553B\", \"#00cc96\", \"#ab63fa\", \"#FFA15A\", \"#19d3f3\", \"#FF6692\", \"#B6E880\", \"#FF97FF\", \"#FECB52\"], \"font\": {\"color\": \"#2a3f5f\"}, \"geo\": {\"bgcolor\": \"white\", \"lakecolor\": \"white\", \"landcolor\": \"#E5ECF6\", \"showlakes\": true, \"showland\": true, \"subunitcolor\": \"white\"}, \"hoverlabel\": {\"align\": \"left\"}, \"hovermode\": \"closest\", \"mapbox\": {\"style\": \"light\"}, \"paper_bgcolor\": \"white\", \"plot_bgcolor\": \"#E5ECF6\", \"polar\": {\"angularaxis\": {\"gridcolor\": \"white\", \"linecolor\": \"white\", \"ticks\": \"\"}, \"bgcolor\": \"#E5ECF6\", \"radialaxis\": {\"gridcolor\": \"white\", \"linecolor\": \"white\", \"ticks\": \"\"}}, \"scene\": {\"xaxis\": {\"backgroundcolor\": \"#E5ECF6\", \"gridcolor\": \"white\", \"gridwidth\": 2, \"linecolor\": \"white\", \"showbackground\": true, \"ticks\": \"\", \"zerolinecolor\": \"white\"}, \"yaxis\": {\"backgroundcolor\": \"#E5ECF6\", \"gridcolor\": \"white\", \"gridwidth\": 2, \"linecolor\": \"white\", \"showbackground\": true, \"ticks\": \"\", \"zerolinecolor\": \"white\"}, \"zaxis\": {\"backgroundcolor\": \"#E5ECF6\", \"gridcolor\": \"white\", \"gridwidth\": 2, \"linecolor\": \"white\", \"showbackground\": true, \"ticks\": \"\", \"zerolinecolor\": \"white\"}}, \"shapedefaults\": {\"line\": {\"color\": \"#2a3f5f\"}}, \"ternary\": {\"aaxis\": {\"gridcolor\": \"white\", \"linecolor\": \"white\", \"ticks\": \"\"}, \"baxis\": {\"gridcolor\": \"white\", \"linecolor\": \"white\", \"ticks\": \"\"}, \"bgcolor\": \"#E5ECF6\", \"caxis\": {\"gridcolor\": \"white\", \"linecolor\": \"white\", \"ticks\": \"\"}}, \"title\": {\"x\": 0.05}, \"xaxis\": {\"automargin\": true, \"gridcolor\": \"white\", \"linecolor\": \"white\", \"ticks\": \"\", \"title\": {\"standoff\": 15}, \"zerolinecolor\": \"white\", \"zerolinewidth\": 2}, \"yaxis\": {\"automargin\": true, \"gridcolor\": \"white\", \"linecolor\": \"white\", \"ticks\": \"\", \"title\": {\"standoff\": 15}, \"zerolinecolor\": \"white\", \"zerolinewidth\": 2}}}, \"title\": {\"text\": \"Cummulative Exponential Negative Influence Score vs Seed Size\"}, \"xaxis\": {\"title\": {\"text\": \"Seed(k)\"}}, \"yaxis\": {\"title\": {\"text\": \"Exponential Negative Influence Score\"}}},\n",
              "                        {\"responsive\": true}\n",
              "                    ).then(function(){\n",
              "                            \n",
              "var gd = document.getElementById('4f76f7f7-82d4-4930-9414-b359489cf057');\n",
              "var x = new MutationObserver(function (mutations, observer) {{\n",
              "        var display = window.getComputedStyle(gd).display;\n",
              "        if (!display || display === 'none') {{\n",
              "            console.log([gd, 'removed!']);\n",
              "            Plotly.purge(gd);\n",
              "            observer.disconnect();\n",
              "        }}\n",
              "}});\n",
              "\n",
              "// Listen for the removal of the full notebook cells\n",
              "var notebookContainer = gd.closest('#notebook-container');\n",
              "if (notebookContainer) {{\n",
              "    x.observe(notebookContainer, {childList: true});\n",
              "}}\n",
              "\n",
              "// Listen for the clearing of the current output cell\n",
              "var outputEl = gd.closest('.output');\n",
              "if (outputEl) {{\n",
              "    x.observe(outputEl, {childList: true});\n",
              "}}\n",
              "\n",
              "                        })\n",
              "                };\n",
              "                \n",
              "            </script>\n",
              "        </div>\n",
              "</body>\n",
              "</html>"
            ]
          },
          "metadata": {
            "tags": []
          }
        }
      ]
    },
    {
      "cell_type": "code",
      "metadata": {
        "colab": {
          "base_uri": "https://localhost:8080/",
          "height": 542
        },
        "id": "fneLV67an4Km",
        "outputId": "48900f17-0507-45a6-fde7-2ad8d012699a"
      },
      "source": [
        "trace1 = go.Scatter(\n",
        "x = k_array,\n",
        "y = (loss_list_game_theory),\n",
        "mode = 'lines',\n",
        "name = 'Game Theory IM'\n",
        ")\n",
        "trace2 = go.Scatter(\n",
        "x = k_array,\n",
        "y = (loss_list_deg_discount),\n",
        "mode = 'lines',\n",
        "name = 'Degree Discount'\n",
        ")\n",
        "trace3 = go.Scatter(\n",
        "x = k_array,\n",
        "y = (loss_list_sin_deg_discount),\n",
        "mode='lines',\n",
        "name = 'Single Degree Discount'\n",
        ")\n",
        "trace4 = go.Scatter(\n",
        "x = k_array,\n",
        "y = (loss_list_neighbour_remove),\n",
        "mode='lines',\n",
        "name = 'Neighbour Remove'\n",
        ")\n",
        "trace5 = go.Scatter(\n",
        "x = k_array,\n",
        "y = (loss_list_deg_decrease),\n",
        "mode='lines',\n",
        "name = 'Degree Decrease'\n",
        ")\n",
        "trace6 = go.Scatter(\n",
        "x = k_array,\n",
        "y = (loss_list_RIS),\n",
        "mode='lines',\n",
        "name = 'RIS IM'\n",
        ")\n",
        "trace7 = go.Scatter(\n",
        "x = k_array,\n",
        "y = (loss_list_MIM),\n",
        "mode='lines',\n",
        "name = 'Marginal IM'\n",
        ")\n",
        "trace8 = go.Scatter(\n",
        "x = k_array,\n",
        "y = (loss_list_BIM),\n",
        "mode='lines',\n",
        "name = 'Benefit IM'\n",
        ")\n",
        "trace9 = go.Scatter(\n",
        "x = k_array,\n",
        "y = (loss_list_HSFLA),\n",
        "mode='lines',\n",
        "name = 'HSFLA IM'\n",
        ")\n",
        "layout = go.Layout(\n",
        "title = \"Cummulative Negative Influence Score vs Seed Size\",\n",
        "xaxis = {'title' : \"Seed(k)\"},\n",
        "yaxis = {'title' : \"Negative Influence Score\"}\n",
        ")\n",
        "fig = go.Figure(data=[trace1, trace2, trace3,trace4,trace5,trace6,trace9,trace7,trace8], layout=layout)\n",
        "fig.show()"
      ],
      "execution_count": null,
      "outputs": [
        {
          "output_type": "display_data",
          "data": {
            "text/html": [
              "<html>\n",
              "<head><meta charset=\"utf-8\" /></head>\n",
              "<body>\n",
              "    <div>\n",
              "            <script src=\"https://cdnjs.cloudflare.com/ajax/libs/mathjax/2.7.5/MathJax.js?config=TeX-AMS-MML_SVG\"></script><script type=\"text/javascript\">if (window.MathJax) {MathJax.Hub.Config({SVG: {font: \"STIX-Web\"}});}</script>\n",
              "                <script type=\"text/javascript\">window.PlotlyConfig = {MathJaxConfig: 'local'};</script>\n",
              "        <script src=\"https://cdn.plot.ly/plotly-latest.min.js\"></script>    \n",
              "            <div id=\"200156f4-1131-4d83-a09f-5906995feeac\" class=\"plotly-graph-div\" style=\"height:525px; width:100%;\"></div>\n",
              "            <script type=\"text/javascript\">\n",
              "                \n",
              "                    window.PLOTLYENV=window.PLOTLYENV || {};\n",
              "                    \n",
              "                if (document.getElementById(\"200156f4-1131-4d83-a09f-5906995feeac\")) {\n",
              "                    Plotly.newPlot(\n",
              "                        '200156f4-1131-4d83-a09f-5906995feeac',\n",
              "                        [{\"mode\": \"lines\", \"name\": \"Game Theory IM\", \"type\": \"scatter\", \"x\": [1, 2, 3, 4, 5, 6, 7, 8, 9, 10, 11, 12, 13, 14, 15, 16, 17, 18, 19, 20], \"y\": [3.260261040429432e-08, 5.270755348694248e-08, 5.270755348694248e-08, 5.270755348694248e-08, 5.270755348694248e-08, 5.270755348694248e-08, 5.270755348694248e-08, 5.270755348694248e-08, 9.753614669593195e-08, 9.753614669593195e-08, 1.7154408312945715e-07, 1.7154408312945715e-07, 1.7154408312945715e-07, 1.7154408312945715e-07, 1.7154408312945715e-07, 1.7154408312945715e-07, 2.08059021228383e-07, 2.08059021228383e-07, 2.08059021228383e-07, 2.08059021228383e-07]}, {\"mode\": \"lines\", \"name\": \"Degree Discount\", \"type\": \"scatter\", \"x\": [1, 2, 3, 4, 5, 6, 7, 8, 9, 10, 11, 12, 13, 14, 15, 16, 17, 18, 19, 20], \"y\": [2.3098763968026146e-06, 2.342479020105227e-06, 3.6387260931390236e-06, 5.076154876998344e-06, 6.412547587908446e-06, 7.152856993996121e-06, 8.33077670946009e-06, 9.500447948119045e-06, 1.0670119186778e-05, 1.0730977404904454e-05, 1.0999166606814796e-05, 1.1079858110328735e-05, 1.1283189893915654e-05, 1.1367377087941088e-05, 1.1403022608649782e-05, 1.1985721170459328e-05, 1.1985721170459328e-05, 1.2030875792576401e-05, 1.2030875792576401e-05, 1.2030875792576401e-05]}, {\"mode\": \"lines\", \"name\": \"Single Degree Discount\", \"type\": \"scatter\", \"x\": [1, 2, 3, 4, 5, 6, 7, 8, 9, 10, 11, 12, 13, 14, 15, 16, 17, 18, 19, 20], \"y\": [2.3098763968026146e-06, 2.342479020105227e-06, 3.6387260931390236e-06, 5.076154876998344e-06, 6.412547587908446e-06, 7.152856993996121e-06, 8.33077670946009e-06, 9.500447948119045e-06, 1.0670119186778e-05, 1.0730977404904454e-05, 1.0999166606814796e-05, 1.1079858110328735e-05, 1.1283189893915654e-05, 1.1367377087941088e-05, 1.1403022608649782e-05, 1.1985721170459328e-05, 1.1985721170459328e-05, 1.2030875792576401e-05, 1.2030875792576401e-05, 1.2030875792576401e-05]}, {\"mode\": \"lines\", \"name\": \"Neighbour Remove\", \"type\": \"scatter\", \"x\": [1, 2, 3, 4, 5, 6, 7, 8, 9, 10, 11, 12, 13, 14, 15, 16, 17, 18, 19, 20], \"y\": [2.3098763968026146e-06, 3.6061234698364116e-06, 5.043552253695732e-06, 6.379944964605834e-06, 7.120254370693509e-06, 8.298174086157478e-06, 9.467845324816433e-06, 1.0637516563475388e-05, 1.1220215125284934e-05, 1.229282729654294e-05, 1.3313413489009389e-05, 1.4261562215319655e-05, 1.5257340540791316e-05, 1.6196560042995515e-05, 1.6988454189806774e-05, 1.7967855768219928e-05, 1.8775587601775785e-05, 1.9518348493549555e-05, 2.0817649249127636e-05, 2.1750374607881607e-05]}, {\"mode\": \"lines\", \"name\": \"Degree Decrease\", \"type\": \"scatter\", \"x\": [1, 2, 3, 4, 5, 6, 7, 8, 9, 10, 11, 12, 13, 14, 15, 16, 17, 18, 19, 20], \"y\": [2.3098763968026146e-06, 3.6061234698364116e-06, 5.043552253695732e-06, 6.379944964605834e-06, 7.120254370693509e-06, 8.298174086157478e-06, 9.467845324816433e-06, 1.0637516563475388e-05, 1.1220215125284934e-05, 1.229282729654294e-05, 1.3313413489009389e-05, 1.4261562215319655e-05, 1.5257340540791316e-05, 1.6196560042995515e-05, 1.6988454189806774e-05, 1.7967855768219928e-05, 1.8775587601775785e-05, 1.9518348493549555e-05, 2.0817649249127636e-05, 2.1750374607881607e-05]}, {\"mode\": \"lines\", \"name\": \"RIS IM\", \"type\": \"scatter\", \"x\": [1, 2, 3, 4, 5, 6, 7, 8, 9, 10, 11, 12, 13, 14, 15, 16, 17, 18, 19, 20], \"y\": [3.260261040429432e-08, 6.346644140491385e-08, 6.346644140491385e-08, 1.0680074943230933e-07, 1.2201530095431335e-07, 2.1721496099795137e-07, 3.029688947430436e-07, 3.306811235022771e-07, 4.2786231167988533e-07, 5.276625934888748e-07, 5.784683501967913e-07, 6.645392643651725e-07, 9.268817248558194e-07, 1.0227334449110275e-06, 1.1896588762204028e-06, 1.2623627312478414e-06, 1.5046820520336673e-06, 1.5169080354577534e-06, 1.735019783136775e-06, 2.1404692617962684e-06]}, {\"mode\": \"lines\", \"name\": \"HSFLA IM\", \"type\": \"scatter\", \"x\": [1, 2, 3, 4, 5, 6, 7, 8, 9, 10, 11, 12, 13, 14, 15, 16, 17, 18, 19, 20], \"y\": [0.0, 0.0, 1.3475745633774983e-08, 3.548250765667365e-08, 6.851981953302522e-08, 6.851981953302522e-08, 6.851981953302522e-08, 6.851981953302522e-08, 8.547318365038365e-08, 8.547318365038365e-08, 1.567642250677739e-07, 1.567642250677739e-07, 1.567642250677739e-07, 1.567642250677739e-07, 1.7045732143757751e-07, 2.2131740020342446e-07, 2.2131740020342446e-07, 2.2131740020342446e-07, 2.2131740020342446e-07, 2.79567397459097e-07]}, {\"mode\": \"lines\", \"name\": \"Marginal IM\", \"type\": \"scatter\", \"x\": [1, 2, 3, 4, 5, 6, 7, 8, 9, 10, 11, 12, 13, 14, 15, 16, 17, 18, 19, 20], \"y\": [6.43358707577904e-08, 9.65038875201288e-08, 2.2517567729817754e-07, 2.2517572820362126e-07, 3.6993144517506115e-07, 4.020996180430529e-07, 4.0209964031418427e-07, 4.020996912196028e-07, 4.3426772973715367e-07, 4.3426781099676797e-07, 6.722489954300931e-07, 6.722490539634759e-07, 6.722491112320941e-07, 6.722491748638337e-07, 6.722492411612781e-07, 7.687530586333167e-07, 7.687530714528508e-07, 7.687531486082477e-07, 7.687531614277782e-07, 9.617607803347738e-07]}, {\"mode\": \"lines\", \"name\": \"Benefit IM\", \"type\": \"scatter\", \"x\": [1, 2, 3, 4, 5, 6, 7, 8, 9, 10, 11, 12, 13, 14, 15, 16, 17, 18, 19, 20], \"y\": [2.261556830621729e-06, 2.325892701379519e-06, 3.105615657610898e-06, 3.898917388605223e-06, 4.027589178383272e-06, 4.172344895354712e-06, 5.471645650932794e-06, 5.7096268353661185e-06, 5.741794852128457e-06, 7.00683930854648e-06, 8.268143410986335e-06, 9.35115067236281e-06, 9.875495212231928e-06, 1.135170756941915e-05, 1.2521656982781605e-05, 1.3665953562102887e-05, 1.3880460830034745e-05, 1.4868648508737266e-05, 1.4900816681605258e-05, 1.7134720201022147e-05]}],\n",
              "                        {\"template\": {\"data\": {\"bar\": [{\"error_x\": {\"color\": \"#2a3f5f\"}, \"error_y\": {\"color\": \"#2a3f5f\"}, \"marker\": {\"line\": {\"color\": \"#E5ECF6\", \"width\": 0.5}}, \"type\": \"bar\"}], \"barpolar\": [{\"marker\": {\"line\": {\"color\": \"#E5ECF6\", \"width\": 0.5}}, \"type\": \"barpolar\"}], \"carpet\": [{\"aaxis\": {\"endlinecolor\": \"#2a3f5f\", \"gridcolor\": \"white\", \"linecolor\": \"white\", \"minorgridcolor\": \"white\", \"startlinecolor\": \"#2a3f5f\"}, \"baxis\": {\"endlinecolor\": \"#2a3f5f\", \"gridcolor\": \"white\", \"linecolor\": \"white\", \"minorgridcolor\": \"white\", \"startlinecolor\": \"#2a3f5f\"}, \"type\": \"carpet\"}], \"choropleth\": [{\"colorbar\": {\"outlinewidth\": 0, \"ticks\": \"\"}, \"type\": \"choropleth\"}], \"contour\": [{\"colorbar\": {\"outlinewidth\": 0, \"ticks\": \"\"}, \"colorscale\": [[0.0, \"#0d0887\"], [0.1111111111111111, \"#46039f\"], [0.2222222222222222, \"#7201a8\"], [0.3333333333333333, \"#9c179e\"], [0.4444444444444444, \"#bd3786\"], [0.5555555555555556, \"#d8576b\"], [0.6666666666666666, \"#ed7953\"], [0.7777777777777778, \"#fb9f3a\"], [0.8888888888888888, \"#fdca26\"], [1.0, \"#f0f921\"]], \"type\": \"contour\"}], \"contourcarpet\": [{\"colorbar\": {\"outlinewidth\": 0, \"ticks\": \"\"}, \"type\": \"contourcarpet\"}], \"heatmap\": [{\"colorbar\": {\"outlinewidth\": 0, \"ticks\": \"\"}, \"colorscale\": [[0.0, \"#0d0887\"], [0.1111111111111111, \"#46039f\"], [0.2222222222222222, \"#7201a8\"], [0.3333333333333333, \"#9c179e\"], [0.4444444444444444, \"#bd3786\"], [0.5555555555555556, \"#d8576b\"], [0.6666666666666666, \"#ed7953\"], [0.7777777777777778, \"#fb9f3a\"], [0.8888888888888888, \"#fdca26\"], [1.0, \"#f0f921\"]], \"type\": \"heatmap\"}], \"heatmapgl\": [{\"colorbar\": {\"outlinewidth\": 0, \"ticks\": \"\"}, \"colorscale\": [[0.0, \"#0d0887\"], [0.1111111111111111, \"#46039f\"], [0.2222222222222222, \"#7201a8\"], [0.3333333333333333, \"#9c179e\"], [0.4444444444444444, \"#bd3786\"], [0.5555555555555556, \"#d8576b\"], [0.6666666666666666, \"#ed7953\"], [0.7777777777777778, \"#fb9f3a\"], [0.8888888888888888, \"#fdca26\"], [1.0, \"#f0f921\"]], \"type\": \"heatmapgl\"}], \"histogram\": [{\"marker\": {\"colorbar\": {\"outlinewidth\": 0, \"ticks\": \"\"}}, \"type\": \"histogram\"}], \"histogram2d\": [{\"colorbar\": {\"outlinewidth\": 0, \"ticks\": \"\"}, \"colorscale\": [[0.0, \"#0d0887\"], [0.1111111111111111, \"#46039f\"], [0.2222222222222222, \"#7201a8\"], [0.3333333333333333, \"#9c179e\"], [0.4444444444444444, \"#bd3786\"], [0.5555555555555556, \"#d8576b\"], [0.6666666666666666, \"#ed7953\"], [0.7777777777777778, \"#fb9f3a\"], [0.8888888888888888, \"#fdca26\"], [1.0, \"#f0f921\"]], \"type\": \"histogram2d\"}], \"histogram2dcontour\": [{\"colorbar\": {\"outlinewidth\": 0, \"ticks\": \"\"}, \"colorscale\": [[0.0, \"#0d0887\"], [0.1111111111111111, \"#46039f\"], [0.2222222222222222, \"#7201a8\"], [0.3333333333333333, \"#9c179e\"], [0.4444444444444444, \"#bd3786\"], [0.5555555555555556, \"#d8576b\"], [0.6666666666666666, \"#ed7953\"], [0.7777777777777778, \"#fb9f3a\"], [0.8888888888888888, \"#fdca26\"], [1.0, \"#f0f921\"]], \"type\": \"histogram2dcontour\"}], \"mesh3d\": [{\"colorbar\": {\"outlinewidth\": 0, \"ticks\": \"\"}, \"type\": \"mesh3d\"}], \"parcoords\": [{\"line\": {\"colorbar\": {\"outlinewidth\": 0, \"ticks\": \"\"}}, \"type\": \"parcoords\"}], \"pie\": [{\"automargin\": true, \"type\": \"pie\"}], \"scatter\": [{\"marker\": {\"colorbar\": {\"outlinewidth\": 0, \"ticks\": \"\"}}, \"type\": \"scatter\"}], \"scatter3d\": [{\"line\": {\"colorbar\": {\"outlinewidth\": 0, \"ticks\": \"\"}}, \"marker\": {\"colorbar\": {\"outlinewidth\": 0, \"ticks\": \"\"}}, \"type\": \"scatter3d\"}], \"scattercarpet\": [{\"marker\": {\"colorbar\": {\"outlinewidth\": 0, \"ticks\": \"\"}}, \"type\": \"scattercarpet\"}], \"scattergeo\": [{\"marker\": {\"colorbar\": {\"outlinewidth\": 0, \"ticks\": \"\"}}, \"type\": \"scattergeo\"}], \"scattergl\": [{\"marker\": {\"colorbar\": {\"outlinewidth\": 0, \"ticks\": \"\"}}, \"type\": \"scattergl\"}], \"scattermapbox\": [{\"marker\": {\"colorbar\": {\"outlinewidth\": 0, \"ticks\": \"\"}}, \"type\": \"scattermapbox\"}], \"scatterpolar\": [{\"marker\": {\"colorbar\": {\"outlinewidth\": 0, \"ticks\": \"\"}}, \"type\": \"scatterpolar\"}], \"scatterpolargl\": [{\"marker\": {\"colorbar\": {\"outlinewidth\": 0, \"ticks\": \"\"}}, \"type\": \"scatterpolargl\"}], \"scatterternary\": [{\"marker\": {\"colorbar\": {\"outlinewidth\": 0, \"ticks\": \"\"}}, \"type\": \"scatterternary\"}], \"surface\": [{\"colorbar\": {\"outlinewidth\": 0, \"ticks\": \"\"}, \"colorscale\": [[0.0, \"#0d0887\"], [0.1111111111111111, \"#46039f\"], [0.2222222222222222, \"#7201a8\"], [0.3333333333333333, \"#9c179e\"], [0.4444444444444444, \"#bd3786\"], [0.5555555555555556, \"#d8576b\"], [0.6666666666666666, \"#ed7953\"], [0.7777777777777778, \"#fb9f3a\"], [0.8888888888888888, \"#fdca26\"], [1.0, \"#f0f921\"]], \"type\": \"surface\"}], \"table\": [{\"cells\": {\"fill\": {\"color\": \"#EBF0F8\"}, \"line\": {\"color\": \"white\"}}, \"header\": {\"fill\": {\"color\": \"#C8D4E3\"}, \"line\": {\"color\": \"white\"}}, \"type\": \"table\"}]}, \"layout\": {\"annotationdefaults\": {\"arrowcolor\": \"#2a3f5f\", \"arrowhead\": 0, \"arrowwidth\": 1}, \"coloraxis\": {\"colorbar\": {\"outlinewidth\": 0, \"ticks\": \"\"}}, \"colorscale\": {\"diverging\": [[0, \"#8e0152\"], [0.1, \"#c51b7d\"], [0.2, \"#de77ae\"], [0.3, \"#f1b6da\"], [0.4, \"#fde0ef\"], [0.5, \"#f7f7f7\"], [0.6, \"#e6f5d0\"], [0.7, \"#b8e186\"], [0.8, \"#7fbc41\"], [0.9, \"#4d9221\"], [1, \"#276419\"]], \"sequential\": [[0.0, \"#0d0887\"], [0.1111111111111111, \"#46039f\"], [0.2222222222222222, \"#7201a8\"], [0.3333333333333333, \"#9c179e\"], [0.4444444444444444, \"#bd3786\"], [0.5555555555555556, \"#d8576b\"], [0.6666666666666666, \"#ed7953\"], [0.7777777777777778, \"#fb9f3a\"], [0.8888888888888888, \"#fdca26\"], [1.0, \"#f0f921\"]], \"sequentialminus\": [[0.0, \"#0d0887\"], [0.1111111111111111, \"#46039f\"], [0.2222222222222222, \"#7201a8\"], [0.3333333333333333, \"#9c179e\"], [0.4444444444444444, \"#bd3786\"], [0.5555555555555556, \"#d8576b\"], [0.6666666666666666, \"#ed7953\"], [0.7777777777777778, \"#fb9f3a\"], [0.8888888888888888, \"#fdca26\"], [1.0, \"#f0f921\"]]}, \"colorway\": [\"#636efa\", \"#EF553B\", \"#00cc96\", \"#ab63fa\", \"#FFA15A\", \"#19d3f3\", \"#FF6692\", \"#B6E880\", \"#FF97FF\", \"#FECB52\"], \"font\": {\"color\": \"#2a3f5f\"}, \"geo\": {\"bgcolor\": \"white\", \"lakecolor\": \"white\", \"landcolor\": \"#E5ECF6\", \"showlakes\": true, \"showland\": true, \"subunitcolor\": \"white\"}, \"hoverlabel\": {\"align\": \"left\"}, \"hovermode\": \"closest\", \"mapbox\": {\"style\": \"light\"}, \"paper_bgcolor\": \"white\", \"plot_bgcolor\": \"#E5ECF6\", \"polar\": {\"angularaxis\": {\"gridcolor\": \"white\", \"linecolor\": \"white\", \"ticks\": \"\"}, \"bgcolor\": \"#E5ECF6\", \"radialaxis\": {\"gridcolor\": \"white\", \"linecolor\": \"white\", \"ticks\": \"\"}}, \"scene\": {\"xaxis\": {\"backgroundcolor\": \"#E5ECF6\", \"gridcolor\": \"white\", \"gridwidth\": 2, \"linecolor\": \"white\", \"showbackground\": true, \"ticks\": \"\", \"zerolinecolor\": \"white\"}, \"yaxis\": {\"backgroundcolor\": \"#E5ECF6\", \"gridcolor\": \"white\", \"gridwidth\": 2, \"linecolor\": \"white\", \"showbackground\": true, \"ticks\": \"\", \"zerolinecolor\": \"white\"}, \"zaxis\": {\"backgroundcolor\": \"#E5ECF6\", \"gridcolor\": \"white\", \"gridwidth\": 2, \"linecolor\": \"white\", \"showbackground\": true, \"ticks\": \"\", \"zerolinecolor\": \"white\"}}, \"shapedefaults\": {\"line\": {\"color\": \"#2a3f5f\"}}, \"ternary\": {\"aaxis\": {\"gridcolor\": \"white\", \"linecolor\": \"white\", \"ticks\": \"\"}, \"baxis\": {\"gridcolor\": \"white\", \"linecolor\": \"white\", \"ticks\": \"\"}, \"bgcolor\": \"#E5ECF6\", \"caxis\": {\"gridcolor\": \"white\", \"linecolor\": \"white\", \"ticks\": \"\"}}, \"title\": {\"x\": 0.05}, \"xaxis\": {\"automargin\": true, \"gridcolor\": \"white\", \"linecolor\": \"white\", \"ticks\": \"\", \"title\": {\"standoff\": 15}, \"zerolinecolor\": \"white\", \"zerolinewidth\": 2}, \"yaxis\": {\"automargin\": true, \"gridcolor\": \"white\", \"linecolor\": \"white\", \"ticks\": \"\", \"title\": {\"standoff\": 15}, \"zerolinecolor\": \"white\", \"zerolinewidth\": 2}}}, \"title\": {\"text\": \"Cummulative Negative Influence Score vs Seed Size\"}, \"xaxis\": {\"title\": {\"text\": \"Seed(k)\"}}, \"yaxis\": {\"title\": {\"text\": \"Negative Influence Score\"}}},\n",
              "                        {\"responsive\": true}\n",
              "                    ).then(function(){\n",
              "                            \n",
              "var gd = document.getElementById('200156f4-1131-4d83-a09f-5906995feeac');\n",
              "var x = new MutationObserver(function (mutations, observer) {{\n",
              "        var display = window.getComputedStyle(gd).display;\n",
              "        if (!display || display === 'none') {{\n",
              "            console.log([gd, 'removed!']);\n",
              "            Plotly.purge(gd);\n",
              "            observer.disconnect();\n",
              "        }}\n",
              "}});\n",
              "\n",
              "// Listen for the removal of the full notebook cells\n",
              "var notebookContainer = gd.closest('#notebook-container');\n",
              "if (notebookContainer) {{\n",
              "    x.observe(notebookContainer, {childList: true});\n",
              "}}\n",
              "\n",
              "// Listen for the clearing of the current output cell\n",
              "var outputEl = gd.closest('.output');\n",
              "if (outputEl) {{\n",
              "    x.observe(outputEl, {childList: true});\n",
              "}}\n",
              "\n",
              "                        })\n",
              "                };\n",
              "                \n",
              "            </script>\n",
              "        </div>\n",
              "</body>\n",
              "</html>"
            ]
          },
          "metadata": {
            "tags": []
          }
        }
      ]
    },
    {
      "cell_type": "code",
      "metadata": {
        "colab": {
          "base_uri": "https://localhost:8080/",
          "height": 542
        },
        "id": "DTjRFRP93ZfQ",
        "outputId": "adb6202a-f056-46c0-9cc2-30bcae9edf7f"
      },
      "source": [
        "import plotly.express as px\n",
        "fig = px.bar(x=['Game Theory IM', 'Degree Discount', 'Single Degree Discount', \n",
        "           'Neighbor Remove', 'Degree Decrease', 'RIS IM', 'HSFLA IM', 'Marginal/Benefit IM'],\n",
        "        y=[784.0, 12.781, 30.06, 15.342, 18.466, 665.3239, 3000, 67.531],\n",
        "        title=\"Running time of algorithms on US Patent Dataset\")\n",
        "fig.update_xaxes(type='category')\n",
        "fig.show()"
      ],
      "execution_count": null,
      "outputs": [
        {
          "output_type": "display_data",
          "data": {
            "text/html": [
              "<html>\n",
              "<head><meta charset=\"utf-8\" /></head>\n",
              "<body>\n",
              "    <div>\n",
              "            <script src=\"https://cdnjs.cloudflare.com/ajax/libs/mathjax/2.7.5/MathJax.js?config=TeX-AMS-MML_SVG\"></script><script type=\"text/javascript\">if (window.MathJax) {MathJax.Hub.Config({SVG: {font: \"STIX-Web\"}});}</script>\n",
              "                <script type=\"text/javascript\">window.PlotlyConfig = {MathJaxConfig: 'local'};</script>\n",
              "        <script src=\"https://cdn.plot.ly/plotly-latest.min.js\"></script>    \n",
              "            <div id=\"aa2abb9c-bb2f-4845-9f0b-cbaea30f510d\" class=\"plotly-graph-div\" style=\"height:525px; width:100%;\"></div>\n",
              "            <script type=\"text/javascript\">\n",
              "                \n",
              "                    window.PLOTLYENV=window.PLOTLYENV || {};\n",
              "                    \n",
              "                if (document.getElementById(\"aa2abb9c-bb2f-4845-9f0b-cbaea30f510d\")) {\n",
              "                    Plotly.newPlot(\n",
              "                        'aa2abb9c-bb2f-4845-9f0b-cbaea30f510d',\n",
              "                        [{\"alignmentgroup\": \"True\", \"hoverlabel\": {\"namelength\": 0}, \"hovertemplate\": \"x=%{x}<br>y=%{y}\", \"legendgroup\": \"\", \"marker\": {\"color\": \"#636efa\"}, \"name\": \"\", \"offsetgroup\": \"\", \"orientation\": \"v\", \"showlegend\": false, \"textposition\": \"auto\", \"type\": \"bar\", \"x\": [\"Game Theory IM\", \"Degree Discount\", \"Single Degree Discount\", \"Neighbor Remove\", \"Degree Decrease\", \"RIS IM\", \"HSFLA IM\", \"Marginal/Benefit IM\"], \"xaxis\": \"x\", \"y\": [784.0, 12.781, 30.06, 15.342, 18.466, 665.3239, 3000.0, 67.531], \"yaxis\": \"y\"}],\n",
              "                        {\"barmode\": \"relative\", \"legend\": {\"tracegroupgap\": 0}, \"template\": {\"data\": {\"bar\": [{\"error_x\": {\"color\": \"#2a3f5f\"}, \"error_y\": {\"color\": \"#2a3f5f\"}, \"marker\": {\"line\": {\"color\": \"#E5ECF6\", \"width\": 0.5}}, \"type\": \"bar\"}], \"barpolar\": [{\"marker\": {\"line\": {\"color\": \"#E5ECF6\", \"width\": 0.5}}, \"type\": \"barpolar\"}], \"carpet\": [{\"aaxis\": {\"endlinecolor\": \"#2a3f5f\", \"gridcolor\": \"white\", \"linecolor\": \"white\", \"minorgridcolor\": \"white\", \"startlinecolor\": \"#2a3f5f\"}, \"baxis\": {\"endlinecolor\": \"#2a3f5f\", \"gridcolor\": \"white\", \"linecolor\": \"white\", \"minorgridcolor\": \"white\", \"startlinecolor\": \"#2a3f5f\"}, \"type\": \"carpet\"}], \"choropleth\": [{\"colorbar\": {\"outlinewidth\": 0, \"ticks\": \"\"}, \"type\": \"choropleth\"}], \"contour\": [{\"colorbar\": {\"outlinewidth\": 0, \"ticks\": \"\"}, \"colorscale\": [[0.0, \"#0d0887\"], [0.1111111111111111, \"#46039f\"], [0.2222222222222222, \"#7201a8\"], [0.3333333333333333, \"#9c179e\"], [0.4444444444444444, \"#bd3786\"], [0.5555555555555556, \"#d8576b\"], [0.6666666666666666, \"#ed7953\"], [0.7777777777777778, \"#fb9f3a\"], [0.8888888888888888, \"#fdca26\"], [1.0, \"#f0f921\"]], \"type\": \"contour\"}], \"contourcarpet\": [{\"colorbar\": {\"outlinewidth\": 0, \"ticks\": \"\"}, \"type\": \"contourcarpet\"}], \"heatmap\": [{\"colorbar\": {\"outlinewidth\": 0, \"ticks\": \"\"}, \"colorscale\": [[0.0, \"#0d0887\"], [0.1111111111111111, \"#46039f\"], [0.2222222222222222, \"#7201a8\"], [0.3333333333333333, \"#9c179e\"], [0.4444444444444444, \"#bd3786\"], [0.5555555555555556, \"#d8576b\"], [0.6666666666666666, \"#ed7953\"], [0.7777777777777778, \"#fb9f3a\"], [0.8888888888888888, \"#fdca26\"], [1.0, \"#f0f921\"]], \"type\": \"heatmap\"}], \"heatmapgl\": [{\"colorbar\": {\"outlinewidth\": 0, \"ticks\": \"\"}, \"colorscale\": [[0.0, \"#0d0887\"], [0.1111111111111111, \"#46039f\"], [0.2222222222222222, \"#7201a8\"], [0.3333333333333333, \"#9c179e\"], [0.4444444444444444, \"#bd3786\"], [0.5555555555555556, \"#d8576b\"], [0.6666666666666666, \"#ed7953\"], [0.7777777777777778, \"#fb9f3a\"], [0.8888888888888888, \"#fdca26\"], [1.0, \"#f0f921\"]], \"type\": \"heatmapgl\"}], \"histogram\": [{\"marker\": {\"colorbar\": {\"outlinewidth\": 0, \"ticks\": \"\"}}, \"type\": \"histogram\"}], \"histogram2d\": [{\"colorbar\": {\"outlinewidth\": 0, \"ticks\": \"\"}, \"colorscale\": [[0.0, \"#0d0887\"], [0.1111111111111111, \"#46039f\"], [0.2222222222222222, \"#7201a8\"], [0.3333333333333333, \"#9c179e\"], [0.4444444444444444, \"#bd3786\"], [0.5555555555555556, \"#d8576b\"], [0.6666666666666666, \"#ed7953\"], [0.7777777777777778, \"#fb9f3a\"], [0.8888888888888888, \"#fdca26\"], [1.0, \"#f0f921\"]], \"type\": \"histogram2d\"}], \"histogram2dcontour\": [{\"colorbar\": {\"outlinewidth\": 0, \"ticks\": \"\"}, \"colorscale\": [[0.0, \"#0d0887\"], [0.1111111111111111, \"#46039f\"], [0.2222222222222222, \"#7201a8\"], [0.3333333333333333, \"#9c179e\"], [0.4444444444444444, \"#bd3786\"], [0.5555555555555556, \"#d8576b\"], [0.6666666666666666, \"#ed7953\"], [0.7777777777777778, \"#fb9f3a\"], [0.8888888888888888, \"#fdca26\"], [1.0, \"#f0f921\"]], \"type\": \"histogram2dcontour\"}], \"mesh3d\": [{\"colorbar\": {\"outlinewidth\": 0, \"ticks\": \"\"}, \"type\": \"mesh3d\"}], \"parcoords\": [{\"line\": {\"colorbar\": {\"outlinewidth\": 0, \"ticks\": \"\"}}, \"type\": \"parcoords\"}], \"pie\": [{\"automargin\": true, \"type\": \"pie\"}], \"scatter\": [{\"marker\": {\"colorbar\": {\"outlinewidth\": 0, \"ticks\": \"\"}}, \"type\": \"scatter\"}], \"scatter3d\": [{\"line\": {\"colorbar\": {\"outlinewidth\": 0, \"ticks\": \"\"}}, \"marker\": {\"colorbar\": {\"outlinewidth\": 0, \"ticks\": \"\"}}, \"type\": \"scatter3d\"}], \"scattercarpet\": [{\"marker\": {\"colorbar\": {\"outlinewidth\": 0, \"ticks\": \"\"}}, \"type\": \"scattercarpet\"}], \"scattergeo\": [{\"marker\": {\"colorbar\": {\"outlinewidth\": 0, \"ticks\": \"\"}}, \"type\": \"scattergeo\"}], \"scattergl\": [{\"marker\": {\"colorbar\": {\"outlinewidth\": 0, \"ticks\": \"\"}}, \"type\": \"scattergl\"}], \"scattermapbox\": [{\"marker\": {\"colorbar\": {\"outlinewidth\": 0, \"ticks\": \"\"}}, \"type\": \"scattermapbox\"}], \"scatterpolar\": [{\"marker\": {\"colorbar\": {\"outlinewidth\": 0, \"ticks\": \"\"}}, \"type\": \"scatterpolar\"}], \"scatterpolargl\": [{\"marker\": {\"colorbar\": {\"outlinewidth\": 0, \"ticks\": \"\"}}, \"type\": \"scatterpolargl\"}], \"scatterternary\": [{\"marker\": {\"colorbar\": {\"outlinewidth\": 0, \"ticks\": \"\"}}, \"type\": \"scatterternary\"}], \"surface\": [{\"colorbar\": {\"outlinewidth\": 0, \"ticks\": \"\"}, \"colorscale\": [[0.0, \"#0d0887\"], [0.1111111111111111, \"#46039f\"], [0.2222222222222222, \"#7201a8\"], [0.3333333333333333, \"#9c179e\"], [0.4444444444444444, \"#bd3786\"], [0.5555555555555556, \"#d8576b\"], [0.6666666666666666, \"#ed7953\"], [0.7777777777777778, \"#fb9f3a\"], [0.8888888888888888, \"#fdca26\"], [1.0, \"#f0f921\"]], \"type\": \"surface\"}], \"table\": [{\"cells\": {\"fill\": {\"color\": \"#EBF0F8\"}, \"line\": {\"color\": \"white\"}}, \"header\": {\"fill\": {\"color\": \"#C8D4E3\"}, \"line\": {\"color\": \"white\"}}, \"type\": \"table\"}]}, \"layout\": {\"annotationdefaults\": {\"arrowcolor\": \"#2a3f5f\", \"arrowhead\": 0, \"arrowwidth\": 1}, \"coloraxis\": {\"colorbar\": {\"outlinewidth\": 0, \"ticks\": \"\"}}, \"colorscale\": {\"diverging\": [[0, \"#8e0152\"], [0.1, \"#c51b7d\"], [0.2, \"#de77ae\"], [0.3, \"#f1b6da\"], [0.4, \"#fde0ef\"], [0.5, \"#f7f7f7\"], [0.6, \"#e6f5d0\"], [0.7, \"#b8e186\"], [0.8, \"#7fbc41\"], [0.9, \"#4d9221\"], [1, \"#276419\"]], \"sequential\": [[0.0, \"#0d0887\"], [0.1111111111111111, \"#46039f\"], [0.2222222222222222, \"#7201a8\"], [0.3333333333333333, \"#9c179e\"], [0.4444444444444444, \"#bd3786\"], [0.5555555555555556, \"#d8576b\"], [0.6666666666666666, \"#ed7953\"], [0.7777777777777778, \"#fb9f3a\"], [0.8888888888888888, \"#fdca26\"], [1.0, \"#f0f921\"]], \"sequentialminus\": [[0.0, \"#0d0887\"], [0.1111111111111111, \"#46039f\"], [0.2222222222222222, \"#7201a8\"], [0.3333333333333333, \"#9c179e\"], [0.4444444444444444, \"#bd3786\"], [0.5555555555555556, \"#d8576b\"], [0.6666666666666666, \"#ed7953\"], [0.7777777777777778, \"#fb9f3a\"], [0.8888888888888888, \"#fdca26\"], [1.0, \"#f0f921\"]]}, \"colorway\": [\"#636efa\", \"#EF553B\", \"#00cc96\", \"#ab63fa\", \"#FFA15A\", \"#19d3f3\", \"#FF6692\", \"#B6E880\", \"#FF97FF\", \"#FECB52\"], \"font\": {\"color\": \"#2a3f5f\"}, \"geo\": {\"bgcolor\": \"white\", \"lakecolor\": \"white\", \"landcolor\": \"#E5ECF6\", \"showlakes\": true, \"showland\": true, \"subunitcolor\": \"white\"}, \"hoverlabel\": {\"align\": \"left\"}, \"hovermode\": \"closest\", \"mapbox\": {\"style\": \"light\"}, \"paper_bgcolor\": \"white\", \"plot_bgcolor\": \"#E5ECF6\", \"polar\": {\"angularaxis\": {\"gridcolor\": \"white\", \"linecolor\": \"white\", \"ticks\": \"\"}, \"bgcolor\": \"#E5ECF6\", \"radialaxis\": {\"gridcolor\": \"white\", \"linecolor\": \"white\", \"ticks\": \"\"}}, \"scene\": {\"xaxis\": {\"backgroundcolor\": \"#E5ECF6\", \"gridcolor\": \"white\", \"gridwidth\": 2, \"linecolor\": \"white\", \"showbackground\": true, \"ticks\": \"\", \"zerolinecolor\": \"white\"}, \"yaxis\": {\"backgroundcolor\": \"#E5ECF6\", \"gridcolor\": \"white\", \"gridwidth\": 2, \"linecolor\": \"white\", \"showbackground\": true, \"ticks\": \"\", \"zerolinecolor\": \"white\"}, \"zaxis\": {\"backgroundcolor\": \"#E5ECF6\", \"gridcolor\": \"white\", \"gridwidth\": 2, \"linecolor\": \"white\", \"showbackground\": true, \"ticks\": \"\", \"zerolinecolor\": \"white\"}}, \"shapedefaults\": {\"line\": {\"color\": \"#2a3f5f\"}}, \"ternary\": {\"aaxis\": {\"gridcolor\": \"white\", \"linecolor\": \"white\", \"ticks\": \"\"}, \"baxis\": {\"gridcolor\": \"white\", \"linecolor\": \"white\", \"ticks\": \"\"}, \"bgcolor\": \"#E5ECF6\", \"caxis\": {\"gridcolor\": \"white\", \"linecolor\": \"white\", \"ticks\": \"\"}}, \"title\": {\"x\": 0.05}, \"xaxis\": {\"automargin\": true, \"gridcolor\": \"white\", \"linecolor\": \"white\", \"ticks\": \"\", \"title\": {\"standoff\": 15}, \"zerolinecolor\": \"white\", \"zerolinewidth\": 2}, \"yaxis\": {\"automargin\": true, \"gridcolor\": \"white\", \"linecolor\": \"white\", \"ticks\": \"\", \"title\": {\"standoff\": 15}, \"zerolinecolor\": \"white\", \"zerolinewidth\": 2}}}, \"title\": {\"text\": \"Running time of algorithms on US Patent Dataset\"}, \"xaxis\": {\"anchor\": \"y\", \"domain\": [0.0, 1.0], \"title\": {\"text\": \"x\"}, \"type\": \"category\"}, \"yaxis\": {\"anchor\": \"x\", \"domain\": [0.0, 1.0], \"title\": {\"text\": \"y\"}}},\n",
              "                        {\"responsive\": true}\n",
              "                    ).then(function(){\n",
              "                            \n",
              "var gd = document.getElementById('aa2abb9c-bb2f-4845-9f0b-cbaea30f510d');\n",
              "var x = new MutationObserver(function (mutations, observer) {{\n",
              "        var display = window.getComputedStyle(gd).display;\n",
              "        if (!display || display === 'none') {{\n",
              "            console.log([gd, 'removed!']);\n",
              "            Plotly.purge(gd);\n",
              "            observer.disconnect();\n",
              "        }}\n",
              "}});\n",
              "\n",
              "// Listen for the removal of the full notebook cells\n",
              "var notebookContainer = gd.closest('#notebook-container');\n",
              "if (notebookContainer) {{\n",
              "    x.observe(notebookContainer, {childList: true});\n",
              "}}\n",
              "\n",
              "// Listen for the clearing of the current output cell\n",
              "var outputEl = gd.closest('.output');\n",
              "if (outputEl) {{\n",
              "    x.observe(outputEl, {childList: true});\n",
              "}}\n",
              "\n",
              "                        })\n",
              "                };\n",
              "                \n",
              "            </script>\n",
              "        </div>\n",
              "</body>\n",
              "</html>"
            ]
          },
          "metadata": {
            "tags": []
          }
        }
      ]
    },
    {
      "cell_type": "markdown",
      "metadata": {
        "id": "t1H9QlVbMP_p"
      },
      "source": [
        "Calculating the sum of marginal scores for the nodes obtained by our algo and IM algo"
      ]
    },
    {
      "cell_type": "code",
      "metadata": {
        "id": "vmQmcKkDMDXF",
        "colab": {
          "base_uri": "https://localhost:8080/",
          "height": 231
        },
        "outputId": "b3f1cea3-737e-4d05-d9a7-3a02a78bb9d6"
      },
      "source": [
        "tot_ms = 0\n",
        "tot_im = 0\n",
        "for i in imlist:\n",
        "  tot_im = tot_im + marginal_score[i] \n",
        "for i in top_marginal_nodes:\n",
        "  tot_ms = tot_ms + marginal_score[i]"
      ],
      "execution_count": null,
      "outputs": [
        {
          "output_type": "error",
          "ename": "IndexError",
          "evalue": "ignored",
          "traceback": [
            "\u001b[0;31m---------------------------------------------------------------------------\u001b[0m",
            "\u001b[0;31mIndexError\u001b[0m                                Traceback (most recent call last)",
            "\u001b[0;32m<ipython-input-118-5457cc70a8a4>\u001b[0m in \u001b[0;36m<module>\u001b[0;34m()\u001b[0m\n\u001b[1;32m      2\u001b[0m \u001b[0mtot_im\u001b[0m \u001b[0;34m=\u001b[0m \u001b[0;36m0\u001b[0m\u001b[0;34m\u001b[0m\u001b[0;34m\u001b[0m\u001b[0m\n\u001b[1;32m      3\u001b[0m \u001b[0;32mfor\u001b[0m \u001b[0mi\u001b[0m \u001b[0;32min\u001b[0m \u001b[0mimlist\u001b[0m\u001b[0;34m:\u001b[0m\u001b[0;34m\u001b[0m\u001b[0;34m\u001b[0m\u001b[0m\n\u001b[0;32m----> 4\u001b[0;31m   \u001b[0mtot_im\u001b[0m \u001b[0;34m=\u001b[0m \u001b[0mtot_im\u001b[0m \u001b[0;34m+\u001b[0m \u001b[0mmarginal_score\u001b[0m\u001b[0;34m[\u001b[0m\u001b[0mi\u001b[0m\u001b[0;34m]\u001b[0m\u001b[0;34m\u001b[0m\u001b[0;34m\u001b[0m\u001b[0m\n\u001b[0m\u001b[1;32m      5\u001b[0m \u001b[0;32mfor\u001b[0m \u001b[0mi\u001b[0m \u001b[0;32min\u001b[0m \u001b[0mtop_marginal_nodes\u001b[0m\u001b[0;34m:\u001b[0m\u001b[0;34m\u001b[0m\u001b[0;34m\u001b[0m\u001b[0m\n\u001b[1;32m      6\u001b[0m   \u001b[0mtot_ms\u001b[0m \u001b[0;34m=\u001b[0m \u001b[0mtot_ms\u001b[0m \u001b[0;34m+\u001b[0m \u001b[0mmarginal_score\u001b[0m\u001b[0;34m[\u001b[0m\u001b[0mi\u001b[0m\u001b[0;34m]\u001b[0m\u001b[0;34m\u001b[0m\u001b[0;34m\u001b[0m\u001b[0m\n",
            "\u001b[0;31mIndexError\u001b[0m: list index out of range"
          ]
        }
      ]
    },
    {
      "cell_type": "code",
      "metadata": {
        "id": "88TI9mPEMT32"
      },
      "source": [
        "print(tot_im)\n",
        "print(tot_ms)"
      ],
      "execution_count": null,
      "outputs": []
    },
    {
      "cell_type": "code",
      "metadata": {
        "id": "VCcSVQA2MXDT"
      },
      "source": [
        "thresh = 0.5\n",
        "matching_nodes = []\n",
        "for node in G.nodes():\n",
        "  if G.nodes[node]['Matching Score'] > thresh:\n",
        "    matching_nodes.append(node)"
      ],
      "execution_count": null,
      "outputs": []
    },
    {
      "cell_type": "markdown",
      "metadata": {
        "id": "36NwiVZ4M06B"
      },
      "source": [
        "Algo 1 --> Compute BL Score\n",
        "Returns Node  having highest B-L Score from the social Network\n"
      ]
    },
    {
      "cell_type": "code",
      "metadata": {
        "id": "4iSJyZgQMwyF"
      },
      "source": [
        "def computeBLScore(G2, alpha = opt_alpha, beta = opt_beta, lamda = opt_lambda, query = 5855020 ):\n",
        "  temp_G = G2.copy()\n",
        "  error = 1\n",
        "  threshold = 10 ** (-10)\n",
        "  k=0;\n",
        "  V = temp_G.number_of_nodes()\n",
        "  E = temp_G.number_of_edges()\n",
        "  benefit2 = [[] for _ in range(max_patent+1)]\n",
        "  loss2 = [[] for _ in range(max_patent+1)]\n",
        "  for node in G.nodes():\n",
        "    benefit2[node].append(0)\n",
        "    loss2[node].append(0)\n",
        "  while error > threshold:\n",
        "    k+=1;\n",
        "    for node in temp_G.nodes():\n",
        "      benefit2[node].append(0)\n",
        "      loss2[node].append(0);\n",
        "      neighbour_list = list(temp_G.neighbors(node))\n",
        "      for neighbour in neighbour_list:\n",
        "        benefit2[node][k] += (temp_G[node][neighbour]['weight'])*(1-lamda)*(alpha*benefit2[neighbour][k-1] + (1-alpha)*temp_G.nodes[neighbour]['Matching Score'])/E\n",
        "        loss2[node][k] += (temp_G[node][neighbour]['weight'])*(beta*loss2[neighbour][k-1] + (1-beta)*(1-temp_G.nodes[neighbour]['Matching Score']))/E\n",
        "  ## query node \n",
        "    benefit2[query][k] += lamda/V;\n",
        "    error = 0;\n",
        "    for i in temp_G.nodes():\n",
        "      error += ((benefit2[i][k]-benefit2[i][k-1])**2 + (loss2[i][k]-loss2[i][k-1])**2)\n",
        "    error = error ** 0.5\n",
        "  best_ms = -1\n",
        "  best_marginal_node = -1\n",
        "  for node in temp_G.nodes():\n",
        "    ms = benefit2[node][k] - loss2[node][k]\n",
        "    if ms > best_ms and node!= query:\n",
        "      best_ms = ms\n",
        "      best_marginal_node = node\n",
        "\n",
        "  return best_marginal_node;\n"
      ],
      "execution_count": null,
      "outputs": []
    },
    {
      "cell_type": "code",
      "metadata": {
        "id": "q5Se20gfM4i-"
      },
      "source": [
        "G2 = G.copy()"
      ],
      "execution_count": null,
      "outputs": []
    },
    {
      "cell_type": "code",
      "metadata": {
        "id": "tysNBjIg2rs8"
      },
      "source": [
        "def MSI(opt_alpha = opt_alpha, opt_beta = opt_beta, opt_lambda = opt_lambda, budget = 5):\n",
        "  msi_list = []\n",
        "  for i in range(1, budget+1):\n",
        "    x = computeBLScore(G2,opt_alpha,opt_beta,opt_lambda)\n",
        "    neighbour_list = list(G2.neighbors(x))\n",
        "    for y in neighbour_list:\n",
        "      if G2.has_edge(y,x):\n",
        "        G2.remove_edge(y,x)\n",
        "      if G2.has_edge(x,y):\n",
        "        G2.remove_edge(x,y)\n",
        "    G2.remove_node(x)\n",
        "    print(x)\n",
        "    msi_list.append(x)\n",
        "  return msi_list"
      ],
      "execution_count": null,
      "outputs": []
    },
    {
      "cell_type": "code",
      "metadata": {
        "colab": {
          "base_uri": "https://localhost:8080/"
        },
        "id": "XzADXdby2vhI",
        "outputId": "ede60516-e189-4ab6-a6a1-257f5e9499f3"
      },
      "source": [
        "opt_alpha,opt_beta,opt_lambda"
      ],
      "execution_count": null,
      "outputs": [
        {
          "output_type": "execute_result",
          "data": {
            "text/plain": [
              "(0.8453801496643429, 0.9013537521030607, 0.25)"
            ]
          },
          "metadata": {
            "tags": []
          },
          "execution_count": 76
        }
      ]
    },
    {
      "cell_type": "code",
      "metadata": {
        "colab": {
          "base_uri": "https://localhost:8080/"
        },
        "id": "t32oL9gK2xm4",
        "outputId": "6264694c-1763-41d9-ae3f-74455385e191"
      },
      "source": [
        "msi_list = []\n",
        "msi_list  = MSI()"
      ],
      "execution_count": null,
      "outputs": [
        {
          "output_type": "stream",
          "text": [
            "5015595\n",
            "4567640\n",
            "5432103\n",
            "5234847\n",
            "5413966\n"
          ],
          "name": "stdout"
        }
      ]
    },
    {
      "cell_type": "code",
      "metadata": {
        "id": "Ur9EIjR7Io39"
      },
      "source": [
        ""
      ],
      "execution_count": null,
      "outputs": []
    },
    {
      "cell_type": "code",
      "metadata": {
        "colab": {
          "background_save": true,
          "base_uri": "https://localhost:8080/"
        },
        "id": "S8NPehCAM-Kw",
        "outputId": "51955aec-8470-4410-b2ad-777cf19b703c"
      },
      "source": [
        "# budget = 15\n",
        "# msi_list = []\n",
        "# for i in range(1, budget+1):\n",
        "#   x = computeBLScore(G2)\n",
        "#   neighbour_list = list(G2.neighbors(x))\n",
        "#   for y in neighbour_list:\n",
        "#     if G2.has_edge(y,x):\n",
        "#       G2.remove_edge(y,x)\n",
        "#     if G2.has_edge(x,y):\n",
        "#       G2.remove_edge(x,y)\n",
        "#   G2.remove_node(x)\n",
        "#   print(x)\n",
        "#   msi_list.append(x)\n"
      ],
      "execution_count": null,
      "outputs": [
        {
          "output_type": "stream",
          "text": [
            "4925806\n",
            "5409845\n",
            "4713329\n",
            "5015595\n",
            "4567640\n",
            "5747359\n",
            "5234847\n",
            "4701423\n",
            "5024959\n",
            "4902640\n",
            "5432103\n",
            "5063168\n",
            "5783470\n",
            "4546535\n",
            "4636834\n"
          ],
          "name": "stdout"
        }
      ]
    },
    {
      "cell_type": "code",
      "metadata": {
        "id": "C4XXCk02Tzt5"
      },
      "source": [
        "msi_list"
      ],
      "execution_count": null,
      "outputs": []
    },
    {
      "cell_type": "code",
      "metadata": {
        "id": "yDX3t9ZFNLuz"
      },
      "source": [
        "G_mti = G.copy()"
      ],
      "execution_count": null,
      "outputs": []
    },
    {
      "cell_type": "code",
      "metadata": {
        "id": "2OrLlOXmNMws"
      },
      "source": [
        "budget = 5\n",
        "mti_list = []\n",
        "l = []"
      ],
      "execution_count": null,
      "outputs": []
    },
    {
      "cell_type": "code",
      "metadata": {
        "colab": {
          "base_uri": "https://localhost:8080/"
        },
        "id": "2rnEkZP3NP5t",
        "outputId": "39ed5092-20dc-4049-b167-6282b178da61"
      },
      "source": [
        "nx.is_directed(G_mti)"
      ],
      "execution_count": null,
      "outputs": [
        {
          "output_type": "execute_result",
          "data": {
            "text/plain": [
              "True"
            ]
          },
          "metadata": {
            "tags": []
          },
          "execution_count": 40
        }
      ]
    },
    {
      "cell_type": "code",
      "metadata": {
        "colab": {
          "base_uri": "https://localhost:8080/"
        },
        "id": "UlbKg0_ONSpL",
        "outputId": "47913384-6ec3-455f-c7ea-073aaf6303db"
      },
      "source": [
        "for i in range(1, budget+1):\n",
        "  print(G_mti.number_of_nodes())\n",
        "  x = computeBLScore(G_mti)\n",
        "  mti_list.append(x)\n",
        "  l.append(x)\n",
        "  while len(l)>0:\n",
        "    y = l[0]\n",
        "    neighbour_list = list(G_mti.neighbors(y))   \n",
        "    for z in neighbour_list:\n",
        "      test_set = set(l)\n",
        "      if z not in test_set:\n",
        "        l.append(z)\n",
        "      if G_mti.has_edge(y,z):\n",
        "        G_mti.remove_edge(y,z)\n",
        "      if G_mti.has_edge(z,y):\n",
        "        G_mti.remove_edge(z,y)\n",
        "    # G_mti.remove_node(y)\n",
        "    l.pop(0)\n",
        "      # if G_mti.has_edge(z,y):\n",
        "      #   l.append(z)\n",
        "      #   G_mti.remove_edge(z,y)\n",
        "    # G_mti.remove_node(y)"
      ],
      "execution_count": null,
      "outputs": [
        {
          "output_type": "stream",
          "text": [
            "633587\n",
            "633587\n",
            "633587\n",
            "633587\n",
            "633587\n"
          ],
          "name": "stdout"
        }
      ]
    },
    {
      "cell_type": "code",
      "metadata": {
        "colab": {
          "base_uri": "https://localhost:8080/"
        },
        "id": "41Dj9SEgNy_W",
        "outputId": "d8c20dfb-e7d3-4b50-b785-f8831830f418"
      },
      "source": [
        "mti_list"
      ],
      "execution_count": null,
      "outputs": [
        {
          "output_type": "execute_result",
          "data": {
            "text/plain": [
              "[4925806, 5409845, 5063168]"
            ]
          },
          "metadata": {
            "tags": []
          },
          "execution_count": 56
        }
      ]
    },
    {
      "cell_type": "code",
      "metadata": {
        "colab": {
          "base_uri": "https://localhost:8080/"
        },
        "id": "T-HN_-cyJW-J",
        "outputId": "6978aa09-30f3-4b21-c5e3-824731232701"
      },
      "source": [
        "for node in msi_list:\n",
        "  print(G.nodes[node]['title']+\",\"+str(node))"
      ],
      "execution_count": null,
      "outputs": [
        {
          "output_type": "stream",
          "text": [
            "Semiconductor Device Manufacturing: Process,5015595\n",
            "Semiconductor Device Manufacturing: Process,4567640\n",
            "Semiconductor Device Manufacturing: Process,5432103\n",
            "Semiconductor Device Manufacturing: Process,5234847\n",
            "Semiconductor Device Manufacturing: Process,5413966\n"
          ],
          "name": "stdout"
        }
      ]
    },
    {
      "cell_type": "code",
      "metadata": {
        "colab": {
          "base_uri": "https://localhost:8080/"
        },
        "id": "xns8vPVyOkow",
        "outputId": "250460ca-8ede-4ea2-c078-227253959037"
      },
      "source": [
        "for node in mtmi_list:\n",
        "  print(G.nodes[node]['title']+\",\"+str(node))\n"
      ],
      "execution_count": null,
      "outputs": [
        {
          "output_type": "stream",
          "text": [
            "Active Solid-State Devices (e.g., Transistors, Solid-State Diodes),5557131\n",
            "Semiconductor Device Manufacturing: Process,5747359\n",
            "Semiconductor Device Manufacturing: Process,5413966\n",
            "Semiconductor Device Manufacturing: Process,5432103\n",
            "Semiconductor Device Manufacturing: Process,5234847\n"
          ],
          "name": "stdout"
        }
      ]
    },
    {
      "cell_type": "markdown",
      "metadata": {
        "id": "JS23G8uI9Adu"
      },
      "source": [
        "**Color Code**\n",
        "1.   Yellow : MSI and MTI\n",
        "2.   Red: MSI\n",
        "3.   Green : MTI\n",
        "4.   Blue: Neither "
      ]
    },
    {
      "cell_type": "code",
      "metadata": {
        "id": "iRKKV5ULJCG9"
      },
      "source": [
        "for node in G.nodes():\n",
        "  if node in msi_list and node in mti_list:\n",
        "    G.nodes[node]['colour'] = 'yellow'\n",
        "  elif node in msi_list:\n",
        "    G.nodes[node]['colour'] = 'red'\n",
        "  elif node in mti_list:\n",
        "    G.nodes[node]['colour'] = 'green'\n",
        "  else:\n",
        "    G.nodes[node]['colour'] = 'blue'"
      ],
      "execution_count": null,
      "outputs": []
    },
    {
      "cell_type": "code",
      "metadata": {
        "id": "jahKRMTyJQb8"
      },
      "source": [
        "nx.write_gexf(G, \"Patent.gexf\")"
      ],
      "execution_count": null,
      "outputs": []
    },
    {
      "cell_type": "code",
      "metadata": {
        "id": "YjqmyuKR6ZDX"
      },
      "source": [
        "hard_msi_list = [5015595,4567640,5432103,5234847,5413966]\n",
        "hard_mti_list = [5557131,5747359,5413966,5432103,5234847]\n",
        "for node in G.nodes():\n",
        "  if node in hard_msi_list and node in hard_mti_list:\n",
        "    G.nodes[node]['colour'] = 'yellow'\n",
        "  elif node in hard_msi_list:\n",
        "    G.nodes[node]['colour'] = 'red'\n",
        "  elif node in hard_mti_list:\n",
        "    G.nodes[node]['colour'] = 'green'\n",
        "  else:\n",
        "    G.nodes[node]['colour'] = 'blue'"
      ],
      "execution_count": null,
      "outputs": []
    },
    {
      "cell_type": "code",
      "metadata": {
        "id": "LDNlqW2H6nA5"
      },
      "source": [
        "nx.write_gexf(G, \"Patent.gexf\")"
      ],
      "execution_count": null,
      "outputs": []
    },
    {
      "cell_type": "code",
      "metadata": {
        "colab": {
          "base_uri": "https://localhost:8080/"
        },
        "id": "-Evz_EuR7HDg",
        "outputId": "865e94df-9914-4684-ecb4-6cfc251c49fc"
      },
      "source": [
        "for node_marg in top_marginal_nodes:\n",
        "  print(G.nodes[node_marg]['title']+\",\"+str(node_marg))"
      ],
      "execution_count": null,
      "outputs": [
        {
          "output_type": "stream",
          "text": [
            "Semiconductor Device Manufacturing: Process,4925806\n",
            "Semiconductor Device Manufacturing: Process,5409845\n",
            "Semiconductor Device Manufacturing: Process,5063168\n",
            "Semiconductor Device Manufacturing: Process,4713329\n",
            "Active Solid-State Devices (e.g., Transistors, Solid-State Diodes),5557131\n",
            "Semiconductor Device Manufacturing: Process,5747359\n",
            "Semiconductor Device Manufacturing: Process,5015595\n",
            "Semiconductor Device Manufacturing: Process,4567640\n",
            "Semiconductor Device Manufacturing: Process,5432103\n",
            "Semiconductor Device Manufacturing: Process,5234847\n",
            "Semiconductor Device Manufacturing: Process,5413966\n",
            "Semiconductor Device Manufacturing: Process,4701423\n",
            "Semiconductor Device Manufacturing: Process,5024959\n",
            "Semiconductor Device Manufacturing: Process,4902640\n",
            "Semiconductor Device Manufacturing: Process,5783470\n",
            "Active Solid-State Devices (e.g., Transistors, Solid-State Diodes),5166771\n",
            "Semiconductor Device Manufacturing: Process,4546535\n",
            "Semiconductor Device Manufacturing: Process,5298440\n",
            "Active Solid-State Devices (e.g., Transistors, Solid-State Diodes),4636834\n",
            "Semiconductor Device Manufacturing: Process,4933295\n"
          ],
          "name": "stdout"
        }
      ]
    },
    {
      "cell_type": "code",
      "metadata": {
        "colab": {
          "base_uri": "https://localhost:8080/"
        },
        "id": "17vZIqCpua8v",
        "outputId": "efb616b3-d384-4a10-9e76-cf4e7fe1f309"
      },
      "source": [
        "for node_bene in top_benefit_nodes:\n",
        "  print(G.nodes[node_bene]['title']+\",\"+str(node_bene))"
      ],
      "execution_count": null,
      "outputs": [
        {
          "output_type": "stream",
          "text": [
            "Telecommunications,5771455\n",
            "Semiconductor Device Manufacturing: Process,4925806\n",
            "Semiconductor Device Manufacturing: Process,5780323\n",
            "Active Solid-State Devices (e.g., Transistors, Solid-State Diodes),5763898\n",
            "Semiconductor Device Manufacturing: Process,5063168\n",
            "Active Solid-State Devices (e.g., Transistors, Solid-State Diodes),5557131\n",
            "Multiplex Communications,5818820\n",
            "Semiconductor Device Manufacturing: Process,5413966\n",
            "Semiconductor Device Manufacturing: Process,5409845\n",
            "Multiplex Communications,5768264\n",
            "Multiplex Communications,5787076\n",
            "Telecommunications,5815799\n",
            "Active Solid-State Devices (e.g., Transistors, Solid-State Diodes),5789764\n",
            "Telecommunications,5734981\n",
            "Pulse or Digital Communications,5815525\n",
            "Multiplex Communications,5671219\n",
            "Semiconductor Device Manufacturing: Process,5248625\n",
            "Telecommunications,5613196\n",
            "Semiconductor Device Manufacturing: Process,5747359\n",
            "Chemistry: Analytical and Immunological Testing,5607863\n"
          ],
          "name": "stdout"
        }
      ]
    },
    {
      "cell_type": "code",
      "metadata": {
        "colab": {
          "base_uri": "https://localhost:8080/"
        },
        "id": "qewlXavLu8fu",
        "outputId": "f68a3f1f-88c2-4977-e62b-c4c80a7dc5ae"
      },
      "source": [
        "mi_nodes = []\n",
        "top_k_mi_nodes = []\n",
        "threshold = 0.9999\n",
        "for nodes in G.nodes():\n",
        "  if G.nodes[nodes]['Matching Score'] > threshold:\n",
        "    mi_nodes.append(nodes)\n",
        "\n",
        "top_k_mi_nodes = random.sample(mi_nodes, 5)\n",
        "for node in top_k_mi_nodes:\n",
        "  print(G.nodes[node]['title']+\",\"+str(node))"
      ],
      "execution_count": null,
      "outputs": [
        {
          "output_type": "stream",
          "text": [
            "Semiconductor Device Manufacturing: Process,4259366\n",
            "Semiconductor Device Manufacturing: Process,4702792\n",
            "Semiconductor Device Manufacturing: Process,5466626\n",
            "Semiconductor Device Manufacturing: Process,5264380\n",
            "Semiconductor Device Manufacturing: Process,4968628\n"
          ],
          "name": "stdout"
        }
      ]
    },
    {
      "cell_type": "code",
      "metadata": {
        "id": "gEmc8ZcPwMDe"
      },
      "source": [
        ""
      ],
      "execution_count": null,
      "outputs": []
    }
  ]
}